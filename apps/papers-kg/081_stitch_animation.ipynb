{
 "cells": [
  {
   "cell_type": "code",
   "execution_count": null,
   "metadata": {},
   "outputs": [],
   "source": [
    "import os\n",
    "from os import listdir\n",
    "from os.path import isfile, join\n",
    "\n",
    "import imageio.v2 as imageio"
   ]
  },
  {
   "cell_type": "code",
   "execution_count": null,
   "metadata": {},
   "outputs": [],
   "source": [
    "GRAPH_SCREENSHOTS = 'screenshots'"
   ]
  },
  {
   "cell_type": "code",
   "execution_count": null,
   "metadata": {},
   "outputs": [],
   "source": [
    "#list of full path file names of the graph html files in the creation date order\n",
    "jpeg_files = [join(GRAPH_SCREENSHOTS, f) for f in listdir(GRAPH_SCREENSHOTS) if isfile(join(GRAPH_SCREENSHOTS, f))]\n",
    "#print(html_files)\n",
    "jpeg_files.sort(key=lambda x: os.path.getctime(x))\n",
    "jpeg_frames = len(jpeg_files)\n",
    "jpeg_frames"
   ]
  },
  {
   "cell_type": "code",
   "execution_count": null,
   "metadata": {},
   "outputs": [],
   "source": [
    "import matplotlib.pyplot as plt\n",
    "from matplotlib.animation import FuncAnimation, ImageMagickWriter\n",
    "\n",
    "nframes = jpeg_frames\n",
    "#plt.subplots_adjust(top=1, bottom=0, left=0, right=1) \n",
    "\n",
    "def animate(i):\n",
    "    im = plt.imread(jpeg_files[i])\n",
    "    movieImage.set_array(im)\n",
    "    return movieImage\n",
    "\n",
    "\n",
    "plt.axis('off')\n",
    "plt.box(False)\n",
    "\n",
    "fig = plt.figure(frameon=False)\n",
    "fig.set_size_inches(3,3.5)\n",
    "ax = plt.Axes(fig, [0., 0., 1., 1.])\n",
    "ax.set_axis_off()\n",
    "fig.add_axes(ax)\n",
    "\n",
    "im = plt.imread(jpeg_files[0])\n",
    "movieImage = ax.imshow(im, aspect='auto')\n",
    "\n",
    "anim = FuncAnimation(fig, animate, frames=nframes, interval=(20000.0/nframes), repeat=False)\n",
    "anim.save('output.gif', writer=ImageMagickWriter(fps=5, extra_args=['-loop', '2']), savefig_kwargs = {'pad_inches':0} )"
   ]
  }
 ],
 "metadata": {
  "kernelspec": {
   "display_name": "ray39",
   "language": "python",
   "name": "python3"
  },
  "language_info": {
   "codemirror_mode": {
    "name": "ipython",
    "version": 3
   },
   "file_extension": ".py",
   "mimetype": "text/x-python",
   "name": "python",
   "nbconvert_exporter": "python",
   "pygments_lexer": "ipython3",
   "version": "3.9.15"
  },
  "orig_nbformat": 4
 },
 "nbformat": 4,
 "nbformat_minor": 2
}
