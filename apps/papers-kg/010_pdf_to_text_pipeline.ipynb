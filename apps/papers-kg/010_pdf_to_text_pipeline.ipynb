{
 "cells": [
  {
   "cell_type": "markdown",
   "metadata": {},
   "source": [
    "# KG index pdf-to-text pipeline"
   ]
  },
  {
   "cell_type": "code",
   "execution_count": null,
   "metadata": {},
   "outputs": [],
   "source": [
    "import os\n",
    "import sys\n",
    "import json\n",
    "import pathlib\n",
    "import logging\n",
    "from datetime import datetime\n",
    "\n",
    "import fitz\n",
    "\n",
    "logging.basicConfig(stream=sys.stdout, level=logging.INFO)"
   ]
  },
  {
   "cell_type": "code",
   "execution_count": null,
   "metadata": {},
   "outputs": [],
   "source": [
    "CORPUS = 'ArxivHealthcareNLP'\n",
    "#CORPUS = 'arxiv_cl'"
   ]
  },
  {
   "cell_type": "code",
   "execution_count": null,
   "metadata": {},
   "outputs": [],
   "source": [
    "def load_properties(filepath, sep='=', comment_char='#'):\n",
    "    '''\n",
    "    Read the file passed as parameter as a properties file.\n",
    "    '''\n",
    "    props = {}\n",
    "    with open(filepath, \"rt\") as f:\n",
    "        for line in f:\n",
    "            l = line.strip()\n",
    "            if l and not l.startswith(comment_char):\n",
    "                key_value = l.split(sep)\n",
    "                key = key_value[0].strip()\n",
    "                value = sep.join(key_value[1:]).strip().strip('\"') \n",
    "                props[key] = value \n",
    "    return props\n",
    "\n",
    "corpus_properties = load_properties(f\"corpora/{CORPUS}.properties\")\n",
    "corpus_properties"
   ]
  },
  {
   "cell_type": "code",
   "execution_count": null,
   "metadata": {},
   "outputs": [],
   "source": [
    "CORPUS_BASE = corpus_properties['corpus_base']\n",
    "PDF_BASE = f'{CORPUS_BASE}/pdf/'\n",
    "JSON_BASE = f'{CORPUS_BASE}/json_raw/'\n",
    "\n",
    "if not os.path.exists(JSON_BASE):\n",
    "    print(f'{JSON_BASE} does not exist. Creating.')\n",
    "    os.makedirs(JSON_BASE)"
   ]
  },
  {
   "cell_type": "code",
   "execution_count": null,
   "metadata": {},
   "outputs": [],
   "source": [
    "from os import listdir\n",
    "from os.path import isfile, join\n",
    "pdf_files = [f for f in listdir(PDF_BASE) if isfile(join(PDF_BASE, f))]\n",
    "print(f'Converting {len(pdf_files)} PDF files to text/json.')"
   ]
  },
  {
   "cell_type": "code",
   "execution_count": null,
   "metadata": {},
   "outputs": [],
   "source": [
    "def fix_document_name(document, pdf_name):\n",
    "    #normalize to the pdf name\n",
    "    document.metadata['title'] = pdf_name\n"
   ]
  },
  {
   "cell_type": "code",
   "execution_count": null,
   "metadata": {},
   "outputs": [],
   "source": [
    "def get_pdf_content(document):\n",
    "    content = \"\"\n",
    "    for page in document:\n",
    "        content += page.get_text()\n",
    "    return content"
   ]
  },
  {
   "cell_type": "code",
   "execution_count": null,
   "metadata": {},
   "outputs": [],
   "source": [
    "def is_pymupdf_extractable(document,content):\n",
    "    #print(document.metadata['creator'])\n",
    "    acceptable_creator = ['Springer','Pages', 'LaTeX with hyperref', \n",
    "                          'LaTeX with acmart 2020/04/30 v1.71 Typesetting articles for the Association for Computing Machinery and hyperref 2020-05-15 v7.00e Hypertext links for LaTeX',\n",
    "                          'LaTeX with acmart 2022/02/19 v1.83 Typesetting articles for the Association for Computing Machinery and hyperref 2020-05-15 v7.00e Hypertext links for LaTeX']\n",
    "    words_threshold = 200\n",
    "    #if (document.metadata['creator'] in acceptable_creator) and (len(content) > words_threshold):\n",
    "    if (len(content) > words_threshold):\n",
    "        return True\n",
    "    else:\n",
    "        print(f'Document too short: {len(content)} characters {document.metadata[\"title\"]} {document.metadata[\"creator\"]}')\n",
    "        return False\n",
    "    \n",
    "def write_json_file(filename, content):\n",
    "    pathlib.Path(JSON_BASE+filename).write_bytes(content.encode('utf-8').strip())\n",
    "\n",
    "def save_content(document,content):\n",
    "    document_dict = dict()\n",
    "    filename = document.metadata['title']+'.json'\n",
    "    document_dict['title'] = document.metadata['title']\n",
    "    document_dict['text'] = content\n",
    "    document_dict['extraction_date'] = str(datetime.utcnow())\n",
    "    document_dict['num_pages'] = document.page_count\n",
    "    json_object = json.dumps(document_dict) \n",
    "    write_json_file(filename,json_object)"
   ]
  },
  {
   "cell_type": "code",
   "execution_count": null,
   "metadata": {},
   "outputs": [],
   "source": [
    "\n",
    "for pdf_name in pdf_files:\n",
    "    file_name = f'{JSON_BASE}/{pdf_name}.json'\n",
    "    if(os.path.exists(file_name)):\n",
    "        #print(f'File converted, skipping: {file_name}')\n",
    "        continue\n",
    "    try:\n",
    "        with fitz.open(join(PDF_BASE, pdf_name)) as document:\n",
    "            content = get_pdf_content(document)\n",
    "            fix_document_name(document, pdf_name)\n",
    "            if is_pymupdf_extractable(document,content):\n",
    "                save_content(document,content)\n",
    "    except Exception as e:\n",
    "        print(f'Cannot process {file_name} because {e}')\n",
    "\n"
   ]
  }
 ],
 "metadata": {
  "kernelspec": {
   "display_name": "ray39",
   "language": "python",
   "name": "python3"
  },
  "language_info": {
   "codemirror_mode": {
    "name": "ipython",
    "version": 3
   },
   "file_extension": ".py",
   "mimetype": "text/x-python",
   "name": "python",
   "nbconvert_exporter": "python",
   "pygments_lexer": "ipython3",
   "version": "3.9.15"
  },
  "orig_nbformat": 4
 },
 "nbformat": 4,
 "nbformat_minor": 2
}
