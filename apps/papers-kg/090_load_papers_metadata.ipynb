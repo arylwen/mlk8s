{
 "cells": [
  {
   "cell_type": "code",
   "execution_count": 1,
   "metadata": {},
   "outputs": [
    {
     "data": {
      "text/plain": [
       "True"
      ]
     },
     "execution_count": 1,
     "metadata": {},
     "output_type": "execute_result"
    }
   ],
   "source": [
    "#import os\n",
    "import json\n",
    "#import pandas as pd\n",
    "from datetime import datetime\n",
    "\n",
    "import boto3\n",
    "from botocore.exceptions import ClientError\n",
    "\n",
    "from dotenv import load_dotenv\n",
    "load_dotenv()"
   ]
  },
  {
   "cell_type": "code",
   "execution_count": 2,
   "metadata": {},
   "outputs": [],
   "source": [
    "# add these variables to the .env file\n",
    "#AWS_ACCESS_KEY_ID = os.environ.get('AWS_ACCESS_KEY_ID')\n",
    "#AWS_SECRET_ACCESS_KEY = os.environ.get('AWS_SECRET_ACCESS_KEY')"
   ]
  },
  {
   "cell_type": "code",
   "execution_count": 3,
   "metadata": {},
   "outputs": [],
   "source": [
    "\n",
    "import logging\n",
    "logger = logging.getLogger(__name__)\n",
    "\n",
    "__LOCAL__ = True\n",
    "\n",
    "if(__LOCAL__):\n",
    "    dynamodb = boto3.resource('dynamodb', \n",
    "                                endpoint_url='http://10.0.0.179:31942', \n",
    "                                region_name='us-west-2',\n",
    "                                aws_access_key_id='abc123',\n",
    "                                aws_secret_access_key= 'abc123'\n",
    "                            ) \n",
    "else:\n",
    "    session = boto3.Session(region_name='us-west-2')\n",
    "    dynamodb = session.resource('dynamodb')\n",
    "\n",
    "class ArxivMetadata:\n",
    "    \"\"\"Encapsulates an Amazon DynamoDB table of request data.\"\"\"\n",
    "    def __init__(self, dyn_resource):\n",
    "        \"\"\"\n",
    "        :param dyn_resource: A Boto3 DynamoDB resource.\n",
    "        \"\"\"\n",
    "        self.dyn_resource = dyn_resource\n",
    "        self.table = None\n",
    "\n",
    "    def exists(self, table_name):\n",
    "        \"\"\"\n",
    "        Determines whether a table exists. As a side effect, stores the table in\n",
    "        a member variable.\n",
    "        :param table_name: The name of the table to check.\n",
    "        :return: True when the table exists; otherwise, False.\n",
    "        \"\"\"\n",
    "        try:\n",
    "            table = self.dyn_resource.Table(table_name)\n",
    "            table.load()\n",
    "            exists = True\n",
    "        except ClientError as err:\n",
    "            if err.response['Error']['Code'] == 'ResourceNotFoundException':\n",
    "                exists = False\n",
    "            else:\n",
    "                logger.error(\n",
    "                    \"Couldn't check for existence of %s. Here's why: %s: %s\",\n",
    "                    table_name,\n",
    "                    err.response['Error']['Code'], err.response['Error']['Message'])\n",
    "                raise\n",
    "        else:\n",
    "            self.table = table\n",
    "        return exists\n",
    "    \n",
    "    def create_table(self, table_name):\n",
    "        \"\"\"\n",
    "        Creates an Amazon DynamoDB table that can be used to store request data.\n",
    "        The table uses the article submission {yearmonth} as hash key and the article id as sort key.\n",
    "        :param table_name: The name of the table to create.\n",
    "        :return: The newly created table.\n",
    "        \"\"\"\n",
    "        try:\n",
    "            self.table = self.dyn_resource.create_table(\n",
    "                TableName=table_name,\n",
    "                KeySchema=[\n",
    "                    {'AttributeName': 'yearmonth', 'KeyType': 'HASH'},  # Partition key\n",
    "                    {'AttributeName': 'id', 'KeyType': 'RANGE'}  # Sort key\n",
    "                ],\n",
    "                AttributeDefinitions=[\n",
    "                    {'AttributeName': 'yearmonth', 'AttributeType': 'S'},\n",
    "                    {'AttributeName': 'id', 'AttributeType': 'S'},\n",
    "                ],\n",
    "                ProvisionedThroughput={'ReadCapacityUnits': 10, 'WriteCapacityUnits': 10})\n",
    "            self.table.wait_until_exists()\n",
    "        except ClientError as err:\n",
    "            logger.error(\n",
    "                \"Couldn't create table %s. Here's why: %s: %s\", table_name,\n",
    "                err.response['Error']['Code'], err.response['Error']['Message'])\n",
    "            raise\n",
    "        else:\n",
    "            return self.table\n",
    "        \n",
    "    def log_request(self, req_timestamp_str, model, request_str, response_str, rating = 0):\n",
    "        \"\"\"\n",
    "        Log a request to the table.\n",
    "        # TODO\n",
    "        :param title: The title of the movie.\n",
    "        :param year: The release year of the movie.\n",
    "        :param plot: The plot summary of the movie.\n",
    "        :param rating: The quality rating of the movie.\n",
    "        \"\"\"\n",
    "        try:\n",
    "            self.table.put_item(\n",
    "                Item={\n",
    "                    'timestamp': req_timestamp_str,\n",
    "                    'model': model,\n",
    "                    'request': request_str,\n",
    "                    'response': response_str,\n",
    "                    'rating': rating,\n",
    "                }\n",
    "            )\n",
    "        except ClientError as err:\n",
    "            logger.error(\n",
    "                \"Couldn't add request log %s to table %s. Here's why: %s: %s\",\n",
    "                model, self.table.name,\n",
    "                err.response['Error']['Code'], err.response['Error']['Message'])\n",
    "            raise    \n",
    "    \n",
    "    def add_request_log_entry(self, query_model, req, resp, rating=0):\n",
    "        \"\"\"\n",
    "            Logs the cuurent model, req and response\n",
    "        \"\"\"\n",
    "        today = datetime.now()\n",
    "        # Get current ISO 8601 datetime in string format\n",
    "        iso_date = today.isoformat()        \n",
    "        self.log_request(iso_date, query_model, req, resp, rating)\n",
    "\n",
    "table_name = 'arxiv-metadata'\n"
   ]
  },
  {
   "cell_type": "code",
   "execution_count": 4,
   "metadata": {},
   "outputs": [],
   "source": [
    "def get_arxiv_metadata():\n",
    "    arxiv_metadata = ArxivMetadata(dynamodb)\n",
    "    arxiv_metadata_exists = arxiv_metadata.exists(table_name)\n",
    "    if not arxiv_metadata_exists:\n",
    "        print(f\"\\nCreating table {table_name}...\")\n",
    "        arxiv_metadata.create_table(table_name)\n",
    "        print(f\"\\nCreated table {arxiv_metadata.table.name}.\")\n",
    "    return arxiv_metadata\n",
    "\n",
    "arxiv_metadata = get_arxiv_metadata()"
   ]
  },
  {
   "cell_type": "code",
   "execution_count": 5,
   "metadata": {},
   "outputs": [],
   "source": [
    "def load_arxiv_metadata(table):\n",
    "    with open(\"arxiv-metadata-oai-snapshot.json\") as f1:\n",
    "        with table.batch_writer() as batch:\n",
    "            for line in f1:\n",
    "                metadata_record = json.loads(line)\n",
    "                yearmonth = metadata_record['id'].split('.')[0]\n",
    "                metadata_record['yearmonth'] = yearmonth\n",
    "                batch.put_item(metadata_record)\n",
    "\n",
    "load_arxiv_metadata(arxiv_metadata.table)"
   ]
  },
  {
   "cell_type": "code",
   "execution_count": 6,
   "metadata": {},
   "outputs": [],
   "source": [
    "from boto3.dynamodb.conditions import Key\n",
    "\n",
    "#2308.08625\n",
    "\n",
    "response = arxiv_metadata.table.query(\n",
    "    #KeyConditionExpression=Key('yearmonth').eq('1201') & Key('id').eq('1201.6082')\n",
    "    #KeyConditionExpression=Key('yearmonth').eq('2306') & Key('id').eq('2306.11589'))\n",
    "    KeyConditionExpression=Key('yearmonth').eq('1401') & Key('id').eq('1401.3841'))"
   ]
  },
  {
   "cell_type": "code",
   "execution_count": 7,
   "metadata": {},
   "outputs": [
    {
     "data": {
      "text/plain": [
       "{'Items': [{'submitter': 'Mark Owen Riedl',\n",
       "   'comments': None,\n",
       "   'abstract': '  Narrative, and in particular storytelling, is an important part of the human\\nexperience. Consequently, computational systems that can reason about narrative\\ncan be more effective communicators, entertainers, educators, and trainers. One\\nof the central challenges in computational narrative reasoning is narrative\\ngeneration, the automated creation of meaningful event sequences. There are\\nmany factors -- logical and aesthetic -- that contribute to the success of a\\nnarrative artifact. Central to this success is its understandability. We argue\\nthat the following two attributes of narratives are universal: (a) the logical\\ncausal progression of plot, and (b) character believability. Character\\nbelievability is the perception by the audience that the actions performed by\\ncharacters do not negatively impact the audiences suspension of disbelief.\\nSpecifically, characters must be perceived by the audience to be intentional\\nagents. In this article, we explore the use of refinement search as a technique\\nfor solving the narrative generation problem -- to find a sound and believable\\nsequence of character actions that transforms an initial world state into a\\nworld state in which goal propositions hold. We describe a novel refinement\\nsearch planning algorithm -- the Intent-based Partial Order Causal Link (IPOCL)\\nplanner -- that, in addition to creating causally sound plot progression,\\nreasons about character intentionality by identifying possible character goals\\nthat explain their actions and creating plan structures that explain why those\\ncharacters commit to their goals. We present the results of an empirical\\nevaluation that demonstrates that narrative plans generated by the IPOCL\\nalgorithm support audience comprehension of character intentions better than\\nplans generated by conventional partial-order planners.\\n',\n",
       "   'yearmonth': '1401',\n",
       "   'title': 'Narrative Planning: Balancing Plot and Character',\n",
       "   'update_date': '2014-01-17',\n",
       "   'authors_parsed': [['Riedl', 'Mark Owen', ''],\n",
       "    ['Young', 'Robert Michael', '']],\n",
       "   'journal-ref': 'Journal Of Artificial Intelligence Research, Volume 39, pages\\n  217-268, 2010',\n",
       "   'license': 'http://arxiv.org/licenses/nonexclusive-distrib/1.0/',\n",
       "   'report-no': None,\n",
       "   'versions': [{'version': 'v1', 'created': 'Thu, 16 Jan 2014 04:54:07 GMT'}],\n",
       "   'id': '1401.3841',\n",
       "   'categories': 'cs.AI',\n",
       "   'authors': 'Mark Owen Riedl, Robert Michael Young',\n",
       "   'doi': '10.1613/jair.2989'}],\n",
       " 'Count': 1,\n",
       " 'ScannedCount': 1,\n",
       " 'ResponseMetadata': {'RequestId': '63936203-703a-41cd-b514-9eb0bded467f',\n",
       "  'HTTPStatusCode': 200,\n",
       "  'HTTPHeaders': {'date': 'Sun, 24 Dec 2023 23:33:59 GMT',\n",
       "   'x-amzn-requestid': '63936203-703a-41cd-b514-9eb0bded467f',\n",
       "   'content-type': 'application/x-amz-json-1.0',\n",
       "   'x-amz-crc32': '205888140',\n",
       "   'content-length': '2656',\n",
       "   'server': 'Jetty(11.0.17)'},\n",
       "  'RetryAttempts': 0}}"
      ]
     },
     "execution_count": 7,
     "metadata": {},
     "output_type": "execute_result"
    }
   ],
   "source": [
    "response"
   ]
  }
 ],
 "metadata": {
  "kernelspec": {
   "display_name": "airflow",
   "language": "python",
   "name": "python3"
  },
  "language_info": {
   "codemirror_mode": {
    "name": "ipython",
    "version": 3
   },
   "file_extension": ".py",
   "mimetype": "text/x-python",
   "name": "python",
   "nbconvert_exporter": "python",
   "pygments_lexer": "ipython3",
   "version": "3.9.15"
  },
  "orig_nbformat": 4
 },
 "nbformat": 4,
 "nbformat_minor": 2
}
