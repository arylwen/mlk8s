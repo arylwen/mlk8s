{
 "cells": [
  {
   "cell_type": "code",
   "execution_count": 1,
   "metadata": {},
   "outputs": [
    {
     "data": {
      "text/plain": [
       "True"
      ]
     },
     "execution_count": 1,
     "metadata": {},
     "output_type": "execute_result"
    }
   ],
   "source": [
    "import os\n",
    "import json\n",
    "import pandas as pd\n",
    "from datetime import datetime\n",
    "\n",
    "import boto3\n",
    "from botocore.exceptions import ClientError\n",
    "\n",
    "from dotenv import load_dotenv\n",
    "load_dotenv()"
   ]
  },
  {
   "cell_type": "code",
   "execution_count": 2,
   "metadata": {},
   "outputs": [],
   "source": [
    "# add these variables to the .env file\n",
    "#AWS_ACCESS_KEY_ID = os.environ.get('AWS_ACCESS_KEY_ID')\n",
    "#AWS_SECRET_ACCESS_KEY = os.environ.get('AWS_SECRET_ACCESS_KEY')"
   ]
  },
  {
   "cell_type": "code",
   "execution_count": 3,
   "metadata": {},
   "outputs": [],
   "source": [
    "\n",
    "import logging\n",
    "logger = logging.getLogger(__name__)\n",
    "\n",
    "__LOCAL__ = True\n",
    "\n",
    "if(__LOCAL__):\n",
    "    dynamodb = boto3.resource('dynamodb', endpoint_url='http://10.0.0.179:31942') \n",
    "else:\n",
    "    session = boto3.Session(region_name='us-west-2')\n",
    "    dynamodb = session.resource('dynamodb')\n",
    "\n",
    "class ArxivMetadata:\n",
    "    \"\"\"Encapsulates an Amazon DynamoDB table of request data.\"\"\"\n",
    "    def __init__(self, dyn_resource):\n",
    "        \"\"\"\n",
    "        :param dyn_resource: A Boto3 DynamoDB resource.\n",
    "        \"\"\"\n",
    "        self.dyn_resource = dyn_resource\n",
    "        self.table = None\n",
    "\n",
    "    def exists(self, table_name):\n",
    "        \"\"\"\n",
    "        Determines whether a table exists. As a side effect, stores the table in\n",
    "        a member variable.\n",
    "        :param table_name: The name of the table to check.\n",
    "        :return: True when the table exists; otherwise, False.\n",
    "        \"\"\"\n",
    "        try:\n",
    "            table = self.dyn_resource.Table(table_name)\n",
    "            table.load()\n",
    "            exists = True\n",
    "        except ClientError as err:\n",
    "            if err.response['Error']['Code'] == 'ResourceNotFoundException':\n",
    "                exists = False\n",
    "            else:\n",
    "                logger.error(\n",
    "                    \"Couldn't check for existence of %s. Here's why: %s: %s\",\n",
    "                    table_name,\n",
    "                    err.response['Error']['Code'], err.response['Error']['Message'])\n",
    "                raise\n",
    "        else:\n",
    "            self.table = table\n",
    "        return exists\n",
    "    \n",
    "    def create_table(self, table_name):\n",
    "        \"\"\"\n",
    "        Creates an Amazon DynamoDB table that can be used to store request data.\n",
    "        The table uses the article submission {yearmonth} as hash key and the article id as sort key.\n",
    "        :param table_name: The name of the table to create.\n",
    "        :return: The newly created table.\n",
    "        \"\"\"\n",
    "        try:\n",
    "            self.table = self.dyn_resource.create_table(\n",
    "                TableName=table_name,\n",
    "                KeySchema=[\n",
    "                    {'AttributeName': 'yearmonth', 'KeyType': 'HASH'},  # Partition key\n",
    "                    {'AttributeName': 'id', 'KeyType': 'RANGE'}  # Sort key\n",
    "                ],\n",
    "                AttributeDefinitions=[\n",
    "                    {'AttributeName': 'yearmonth', 'AttributeType': 'S'},\n",
    "                    {'AttributeName': 'id', 'AttributeType': 'S'},\n",
    "                ],\n",
    "                ProvisionedThroughput={'ReadCapacityUnits': 10, 'WriteCapacityUnits': 10})\n",
    "            self.table.wait_until_exists()\n",
    "        except ClientError as err:\n",
    "            logger.error(\n",
    "                \"Couldn't create table %s. Here's why: %s: %s\", table_name,\n",
    "                err.response['Error']['Code'], err.response['Error']['Message'])\n",
    "            raise\n",
    "        else:\n",
    "            return self.table\n",
    "        \n",
    "    def log_request(self, req_timestamp_str, model, request_str, response_str, rating = 0):\n",
    "        \"\"\"\n",
    "        Log a request to the table.\n",
    "        # TODO\n",
    "        :param title: The title of the movie.\n",
    "        :param year: The release year of the movie.\n",
    "        :param plot: The plot summary of the movie.\n",
    "        :param rating: The quality rating of the movie.\n",
    "        \"\"\"\n",
    "        try:\n",
    "            self.table.put_item(\n",
    "                Item={\n",
    "                    'timestamp': req_timestamp_str,\n",
    "                    'model': model,\n",
    "                    'request': request_str,\n",
    "                    'response': response_str,\n",
    "                    'rating': rating,\n",
    "                }\n",
    "            )\n",
    "        except ClientError as err:\n",
    "            logger.error(\n",
    "                \"Couldn't add request log %s to table %s. Here's why: %s: %s\",\n",
    "                model, self.table.name,\n",
    "                err.response['Error']['Code'], err.response['Error']['Message'])\n",
    "            raise    \n",
    "    \n",
    "    def add_request_log_entry(self, query_model, req, resp, rating=0):\n",
    "        \"\"\"\n",
    "            Logs the cuurent model, req and response\n",
    "        \"\"\"\n",
    "        today = datetime.now()\n",
    "        # Get current ISO 8601 datetime in string format\n",
    "        iso_date = today.isoformat()        \n",
    "        self.log_request(iso_date, query_model, req, resp, rating)\n",
    "\n",
    "table_name = 'arxiv-metadata'\n"
   ]
  },
  {
   "cell_type": "code",
   "execution_count": 4,
   "metadata": {},
   "outputs": [],
   "source": [
    "def get_arxiv_metadata():\n",
    "    arxiv_metadata = ArxivMetadata(dynamodb)\n",
    "    arxiv_metadata_exists = arxiv_metadata.exists(table_name)\n",
    "    if not arxiv_metadata_exists:\n",
    "        print(f\"\\nCreating table {table_name}...\")\n",
    "        arxiv_metadata.create_table(table_name)\n",
    "        print(f\"\\nCreated table {arxiv_metadata.table.name}.\")\n",
    "    return arxiv_metadata\n",
    "\n",
    "arxiv_metadata = get_arxiv_metadata()"
   ]
  },
  {
   "cell_type": "code",
   "execution_count": 5,
   "metadata": {},
   "outputs": [],
   "source": [
    "def load_arxiv_metadata(table):\n",
    "    with open(\"arxiv-metadata-oai-snapshot.json\") as f1:\n",
    "        with table.batch_writer() as batch:\n",
    "            for line in f1:\n",
    "                metadata_record = json.loads(line)\n",
    "                yearmonth = metadata_record['id'].split('.')[0]\n",
    "                metadata_record['yearmonth'] = yearmonth\n",
    "                batch.put_item(metadata_record)\n",
    "\n",
    "#load_arxiv_metadata(arxiv_metadata.table)"
   ]
  },
  {
   "cell_type": "code",
   "execution_count": 10,
   "metadata": {},
   "outputs": [],
   "source": [
    "from boto3.dynamodb.conditions import Key\n",
    "\n",
    "#2308.08625\n",
    "\n",
    "response = arxiv_metadata.table.query(\n",
    "    #KeyConditionExpression=Key('yearmonth').eq('1201') & Key('id').eq('1201.6082')\n",
    "    KeyConditionExpression=Key('yearmonth').eq('2306') & Key('id').eq('2306.03652'))"
   ]
  },
  {
   "cell_type": "code",
   "execution_count": 11,
   "metadata": {},
   "outputs": [
    {
     "data": {
      "text/plain": [
       "{'Items': [{'submitter': 'Maksim Eremeev',\n",
       "   'comments': 'ACL 2023 (main conference)',\n",
       "   'abstract': \"  Factual correctness is often the limiting factor in practical applications of\\nnatural language generation in high-stakes domains such as healthcare. An\\nessential requirement for maintaining factuality is the ability to deal with\\nrare tokens. This paper focuses on rare tokens that appear in both the source\\nand the reference sequences, and which, when missed during generation, decrease\\nthe factual correctness of the output text. For high-stake domains that are\\nalso knowledge-rich, we show how to use knowledge to (a) identify which rare\\ntokens that appear in both source and reference are important and (b) uplift\\ntheir conditional probability. We introduce the ``utilization rate'' that\\nencodes knowledge and serves as a regularizer by maximizing the marginal\\nprobability of selected tokens. We present a study in a knowledge-rich domain\\nof healthcare, where we tackle the problem of generating after-visit care\\ninstructions based on patient-doctor dialogues. We verify that, in our dataset,\\nspecific medical concepts with high utilization rates are underestimated by\\nconventionally trained sequence-to-sequence models. We observe that correcting\\nthis with our approach to knowledge injection reduces the uncertainty of the\\nmodel as well as improves factuality and coherence without negatively impacting\\nfluency.\\n\",\n",
       "   'yearmonth': '2306',\n",
       "   'title': 'Injecting knowledge into language generation: a case study in\\n  auto-charting after-visit care instructions from medical dialogue',\n",
       "   'update_date': '2023-06-07',\n",
       "   'authors_parsed': [['Eremeev', 'Maksim', ''],\n",
       "    ['Valmianski', 'Ilya', ''],\n",
       "    ['Amatriain', 'Xavier', ''],\n",
       "    ['Kannan', 'Anitha', '']],\n",
       "   'journal-ref': None,\n",
       "   'license': 'http://creativecommons.org/licenses/by/4.0/',\n",
       "   'report-no': None,\n",
       "   'versions': [{'version': 'v1', 'created': 'Tue, 6 Jun 2023 13:13:27 GMT'}],\n",
       "   'id': '2306.03652',\n",
       "   'categories': 'cs.CL',\n",
       "   'authors': 'Maksim Eremeev, Ilya Valmianski, Xavier Amatriain, Anitha Kannan',\n",
       "   'doi': None}],\n",
       " 'Count': 1,\n",
       " 'ScannedCount': 1,\n",
       " 'ResponseMetadata': {'RequestId': '326be962-c94f-4812-bbaa-a053b1fe4f3d',\n",
       "  'HTTPStatusCode': 200,\n",
       "  'HTTPHeaders': {'date': 'Tue, 22 Aug 2023 21:19:43 GMT',\n",
       "   'x-amzn-requestid': '326be962-c94f-4812-bbaa-a053b1fe4f3d',\n",
       "   'content-type': 'application/x-amz-json-1.0',\n",
       "   'x-amz-crc32': '1751871725',\n",
       "   'content-length': '2267',\n",
       "   'server': 'Jetty(11.0.11)'},\n",
       "  'RetryAttempts': 0}}"
      ]
     },
     "execution_count": 11,
     "metadata": {},
     "output_type": "execute_result"
    }
   ],
   "source": [
    "response"
   ]
  }
 ],
 "metadata": {
  "kernelspec": {
   "display_name": "airflow",
   "language": "python",
   "name": "python3"
  },
  "language_info": {
   "codemirror_mode": {
    "name": "ipython",
    "version": 3
   },
   "file_extension": ".py",
   "mimetype": "text/x-python",
   "name": "python",
   "nbconvert_exporter": "python",
   "pygments_lexer": "ipython3",
   "version": "3.9.15"
  },
  "orig_nbformat": 4
 },
 "nbformat": 4,
 "nbformat_minor": 2
}
