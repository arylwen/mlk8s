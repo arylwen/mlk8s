{
 "cells": [
  {
   "cell_type": "code",
   "execution_count": 1,
   "metadata": {},
   "outputs": [],
   "source": [
    "import os\n",
    "import time\n",
    "import pathlib\n",
    "\n",
    "import openai\n",
    "os.environ['OPENAI_API_KEY'] = \"EMPTY\"\n",
    "os.environ['OPENAI_API_BASE'] = \"http://10.0.0.222:30307/v1\"\n",
    "openai.api_key = \"EMPTY\"\n",
    "openai.api_base = \"http://10.0.0.222:30307/v1\"\n",
    "\n",
    "model = \"Writer/camel-5b-hf\"\n",
    "#model = \"mosaicml/mpt-7b-instruct\"\n",
    "#model = \"mosaicml/mpt-30b-instruct\"\n",
    "\n",
    "persist_path = f\"storage/{model.replace('/', '-')}-default\""
   ]
  },
  {
   "cell_type": "code",
   "execution_count": 2,
   "metadata": {},
   "outputs": [],
   "source": [
    "import logging\n",
    "import sys\n",
    "\n",
    "#kron extensions to llama_index to support openai compatible api\n",
    "sys.path.append('../llama_index/')\n",
    "\n",
    "logging.basicConfig(stream=sys.stdout, level=logging.INFO)"
   ]
  },
  {
   "cell_type": "markdown",
   "metadata": {},
   "source": [
    "## Using Knowledge Graph"
   ]
  },
  {
   "cell_type": "code",
   "execution_count": 3,
   "metadata": {},
   "outputs": [],
   "source": [
    "### Query Knowledge Graph"
   ]
  },
  {
   "cell_type": "code",
   "execution_count": 4,
   "metadata": {},
   "outputs": [
    {
     "name": "stdout",
     "output_type": "stream",
     "text": [
      "INFO:numexpr.utils:NumExpr defaulting to 4 threads.\n"
     ]
    }
   ],
   "source": [
    "\n",
    "from llama_index import StorageContext\n",
    "from llama_index import SimpleDirectoryReader, ServiceContext\n",
    "from llama_index.graph_stores import SimpleGraphStore \n",
    "from llama_index import load_index_from_storage \n",
    "from llama_index.langchain_helpers.text_splitter import SentenceSplitter\n",
    "from llama_index.node_parser import SimpleNodeParser\n",
    "\n",
    "import tiktoken\n",
    "\n",
    "#extensions to llama_index to support openai compatible endpoints, e.g. llama-api\n",
    "from kron.llm_predictor.KronOpenAILLM import OpenAI\n",
    "from kron.llm_predictor.KronLLMPredictor import KronLLMPredictor\n",
    "from kron.indices.knowledge_graph.KronKnowledgeGraphIndex import KronKnowledgeGraphIndex \n",
    "from kron.prompts.kg_prompts import KRON_KG_TRIPLET_EXTRACT_PROMPT"
   ]
  },
  {
   "cell_type": "code",
   "execution_count": 5,
   "metadata": {},
   "outputs": [],
   "source": [
    "#writer/camel uses endoftext \n",
    "from llama_index.utils import globals_helper\n",
    "enc = tiktoken.get_encoding(\"gpt2\")\n",
    "tokenizer = lambda text: enc.encode(text, allowed_special={\"<|endoftext|>\"})\n",
    "globals_helper._tokenizer = tokenizer"
   ]
  },
  {
   "cell_type": "code",
   "execution_count": 6,
   "metadata": {},
   "outputs": [
    {
     "name": "stdout",
     "output_type": "stream",
     "text": [
      "context_window=2048 num_output=384 is_chat_model=False\n"
     ]
    }
   ],
   "source": [
    "# define LLM\n",
    "llm=OpenAI(temperature=0.01, model=model)\n",
    "#chunk_size+prompt_length+expected length of returned triples must be less than max_tokens\n",
    "#llm.max_tokens = 274 #128-32\n",
    "#some sentences can be really long and the text spliter will enter an infinit loop\n",
    "#llm.max_tokens = 400 #256-64\n",
    "llm.max_tokens = 384 #192-48\n",
    "llm_predictor = KronLLMPredictor(llm)\n",
    "print(llm_predictor.metadata)"
   ]
  },
  {
   "cell_type": "code",
   "execution_count": 7,
   "metadata": {},
   "outputs": [],
   "source": [
    "# define TextSplitter\n",
    "text_splitter = SentenceSplitter(chunk_size=192, chunk_overlap=48, paragraph_separator='\\n')\n",
    "#define NodeParser\n",
    "node_parser = SimpleNodeParser(text_splitter=text_splitter)\n",
    "#define ServiceContext\n",
    "service_context = ServiceContext.from_defaults(llm_predictor=llm_predictor, node_parser=node_parser)\n"
   ]
  },
  {
   "cell_type": "code",
   "execution_count": 8,
   "metadata": {},
   "outputs": [
    {
     "name": "stdout",
     "output_type": "stream",
     "text": [
      "Loading index from storage/Writer-camel-5b-hf-default\n",
      "INFO:llama_index.indices.loading:Loading all indices.\n"
     ]
    }
   ],
   "source": [
    "print(f'Loading index from {persist_path}')\n",
    "# rebuild storage context\n",
    "storage_context = StorageContext.from_defaults(persist_dir=persist_path)\n",
    "# load index\n",
    "index = load_index_from_storage(storage_context=storage_context, \n",
    "                                    service_context=service_context, \n",
    "                                    max_triplets_per_chunk=2,\n",
    "                                    show_progress = True)"
   ]
  },
  {
   "cell_type": "code",
   "execution_count": 9,
   "metadata": {},
   "outputs": [
    {
     "name": "stdout",
     "output_type": "stream",
     "text": [
      "INFO:llama_index.indices.knowledge_graph.retriever:> Starting query: What is SPGC?\n",
      "INFO:llama_index.indices.knowledge_graph.retriever:> Query keywords: ['stands', 'SPGC', 'SPGC stands for Sustainable Palm Oil.<|endoftext|>', 'Palm', 'Sustainable', 'endoftext', 'Oil']\n",
      "ERROR:llama_index.indices.knowledge_graph.retriever:Index was not constructed with embeddings, skipping embedding usage...\n",
      "INFO:llama_index.indices.knowledge_graph.retriever:> Querying with idx: 5e30414e-2db8-427e-aa6f-dec734e86d85: and to the best of our knowledge no work has investigated acoustic features o...\n"
     ]
    },
    {
     "name": "stderr",
     "output_type": "stream",
     "text": [
      "[nltk_data] Downloading package stopwords to\n",
      "[nltk_data]     /home/arylwen/nltk_data...\n",
      "[nltk_data]   Unzipping corpora/stopwords.zip.\n"
     ]
    },
    {
     "name": "stdout",
     "output_type": "stream",
     "text": [
      "INFO:llama_index.indices.knowledge_graph.retriever:> Extracted relationships: The following are knowledge triplets in max depth 2 in the form of `subject [predicate, object, predicate_next_hop, object_next_hop ...]`\n",
      "SPGC ['investigate', 'acoustic features']\n",
      "SPGC ['multilingual', 'AD recognition']\n",
      "SPGC ['speech', 'dementia']\n",
      "SPGC ['languages', 'predictive power']\n",
      "SPGC ['discuss', 'machine learning']\n",
      "SPGC ['architectures', 'novel']\n",
      "SPGC ['features', 'extraction']\n"
     ]
    },
    {
     "data": {
      "text/plain": [
       "Response(response=\"Answer: The SPGC is a speech processing and machine learning challenge focused on multilingual Alzheimer's dementia recognition through spontaneous speech.<|endoftext|>\", source_nodes=[NodeWithScore(node=TextNode(id_='5e30414e-2db8-427e-aa6f-dec734e86d85', embedding=None, metadata={}, excluded_embed_metadata_keys=[], excluded_llm_metadata_keys=[], relationships={<NodeRelationship.SOURCE: '1'>: RelatedNodeInfo(node_id='/home/arylwen/datasets/documents/ArxivHealthcareNLP/text_cleaned/2301.05562v1.Multilingual_Alzheimer_s_Dementia_Recognition_through_Spontaneous_Speech__a_Signal_Processing_Grand_Challenge.pdf.txt', node_type=None, metadata={}, hash='a82022a658c8899762e25a93b7b1b077d2de105945c51cdbdd5bd8c5d1b1cfbe'), <NodeRelationship.PREVIOUS: '2'>: RelatedNodeInfo(node_id='86314e96-ddc3-4c08-9a7e-e56840b38a24', node_type=None, metadata={}, hash='c4d2fc7ad72066001804fcef469bc7fc58b52271f2ad43e2243441a7178736c2'), <NodeRelationship.NEXT: '3'>: RelatedNodeInfo(node_id='4b416b79-f052-46a3-8665-12a2f64d8e62', node_type=None, metadata={}, hash='58d9f1a34199b9e2e765fb43d50f0017a0e7468368a15dd2c31ef37473b89c6e')}, hash='c641b34c1b9e90d101a72e5eadfa6f0882dc4fb69ee36449fcaa73be261ce58e', text='and to the best of our knowledge no work has investigated acoustic features of speech in multilingual AD detection. This SPGC, “ADReSS-M: Multilingual Alzheimer’s Dementia Recognition through Spontaneous Speech” targets this issue by deﬁning prediction tasks whereby participants train their models on English speech data and assess their models’ performance on spoken Greek data. The models submitted to the challenge focus on acoustic or linguistic features of the speech signal whose predictive power is preserved across languages.This SPGC aims to provide a platform for contributions and discussions on applying signal processing and machine learning methods for multilingual AD recognition, and stimulate the discussion of machine learning architectures, novel signal processing features, feature selection and extraction methods, and other topics of interest to the growing community of researchers interested in investigating the connections between speech and dementia.', start_char_idx=None, end_char_idx=None, text_template='{metadata_str}\\n\\n{content}', metadata_template='{key}: {value}', metadata_seperator='\\n'), score=1000.0), NodeWithScore(node=TextNode(id_='31e8def7-c900-479f-b176-91f8ad8f2654', embedding=None, metadata={'kg_rel_texts': [\"SPGC ['investigate', 'acoustic features']\", \"SPGC ['multilingual', 'AD recognition']\", \"SPGC ['speech', 'dementia']\", \"SPGC ['languages', 'predictive power']\", \"SPGC ['discuss', 'machine learning']\", \"SPGC ['architectures', 'novel']\", \"SPGC ['features', 'extraction']\"], 'kg_rel_map': {'stands': [], 'SPGC': [['investigate', 'acoustic features'], ['multilingual', 'AD recognition'], ['speech', 'dementia'], ['languages', 'predictive power'], ['discuss', 'machine learning'], ['architectures', 'novel'], ['features', 'extraction']], 'SPGC stands for Sustainable Palm Oil.<|endoftext|>': [], 'Palm': [], 'Sustainable': [], 'endoftext': [], 'Oil': []}}, excluded_embed_metadata_keys=['kg_rel_map', 'kg_rel_texts'], excluded_llm_metadata_keys=['kg_rel_map', 'kg_rel_texts'], relationships={}, hash='b618a38239b44e6901a69e04008a088fc5ffada827534b9cc7e0ae55e5cb2d36', text=\"The following are knowledge triplets in max depth 2 in the form of `subject [predicate, object, predicate_next_hop, object_next_hop ...]`\\nSPGC ['investigate', 'acoustic features']\\nSPGC ['multilingual', 'AD recognition']\\nSPGC ['speech', 'dementia']\\nSPGC ['languages', 'predictive power']\\nSPGC ['discuss', 'machine learning']\\nSPGC ['architectures', 'novel']\\nSPGC ['features', 'extraction']\", start_char_idx=None, end_char_idx=None, text_template='{metadata_str}\\n\\n{content}', metadata_template='{key}: {value}', metadata_seperator='\\n'), score=1000.0)], metadata={'5e30414e-2db8-427e-aa6f-dec734e86d85': {}, '31e8def7-c900-479f-b176-91f8ad8f2654': {'kg_rel_texts': [\"SPGC ['investigate', 'acoustic features']\", \"SPGC ['multilingual', 'AD recognition']\", \"SPGC ['speech', 'dementia']\", \"SPGC ['languages', 'predictive power']\", \"SPGC ['discuss', 'machine learning']\", \"SPGC ['architectures', 'novel']\", \"SPGC ['features', 'extraction']\"], 'kg_rel_map': {'stands': [], 'SPGC': [['investigate', 'acoustic features'], ['multilingual', 'AD recognition'], ['speech', 'dementia'], ['languages', 'predictive power'], ['discuss', 'machine learning'], ['architectures', 'novel'], ['features', 'extraction']], 'SPGC stands for Sustainable Palm Oil.<|endoftext|>': [], 'Palm': [], 'Sustainable': [], 'endoftext': [], 'Oil': []}}})"
      ]
     },
     "execution_count": 9,
     "metadata": {},
     "output_type": "execute_result"
    }
   ],
   "source": [
    "query_engine = index.as_query_engine()\n",
    "query_engine.query(\"What is SPGC?\")"
   ]
  },
  {
   "cell_type": "code",
   "execution_count": 10,
   "metadata": {},
   "outputs": [
    {
     "name": "stdout",
     "output_type": "stream",
     "text": [
      "INFO:llama_index.indices.knowledge_graph.retriever:> Starting query: What is AD recognition?\n",
      "INFO:llama_index.indices.knowledge_graph.retriever:> Query keywords: ['identifying', 'diagnosing', 'related', \"AD (Alzheimer's Disease) recognition refers to the process of identifying and diagnosing individuals with Alzheimer's disease or related disorders.<|endoftext|>\", 'recognition', 'individuals', 'refers', 'AD', 'process', 'disease', 'endoftext', 'Disease', 'disorders', 'Alzheimer']\n",
      "ERROR:llama_index.indices.knowledge_graph.retriever:Index was not constructed with embeddings, skipping embedding usage...\n",
      "INFO:llama_index.indices.knowledge_graph.retriever:> Extracted relationships: The following are knowledge triplets in max depth 2 in the form of `subject [predicate, object, predicate_next_hop, object_next_hop ...]`\n"
     ]
    },
    {
     "data": {
      "text/plain": [
       "Response(response=\"Answer: AD recognition is the process of identifying and recognizing Alzheimer's disease by analyzing medical images, such as MRIs or CT scans.<|endoftext|>\", source_nodes=[NodeWithScore(node=TextNode(id_='f4c85938-76ba-41ba-ab3a-02d7198f8548', embedding=None, metadata={'kg_rel_texts': [], 'kg_rel_map': {'identifying': [], 'diagnosing': [], 'related': [], \"AD (Alzheimer's Disease) recognition refers to the process of identifying and diagnosing individuals with Alzheimer's disease or related disorders.<|endoftext|>\": [], 'recognition': [], 'individuals': [], 'refers': [], 'AD': [], 'process': [], 'disease': [], 'endoftext': [], 'Disease': [], 'disorders': [], 'Alzheimer': []}}, excluded_embed_metadata_keys=['kg_rel_map', 'kg_rel_texts'], excluded_llm_metadata_keys=['kg_rel_map', 'kg_rel_texts'], relationships={}, hash='960573c33a2ec416442182de990340a8637ce21a788e118b153daa4746a15e2c', text='The following are knowledge triplets in max depth 2 in the form of `subject [predicate, object, predicate_next_hop, object_next_hop ...]`', start_char_idx=None, end_char_idx=None, text_template='{metadata_str}\\n\\n{content}', metadata_template='{key}: {value}', metadata_seperator='\\n'), score=1000.0)], metadata={'f4c85938-76ba-41ba-ab3a-02d7198f8548': {'kg_rel_texts': [], 'kg_rel_map': {'identifying': [], 'diagnosing': [], 'related': [], \"AD (Alzheimer's Disease) recognition refers to the process of identifying and diagnosing individuals with Alzheimer's disease or related disorders.<|endoftext|>\": [], 'recognition': [], 'individuals': [], 'refers': [], 'AD': [], 'process': [], 'disease': [], 'endoftext': [], 'Disease': [], 'disorders': [], 'Alzheimer': []}}})"
      ]
     },
     "execution_count": 10,
     "metadata": {},
     "output_type": "execute_result"
    }
   ],
   "source": [
    "query_engine.query(\"What is AD recognition?\")"
   ]
  },
  {
   "cell_type": "code",
   "execution_count": 12,
   "metadata": {},
   "outputs": [
    {
     "name": "stdout",
     "output_type": "stream",
     "text": [
      "INFO:llama_index.indices.knowledge_graph.retriever:> Starting query: What is the relationship between AD recognition and SPGC?\n",
      "INFO:llama_index.indices.knowledge_graph.retriever:> Query keywords: ['medical', 'tool', 'project', 'involving', 'patients', 'institutions', \"AD recognition is a technique used to identify and classify Alzheimer's disease patients based on their symptoms and medical history. SPGC is a collaborative research project involving multiple institutions and organizations working together to develop a standardized diagnostic tool and treatment protocols for Alzheimer's disease.<|endoftext|>\", 'used', 'history', 'disease', 'working', 'identify', 'based', 'SPGC', 'together', 'organizations', 'standardized', 'symptoms', 'multiple', 'recognition', 'develop', 'classify', 'research', 'technique', 'AD', 'collaborative', 'diagnostic', 'treatment', 'protocols', 'endoftext', 'Alzheimer']\n",
      "ERROR:llama_index.indices.knowledge_graph.retriever:Index was not constructed with embeddings, skipping embedding usage...\n",
      "INFO:llama_index.indices.knowledge_graph.retriever:> Querying with idx: 5e30414e-2db8-427e-aa6f-dec734e86d85: and to the best of our knowledge no work has investigated acoustic features o...\n",
      "INFO:llama_index.indices.knowledge_graph.retriever:> Extracted relationships: The following are knowledge triplets in max depth 2 in the form of `subject [predicate, object, predicate_next_hop, object_next_hop ...]`\n",
      "SPGC ['investigate', 'acoustic features']\n",
      "SPGC ['multilingual', 'AD recognition']\n",
      "SPGC ['speech', 'dementia']\n",
      "SPGC ['languages', 'predictive power']\n",
      "SPGC ['discuss', 'machine learning']\n",
      "SPGC ['architectures', 'novel']\n",
      "SPGC ['features', 'extraction']\n"
     ]
    },
    {
     "data": {
      "text/plain": [
       "Response(response='Answer: The relationship between AD recognition and SPGC is that the SPGC is a speech recognition challenge focused on multilingual AD detection using spontaneous speech, and AD recognition is a subfield of speech processing and machine learning that focuses on understanding and diagnosing cognitive impairments using', source_nodes=[NodeWithScore(node=TextNode(id_='5e30414e-2db8-427e-aa6f-dec734e86d85', embedding=None, metadata={}, excluded_embed_metadata_keys=[], excluded_llm_metadata_keys=[], relationships={<NodeRelationship.SOURCE: '1'>: RelatedNodeInfo(node_id='/home/arylwen/datasets/documents/ArxivHealthcareNLP/text_cleaned/2301.05562v1.Multilingual_Alzheimer_s_Dementia_Recognition_through_Spontaneous_Speech__a_Signal_Processing_Grand_Challenge.pdf.txt', node_type=None, metadata={}, hash='a82022a658c8899762e25a93b7b1b077d2de105945c51cdbdd5bd8c5d1b1cfbe'), <NodeRelationship.PREVIOUS: '2'>: RelatedNodeInfo(node_id='86314e96-ddc3-4c08-9a7e-e56840b38a24', node_type=None, metadata={}, hash='c4d2fc7ad72066001804fcef469bc7fc58b52271f2ad43e2243441a7178736c2'), <NodeRelationship.NEXT: '3'>: RelatedNodeInfo(node_id='4b416b79-f052-46a3-8665-12a2f64d8e62', node_type=None, metadata={}, hash='58d9f1a34199b9e2e765fb43d50f0017a0e7468368a15dd2c31ef37473b89c6e')}, hash='c641b34c1b9e90d101a72e5eadfa6f0882dc4fb69ee36449fcaa73be261ce58e', text='and to the best of our knowledge no work has investigated acoustic features of speech in multilingual AD detection. This SPGC, “ADReSS-M: Multilingual Alzheimer’s Dementia Recognition through Spontaneous Speech” targets this issue by deﬁning prediction tasks whereby participants train their models on English speech data and assess their models’ performance on spoken Greek data. The models submitted to the challenge focus on acoustic or linguistic features of the speech signal whose predictive power is preserved across languages.This SPGC aims to provide a platform for contributions and discussions on applying signal processing and machine learning methods for multilingual AD recognition, and stimulate the discussion of machine learning architectures, novel signal processing features, feature selection and extraction methods, and other topics of interest to the growing community of researchers interested in investigating the connections between speech and dementia.', start_char_idx=None, end_char_idx=None, text_template='{metadata_str}\\n\\n{content}', metadata_template='{key}: {value}', metadata_seperator='\\n'), score=1000.0), NodeWithScore(node=TextNode(id_='632fc0a1-b8f1-4b5e-a031-00edff64f104', embedding=None, metadata={'kg_rel_texts': [\"SPGC ['investigate', 'acoustic features']\", \"SPGC ['multilingual', 'AD recognition']\", \"SPGC ['speech', 'dementia']\", \"SPGC ['languages', 'predictive power']\", \"SPGC ['discuss', 'machine learning']\", \"SPGC ['architectures', 'novel']\", \"SPGC ['features', 'extraction']\"], 'kg_rel_map': {'medical': [], 'tool': [], 'project': [], 'involving': [], 'patients': [], 'institutions': [], \"AD recognition is a technique used to identify and classify Alzheimer's disease patients based on their symptoms and medical history. SPGC is a collaborative research project involving multiple institutions and organizations working together to develop a standardized diagnostic tool and treatment protocols for Alzheimer's disease.<|endoftext|>\": [], 'used': [], 'history': [], 'disease': [], 'working': [], 'identify': [], 'based': [], 'SPGC': [['investigate', 'acoustic features'], ['multilingual', 'AD recognition'], ['speech', 'dementia'], ['languages', 'predictive power'], ['discuss', 'machine learning'], ['architectures', 'novel'], ['features', 'extraction']], 'together': [], 'organizations': [], 'standardized': [], 'symptoms': [], 'multiple': [], 'recognition': [], 'develop': [], 'classify': [], 'research': [], 'technique': [], 'AD': [], 'collaborative': [], 'diagnostic': [], 'treatment': [], 'protocols': [], 'endoftext': [], 'Alzheimer': []}}, excluded_embed_metadata_keys=['kg_rel_map', 'kg_rel_texts'], excluded_llm_metadata_keys=['kg_rel_map', 'kg_rel_texts'], relationships={}, hash='db8c3981d95bae5184afda7c2991d3c98c1c4f8dbcd3de576d9af7bba43bcdc9', text=\"The following are knowledge triplets in max depth 2 in the form of `subject [predicate, object, predicate_next_hop, object_next_hop ...]`\\nSPGC ['investigate', 'acoustic features']\\nSPGC ['multilingual', 'AD recognition']\\nSPGC ['speech', 'dementia']\\nSPGC ['languages', 'predictive power']\\nSPGC ['discuss', 'machine learning']\\nSPGC ['architectures', 'novel']\\nSPGC ['features', 'extraction']\", start_char_idx=None, end_char_idx=None, text_template='{metadata_str}\\n\\n{content}', metadata_template='{key}: {value}', metadata_seperator='\\n'), score=1000.0)], metadata={'5e30414e-2db8-427e-aa6f-dec734e86d85': {}, '632fc0a1-b8f1-4b5e-a031-00edff64f104': {'kg_rel_texts': [\"SPGC ['investigate', 'acoustic features']\", \"SPGC ['multilingual', 'AD recognition']\", \"SPGC ['speech', 'dementia']\", \"SPGC ['languages', 'predictive power']\", \"SPGC ['discuss', 'machine learning']\", \"SPGC ['architectures', 'novel']\", \"SPGC ['features', 'extraction']\"], 'kg_rel_map': {'medical': [], 'tool': [], 'project': [], 'involving': [], 'patients': [], 'institutions': [], \"AD recognition is a technique used to identify and classify Alzheimer's disease patients based on their symptoms and medical history. SPGC is a collaborative research project involving multiple institutions and organizations working together to develop a standardized diagnostic tool and treatment protocols for Alzheimer's disease.<|endoftext|>\": [], 'used': [], 'history': [], 'disease': [], 'working': [], 'identify': [], 'based': [], 'SPGC': [['investigate', 'acoustic features'], ['multilingual', 'AD recognition'], ['speech', 'dementia'], ['languages', 'predictive power'], ['discuss', 'machine learning'], ['architectures', 'novel'], ['features', 'extraction']], 'together': [], 'organizations': [], 'standardized': [], 'symptoms': [], 'multiple': [], 'recognition': [], 'develop': [], 'classify': [], 'research': [], 'technique': [], 'AD': [], 'collaborative': [], 'diagnostic': [], 'treatment': [], 'protocols': [], 'endoftext': [], 'Alzheimer': []}}})"
      ]
     },
     "execution_count": 12,
     "metadata": {},
     "output_type": "execute_result"
    }
   ],
   "source": [
    "query_engine.query(\"What is the relationship between AD recognition and SPGC?\")\n"
   ]
  }
 ],
 "metadata": {
  "kernelspec": {
   "display_name": "ray39",
   "language": "python",
   "name": "python3"
  },
  "language_info": {
   "codemirror_mode": {
    "name": "ipython",
    "version": 3
   },
   "file_extension": ".py",
   "mimetype": "text/x-python",
   "name": "python",
   "nbconvert_exporter": "python",
   "pygments_lexer": "ipython3",
   "version": "3.9.15"
  },
  "orig_nbformat": 4
 },
 "nbformat": 4,
 "nbformat_minor": 2
}
