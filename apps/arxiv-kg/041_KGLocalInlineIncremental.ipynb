{
 "cells": [
  {
   "cell_type": "markdown",
   "metadata": {},
   "source": [
    "# Knowledge Graph Index \n",
    "## Custom prompt"
   ]
  },
  {
   "cell_type": "code",
   "execution_count": null,
   "metadata": {},
   "outputs": [],
   "source": [
    "import os\n",
    "import time\n",
    "import pathlib\n",
    "from pyvis.network import Network\n",
    "\n",
    "import openai\n",
    "os.environ['OPENAI_API_KEY'] = \"sk-48characterstofakeanopenaikey48charactersopenai0\"\n",
    "os.environ['OPENAI_API_BASE'] = \"http://10.0.0.222:30307/v1\"\n",
    "openai.api_key = \"sk-48characterstofakeanopenaikey48charactersopenai0\"\n",
    "openai.api_base = \"http://10.0.0.222:30307/v1\"\n",
    "\n",
    "import sys\n",
    "import logging\n",
    "\n",
    "sys.path.append('../llama-index')\n",
    "logging.basicConfig(stream=sys.stdout, level=logging.INFO)"
   ]
  },
  {
   "cell_type": "markdown",
   "metadata": {},
   "source": [
    "# KG hyper-parameters"
   ]
  },
  {
   "cell_type": "code",
   "execution_count": null,
   "metadata": {},
   "outputs": [],
   "source": [
    "\n",
    "model = \"Writer/camel-5b-hf\"\n",
    "#model = \"mosaicml/mpt-7b-instruct\"\n",
    "#model = \"mosaicml/mpt-30b-instruct\"\n",
    "\n",
    "CORPUS = 'ArxivHealthcareNLP'\n",
    "#CORPUS = 'arxiv_cl'\n",
    "\n",
    "#INDEX_NAME = f\"{model.replace('/', '-')}-inline-no-coref\"\n",
    "INDEX_NAME = f\"{model.replace('/', '-')}-inline-coref\""
   ]
  },
  {
   "cell_type": "code",
   "execution_count": null,
   "metadata": {},
   "outputs": [],
   "source": [
    "def load_properties(filepath, sep='=', comment_char='#'):\n",
    "    '''\n",
    "    Read the file passed as parameter as a properties file.\n",
    "    '''\n",
    "    props = {}\n",
    "    with open(filepath, \"rt\") as f:\n",
    "        for line in f:\n",
    "            l = line.strip()\n",
    "            if l and not l.startswith(comment_char):\n",
    "                key_value = l.split(sep)\n",
    "                key = key_value[0].strip()\n",
    "                value = sep.join(key_value[1:]).strip().strip('\"') \n",
    "                props[key] = value \n",
    "    return props\n",
    "\n",
    "corpus_properties = load_properties(f\"corpora/{CORPUS}.properties\")\n",
    "corpus_properties"
   ]
  },
  {
   "cell_type": "markdown",
   "metadata": {},
   "source": [
    "## Using Knowledge Graph"
   ]
  },
  {
   "cell_type": "markdown",
   "metadata": {},
   "source": [
    "#### Building the Knowledge Graph"
   ]
  },
  {
   "cell_type": "code",
   "execution_count": null,
   "metadata": {},
   "outputs": [],
   "source": [
    "\n",
    "from llama_index import StorageContext\n",
    "from llama_index import SimpleDirectoryReader, ServiceContext\n",
    "from llama_index import KnowledgeGraphIndex\n",
    "from llama_index.graph_stores import SimpleGraphStore \n",
    "from llama_index import load_index_from_storage \n",
    "from llama_index.langchain_helpers.text_splitter import SentenceSplitter\n",
    "from llama_index.node_parser import SimpleNodeParser\n",
    "from llama_index.prompts.base import Prompt\n",
    "from llama_index.prompts.prompt_type import PromptType\n",
    "\n",
    "import tiktoken\n",
    "\n",
    "from kron.llm_predictor.KronOpenAILLM import KronOpenAI\n",
    "from kron.llm_predictor.KronLLMPredictor import KronLLMPredictor"
   ]
  },
  {
   "cell_type": "code",
   "execution_count": null,
   "metadata": {},
   "outputs": [],
   "source": [
    "CORPUS_BASE = corpus_properties['corpus_base']\n",
    "TXT_BASE = f'{CORPUS_BASE}/text_cleaned_in/'\n",
    "PROCESSED_TXT_BASE = f'{CORPUS_BASE}/text_cleaned_out/'\n",
    "persist_path = f\"storage/{INDEX_NAME}\"\n",
    "\n",
    "#folder to save succesive versions of the pyvis graph\n",
    "HTML_FOLDER = f\"html/{INDEX_NAME}\"\n",
    "if not os.path.exists(HTML_FOLDER):\n",
    "    print(f'Creating {HTML_FOLDER}.')\n",
    "    os.makedirs(HTML_FOLDER)\n",
    "\n",
    "if not os.path.exists(PROCESSED_TXT_BASE):\n",
    "    print(f'Creating {PROCESSED_TXT_BASE}.')\n",
    "    os.makedirs(PROCESSED_TXT_BASE)"
   ]
  },
  {
   "cell_type": "code",
   "execution_count": null,
   "metadata": {},
   "outputs": [],
   "source": [
    "#Writer/camel sends <|endoftext|> back\n",
    "from llama_index.utils import globals_helper\n",
    "enc = tiktoken.get_encoding(\"gpt2\")\n",
    "tokenizer = lambda text: enc.encode(text, allowed_special={\"<|endoftext|>\"})\n",
    "globals_helper._tokenizer = tokenizer"
   ]
  },
  {
   "cell_type": "code",
   "execution_count": null,
   "metadata": {},
   "outputs": [],
   "source": [
    "documents = SimpleDirectoryReader(TXT_BASE, filename_as_id=True).load_data()"
   ]
  },
  {
   "cell_type": "code",
   "execution_count": null,
   "metadata": {},
   "outputs": [],
   "source": [
    "CAMEL_INLINE_KG_PROMPT_TEMPLATE = (\n",
    "            \"Below is an instruction that describes a task, paired with an input that provides further context. \"\n",
    "            \"Write a response that appropriately completes the request.\\n\\n\"\n",
    "            \"### Instruction:\\n\"  \n",
    "            \"Some text is provided below. Given the text, extract up to {max_knowledge_triplets} knowledge triplets in the form of \" \n",
    "            \"(subject, predicate, object). \\n\\n\"  \n",
    "            \"### Input: \\n\"\n",
    "            \"Text: Alice is Bob's mother. \\n\" \n",
    "            \"Triplets: \\n\"\n",
    "            \"    (Alice, is mother of, Bob) \\n\"\n",
    "            \"Text: Philz is a coffee shop founded in Berkeley in 1982. \\n\"\n",
    "            \"Triplets: \\n\"\n",
    "            \"    (Philz, is, coffee shop) \\n\"\n",
    "            \"    (Philz, founded in, Berkeley) \\n\"\n",
    "            \"    (Philz, founded in, 1982) \\n\"\n",
    "            \"Text: This small and colorful book is intended for children. It was named after the Moon, and was gifted to Jack. \\n\"\n",
    "            \"Triplets: \\n\"\n",
    "            \"    (book, intended for, children)\\n\"\n",
    "            \"    (book, is, small) \\n\"\n",
    "            \"    (book, is, colorful) \\n\"\n",
    "            \"    (book, named after, Moon) \\n\"\n",
    "            \"    (book, gifted to, Jack) \\n\"    \n",
    "            \"Text: Nick saw a few dwellings, brightly painted cottages, shining in the sun. They were not ready for guests. \\n\"\n",
    "            \"Triplets: \\n\"\n",
    "            \"    (dwellings, are, cottages) \\n\"\n",
    "            \"    (dwellings, shine in, sun) \\n\"\n",
    "            \"    (dwellings, not ready for, guests) \\n\"\n",
    "            \"    (dwellings, seen by, Nick) \\n\"\n",
    "            \"    (dwellings, are, a few) \\n\"\n",
    "            \"    (cottages, are, brightly painted) \\n\"\n",
    "            \"\\n### Text: {text} \\n\"\n",
    "            \"\\n### Triplets:\"\n",
    ")\n",
    "\n",
    "CAMEL_INLINE_KG_TRIPLET_EXTRACT_PROMPT = Prompt(\n",
    "    CAMEL_INLINE_KG_PROMPT_TEMPLATE, prompt_type=PromptType.KNOWLEDGE_TRIPLET_EXTRACT\n",
    ")"
   ]
  },
  {
   "cell_type": "code",
   "execution_count": null,
   "metadata": {},
   "outputs": [],
   "source": [
    "MPT_SHORT_INLINE_KG_PROMPT_TEMPLATE = (\n",
    "            \"Below is an instruction that describes a task, paired with an input that provides further context. \"\n",
    "            \"Write a response that appropriately completes the request.\\n\\n\"\n",
    "            \"### Instruction:\\n\"  \n",
    "            \"Some text is provided below. Given the text, extract up to {max_knowledge_triplets}  knowledge triplets in the form of \" \n",
    "            \"(subject, predicate, object). \\n\\n\" \n",
    "            \"### Input: \\n\"\n",
    "            \"Text: Alice is Bob's mother. \\n\" \n",
    "            \"Triplets: \\n\"\n",
    "            \"    (Alice, is mother of, Bob) \\n\"\n",
    "            \"Text: Philz is a coffee shop founded in Berkeley in 1982. \\n\"\n",
    "            \"Triplets: \\n\"\n",
    "            \"    (Philz, is, coffee shop) \\n\"\n",
    "            \"    (Philz, founded in, Berkeley) \\n\"\n",
    "            \"    (Philz, founded in, 1982) \\n\"\n",
    "            \"### Text: {text} \\n\\n\"\n",
    "            \"### Response:\"\n",
    ")\n",
    "\n",
    "MPT_SHORT_INLINE_KG_TRIPLET_EXTRACT_PROMPT = Prompt(\n",
    "    MPT_SHORT_INLINE_KG_PROMPT_TEMPLATE, prompt_type=PromptType.KNOWLEDGE_TRIPLET_EXTRACT\n",
    ")"
   ]
  },
  {
   "cell_type": "code",
   "execution_count": null,
   "metadata": {},
   "outputs": [],
   "source": [
    "MPT_LONG_INLINE_KG_PROMPT_TEMPLATE = (\n",
    "            \"Below is an instruction that describes a task, paired with an input that provides further context. \"\n",
    "            \"Write a response that appropriately completes the request.\\n\\n\"\n",
    "            \"### Instruction:\\n\"  \n",
    "            \"Some text is provided below. Given the text, extract up to {max_knowledge_triplets} knowledge triplets in the form of \" \n",
    "            \"(subject, predicate, object). Avoid duplicates. \\n\\n\"  \n",
    "            \"### Input: \\n\"\n",
    "            \"Text: Alice is Bob's mother. \\n\" \n",
    "            \"Triplets: \\n\"\n",
    "            \"    (Alice, is mother of, Bob) \\n\"\n",
    "            \"Text: Philz is a coffee shop founded in Berkeley in 1982. \\n\"\n",
    "            \"Triplets: \\n\"\n",
    "            \"    (Philz, is, coffee shop) \\n\"\n",
    "            \"    (Philz, founded in, Berkeley) \\n\"\n",
    "            \"    (Philz, founded in, 1982) \\n\"\n",
    "            \"Text: This small and colorful book is intended for children. It was named after the Moon, and was gifted to Jack. \\n\"\n",
    "            \"Triplets: \\n\"\n",
    "            \"    (book, intended for, children)\\n\"\n",
    "            \"    (book, is, small) \\n\"\n",
    "            \"    (book, is, colorful) \\n\"\n",
    "            \"    (book, named after, Moon) \\n\"\n",
    "            \"    (book, gifted to, Jack) \\n\"    \n",
    "            \"Text: Nick saw a few dwellings, brightly painted cottages, shining in the sun. They were not ready for guests. \\n\"\n",
    "            \"Triplets: \\n\"\n",
    "            \"    (dwellings, are, cottages) \\n\"\n",
    "            \"    (dwellings, shine in, sun) \\n\"\n",
    "            \"    (dwellings, not ready for, guests) \\n\"\n",
    "            \"    (dwellings, seen by, Nick) \\n\"\n",
    "            \"    (dwellings, are, a few) \\n\"\n",
    "            \"    (cottages, are, brightly painted) \\n\"\n",
    "            \"### Text: {text} \\n\"\n",
    "            \"### Triplets:\"\n",
    ")\n",
    "\n",
    "MPT_LONG_INLINE_KG_TRIPLET_EXTRACT_PROMPT = Prompt(\n",
    "    MPT_LONG_INLINE_KG_PROMPT_TEMPLATE, prompt_type=PromptType.KNOWLEDGE_TRIPLET_EXTRACT\n",
    ")"
   ]
  },
  {
   "cell_type": "code",
   "execution_count": null,
   "metadata": {},
   "outputs": [],
   "source": [
    "max_triplets = 2\n",
    "chunk_size = 192\n",
    "chunk_overlap = 48\n",
    "if 'mpt-30b' in model:\n",
    "    #prompt = MPT_SHORT_INLINE_KG_TRIPLET_EXTRACT_PROMPT\n",
    "    #max_tokens = 320\n",
    "    prompt = MPT_LONG_INLINE_KG_TRIPLET_EXTRACT_PROMPT\n",
    "    max_tokens = 510\n",
    "    max_triplets = 3\n",
    "    chunk_size = 128 #160\n",
    "    chunk_overlap = 32\n",
    "elif 'camel-5b' in model:\n",
    "    #camel generates more tokens from the same text than mpt\n",
    "    prompt = CAMEL_INLINE_KG_TRIPLET_EXTRACT_PROMPT\n",
    "    max_tokens = 704\n",
    "elif 'mpt-7b' in model:\n",
    "    prompt = CAMEL_INLINE_KG_TRIPLET_EXTRACT_PROMPT\n",
    "    max_tokens = 560\n",
    "else:\n",
    "    prompt = None\n",
    "    max_tokens = 274\n",
    "\n",
    "print(str(prompt))"
   ]
  },
  {
   "cell_type": "code",
   "execution_count": null,
   "metadata": {},
   "outputs": [],
   "source": [
    "# define LLM; this is the kron OpenAI - supports local models\n",
    "llm=KronOpenAI(temperature=0.01, model=model)\n",
    "#chunk_size+prompt_length+expected length of returned triples must be less than max_tokens\n",
    "llm.max_tokens = max_tokens\n",
    "llm_predictor = KronLLMPredictor(llm)\n",
    "print(llm_predictor.metadata)"
   ]
  },
  {
   "cell_type": "code",
   "execution_count": null,
   "metadata": {},
   "outputs": [],
   "source": [
    "# define TextSplitterTextSplitter\n",
    "text_splitter = SentenceSplitter(chunk_size=chunk_size, chunk_overlap=chunk_overlap, paragraph_separator='\\n')"
   ]
  },
  {
   "cell_type": "code",
   "execution_count": null,
   "metadata": {},
   "outputs": [],
   "source": [
    "#define NodeParser\n",
    "node_parser = SimpleNodeParser(text_splitter=text_splitter)"
   ]
  },
  {
   "cell_type": "code",
   "execution_count": null,
   "metadata": {},
   "outputs": [],
   "source": [
    "#define ServiceContext\n",
    "service_context = ServiceContext.from_defaults(llm_predictor=llm_predictor, node_parser=node_parser)"
   ]
  },
  {
   "cell_type": "code",
   "execution_count": null,
   "metadata": {},
   "outputs": [],
   "source": [
    "## create pyvis graph\n",
    "def save_pyvis_network_graph(file_name):\n",
    "    #display all nodes\n",
    "    g = index.get_networkx_graph(limit = 6000)\n",
    "    net = Network(height='1000px', width='100%', notebook=True, cdn_resources=\"in_line\", directed=True)\n",
    "    net.from_nx(g)\n",
    "    html_name = f'{HTML_FOLDER}/{file_name}.html'\n",
    "    #print(html_name)\n",
    "    net.show(html_name)\n"
   ]
  },
  {
   "cell_type": "code",
   "execution_count": null,
   "metadata": {},
   "outputs": [],
   "source": [
    "if not os.path.exists(persist_path):\n",
    "    print('No KGIndex found, creating new empty index.')\n",
    "    graph_store = SimpleGraphStore()\n",
    "    storage_context = StorageContext.from_defaults(graph_store=graph_store)\n",
    "    index = KnowledgeGraphIndex(\n",
    "        [],\n",
    "        max_triplets_per_chunk=2,\n",
    "        storage_context=storage_context,\n",
    "        service_context=service_context,\n",
    "    )\n",
    "    index.storage_context.persist(persist_dir=persist_path)"
   ]
  },
  {
   "cell_type": "code",
   "execution_count": null,
   "metadata": {},
   "outputs": [],
   "source": [
    "if os.path.exists(persist_path):\n",
    "    start = time.time()\n",
    "    print(f'Loading index from {persist_path}')\n",
    "    # rebuild storage context\n",
    "    storage_context = StorageContext.from_defaults(persist_dir=persist_path)\n",
    "    # load index\n",
    "    index = load_index_from_storage(storage_context=storage_context, \n",
    "                                    service_context=service_context, \n",
    "                                    max_triplets_per_chunk=2,\n",
    "                                    show_progress = True)\n",
    "    ## add documents to index\n",
    "    for d in documents:\n",
    "        file_name = pathlib.Path(d.id_).name\n",
    "        print(f'Processing: {file_name}')\n",
    "        #index the document: extract triples and inseart into the KG graph\n",
    "        index.insert(document = d)\n",
    "        #move the file to the processed folder\n",
    "        in_file_name = f'{TXT_BASE}/{file_name}'\n",
    "        processed_file_name = f'{PROCESSED_TXT_BASE}/{file_name}'\n",
    "        pathlib.Path(in_file_name).rename(processed_file_name)\n",
    "        #index is modified after each doc\n",
    "        save_pyvis_network_graph(file_name)\n",
    "        index.storage_context.persist(persist_dir=persist_path)\n",
    "    end = time.time()\n",
    "    print(f\"Documents added in: {end-start}s\")\n",
    "else:\n",
    "    print('No KGIndex found, starting fresh.')\n",
    "    graph_store = SimpleGraphStore()\n",
    "    storage_context = StorageContext.from_defaults(graph_store=graph_store)\n",
    "\n",
    "    # NOTE: can take a while! \n",
    "\n",
    "    start = time.time()\n",
    "    index = KnowledgeGraphIndex.from_documents(\n",
    "        documents,\n",
    "        max_triplets_per_chunk=2,\n",
    "        storage_context=storage_context,\n",
    "        service_context=service_context,\n",
    "    )\n",
    "    #move files to the processed files folder/s3/other location\n",
    "    for d in documents:\n",
    "        #d.id_ is the full path of the input file\n",
    "        file_name = pathlib.Path(d.id_).name\n",
    "        in_file_name = f'{TXT_BASE}/{file_name}'\n",
    "        processed_file_name = f'{PROCESSED_TXT_BASE}/{file_name}'\n",
    "        pathlib.Path(in_file_name).rename(processed_file_name)\n",
    "        save_pyvis_network_graph(file_name)\n",
    "    #save index TODO what if it fails - compensatory transaction\n",
    "    index.storage_context.persist(persist_dir=persist_path)\n",
    "    end = time.time()\n",
    "    print(f\"Knowledge Graph built in: {end-start}s.\")\n"
   ]
  }
 ],
 "metadata": {
  "kernelspec": {
   "display_name": "ray39",
   "language": "python",
   "name": "python3"
  },
  "language_info": {
   "codemirror_mode": {
    "name": "ipython",
    "version": 3
   },
   "file_extension": ".py",
   "mimetype": "text/x-python",
   "name": "python",
   "nbconvert_exporter": "python",
   "pygments_lexer": "ipython3",
   "version": "3.9.15"
  },
  "orig_nbformat": 4
 },
 "nbformat": 4,
 "nbformat_minor": 2
}
