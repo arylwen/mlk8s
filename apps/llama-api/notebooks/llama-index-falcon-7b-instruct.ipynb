{
 "cells": [
  {
   "cell_type": "code",
   "execution_count": 1,
   "id": "e50bf18b",
   "metadata": {},
   "outputs": [
    {
     "name": "stdout",
     "output_type": "stream",
     "text": [
      "Below is an instruction that describes a task, paired with an input that provides further context. Write a response that appropriately completes the request.\n",
      "\n",
      "### Instruction:\n",
      "Some text is provided below. Given the text, extract up to 5 knowledge triplets in the form of (subject, predicate, object). \n",
      "\n",
      "### Input: \n",
      "Text: Alice is Bob's mother. \n",
      "Triplets: \n",
      "    (Alice, is mother of, Bob) \n",
      "Text: Philz is a coffee shop founded in Berkeley in 1982. \n",
      "Triplets: \n",
      "    (Philz, is, coffee shop) \n",
      "    (Philz, founded in, Berkeley) \n",
      "    (Philz, founded in, 1982) \n",
      "Text: This small and colorful book is intended for children. It was named after the moon, and was gifted to Jack. \n",
      "Triplets: \n",
      "    (book, intended for, children)\n",
      "    (book, is, small) \n",
      "    (book, is, colorful) \n",
      "    (book, named after, moon) \n",
      "    (book, gifted to, Jack) \n",
      "Text: Nick saw a few dwellings, brightly painted cottages, shining in the sun. They were not ready for guests. \n",
      "Triplets: \n",
      "    (dwellings, are, cottages) \n",
      "    (dwellings, shine in, sun) \n",
      "    (dwellings, not ready for, guests) \n",
      "    (Nick, saw, dwellings) \n",
      "    (dwellings, are, a few) \n",
      "    (cottages, are, brightly painted) \n",
      "\n",
      "### Text: Y Combinator was not the original name. At first we were called Cambridge Seed. But we didn't want a regional name, in case someone copied us in Silicon Valley, so we renamed ourselves after one of the coolest tricks in the lambda calculus, the Y combinator. \n",
      "\n",
      "### Triplets:\n"
     ]
    }
   ],
   "source": [
    "import time\n",
    "import openai\n",
    "openai.api_key = \"EMPTY\" \n",
    "openai.api_base = \"http://localhost:8000/v1\"\n",
    "\n",
    "model = \"tiiuae/falcon-7b-instruct\"\n",
    "\n",
    "text = \"Y Combinator was not the original name. At first we were called Cambridge Seed. But we didn't want a regional name, in case someone copied us in Silicon Valley, so we renamed ourselves after one of the coolest tricks in the lambda calculus, the Y combinator.\"\n",
    "\n",
    "prompt_template = (\n",
    "            \"Below is an instruction that describes a task, paired with an input that provides further context. \"\n",
    "            \"Write a response that appropriately completes the request.\\n\\n\"\n",
    "            \"### Instruction:\\n\"  \n",
    "            \"Some text is provided below. Given the text, extract up to 5 knowledge triplets in the form of \" \n",
    "            \"(subject, predicate, object). \\n\\n\"  \n",
    "            \"### Input: \\n\"\n",
    "            \"Text: Alice is Bob's mother. \\n\" \n",
    "            \"Triplets: \\n\"\n",
    "            \"    (Alice, is mother of, Bob) \\n\"\n",
    "            \"Text: Philz is a coffee shop founded in Berkeley in 1982. \\n\"\n",
    "            \"Triplets: \\n\"\n",
    "            \"    (Philz, is, coffee shop) \\n\"\n",
    "            \"    (Philz, founded in, Berkeley) \\n\"\n",
    "            \"    (Philz, founded in, 1982) \\n\"\n",
    "            \"Text: This small and colorful book is intended for children. It was named after the moon, and was gifted to Jack. \\n\"\n",
    "            \"Triplets: \\n\"\n",
    "            \"    (book, intended for, children)\\n\"\n",
    "            \"    (book, is, small) \\n\"\n",
    "            \"    (book, is, colorful) \\n\"\n",
    "            \"    (book, named after, moon) \\n\"\n",
    "            \"    (book, gifted to, Jack) \\n\"    \n",
    "            \"Text: Nick saw a few dwellings, brightly painted cottages, shining in the sun. They were not ready for guests. \\n\"\n",
    "            \"Triplets: \\n\"\n",
    "            \"    (dwellings, are, cottages) \\n\"\n",
    "            \"    (dwellings, shine in, sun) \\n\"\n",
    "            \"    (dwellings, not ready for, guests) \\n\"\n",
    "            \"    (Nick, saw, dwellings) \\n\"\n",
    "            \"    (dwellings, are, a few) \\n\"\n",
    "            \"    (cottages, are, brightly painted) \\n\"\n",
    "            \"\\n### Text: {text} \\n\\n\"\n",
    "            \"### Triplets:\"\n",
    ")\n",
    "\n",
    "prompt = prompt_template.format(text=text)\n",
    "\n",
    "print(prompt)"
   ]
  },
  {
   "cell_type": "code",
   "execution_count": 2,
   "id": "646da22f",
   "metadata": {},
   "outputs": [
    {
     "name": "stdout",
     "output_type": "stream",
     "text": [
      "inference completed in: 15.12s\n"
     ]
    }
   ],
   "source": [
    "# create a completion\n",
    "start = time.time()\n",
    "completion = openai.Completion.create(model=model, prompt=prompt, max_tokens=512)\n",
    "end = time.time()\n",
    "print(f\"inference completed in: {end-start:.2f}s\")"
   ]
  },
  {
   "cell_type": "code",
   "execution_count": 3,
   "id": "a82d0ff0",
   "metadata": {},
   "outputs": [
    {
     "name": "stdout",
     "output_type": "stream",
     "text": [
      " \n",
      "   (Y is, Combinatory lambda, calculator) \n",
      "   (not Y, Combinatory lambda, calculator)\n",
      "   (Y Combinatory, lambda, calculator)\n",
      "   (Y is, Combinatory lambda, calculator)\n",
      "\n",
      "\n",
      "\n",
      "### Output:\n",
      "Y Combinatory Lambda Calculator\n",
      "X is Y Calculus Lambda\n",
      "{X is Y Combinatory Lambda Calculus}\n",
      "{X is Y Calculus Lambda \n",
      "(X is, Y Combinatory Lambda Calculus)\n",
      "Y is X Combinatory Lambda Calculus\n",
      "X is Y Calculus Lambda<|endoftext|>\n"
     ]
    }
   ],
   "source": [
    "print(completion.choices[0].text)"
   ]
  },
  {
   "cell_type": "code",
   "execution_count": null,
   "id": "427e8363",
   "metadata": {},
   "outputs": [],
   "source": []
  }
 ],
 "metadata": {
  "kernelspec": {
   "display_name": "Python 3 (ipykernel)",
   "language": "python",
   "name": "python3"
  },
  "language_info": {
   "codemirror_mode": {
    "name": "ipython",
    "version": 3
   },
   "file_extension": ".py",
   "mimetype": "text/x-python",
   "name": "python",
   "nbconvert_exporter": "python",
   "pygments_lexer": "ipython3",
   "version": "3.9.15"
  }
 },
 "nbformat": 4,
 "nbformat_minor": 5
}
