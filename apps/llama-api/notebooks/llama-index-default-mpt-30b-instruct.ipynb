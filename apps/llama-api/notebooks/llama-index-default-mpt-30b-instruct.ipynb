{
 "cells": [
  {
   "cell_type": "code",
   "execution_count": 1,
   "id": "1dc243b1",
   "metadata": {},
   "outputs": [],
   "source": [
    "import requests\n",
    "import functools\n",
    "\n",
    "s = requests.Session()\n",
    "s.request = functools.partial(s.request, timeout=1800)"
   ]
  },
  {
   "cell_type": "code",
   "execution_count": 2,
   "id": "70047ad0",
   "metadata": {},
   "outputs": [
    {
     "name": "stdout",
     "output_type": "stream",
     "text": [
      "106\n",
      "Some text is provided below. Given the text, extract up to 2 knowledge triplets in the form of (subject, predicate, object). \n",
      "---------------------\n",
      "Text: Alice is Bob's mother. \n",
      "Triplets: \n",
      "    (Alice, is mother of, Bob) \n",
      "Text: Philz is a coffee shop founded in Berkeley in 1982. \n",
      "Triplets: \n",
      "    (Philz, is, coffee shop) \n",
      "    (Philz, founded in, Berkeley) \n",
      "    (Philz, founded in, 1982) \n",
      "---------------------\n",
      "Text: Y Combinator was not the original name. At first we were called Cambridge Seed. But we didn't want a regional name, in case someone copied us in Silicon Valley, so we renamed ourselves after one of the coolest tricks in the lambda calculus, the Y combinator. \n",
      "Triplets:\n"
     ]
    }
   ],
   "source": [
    "#Does not finish inference within 1 hour on CPU# timing corresponds to a 3090 run\n",
    "import time\n",
    "import openai\n",
    "openai.api_key = \"EMPTY\" \n",
    "#openai.api_base = \"http://localhost:8000/v1\"\n",
    "openai.api_base = \"http://10.0.0.179:30307/v1\"\n",
    "\n",
    "\n",
    "model = \"mosaicml/mpt-30b-instruct\"\n",
    "\n",
    "text = \"Y Combinator was not the original name. At first we were called Cambridge Seed. But we didn't want a regional name, in case someone copied us in Silicon Valley, so we renamed ourselves after one of the coolest tricks in the lambda calculus, the Y combinator.\"\n",
    "\n",
    "prompt_template = (\n",
    "            \"Some text is provided below. Given the text, extract up to 2 knowledge triplets in the form of \" \n",
    "            \"(subject, predicate, object). \\n\"\n",
    "            \"---------------------\\n\"\n",
    "            \"Text: Alice is Bob's mother. \\n\" \n",
    "            \"Triplets: \\n\"\n",
    "            \"    (Alice, is mother of, Bob) \\n\"\n",
    "            \"Text: Philz is a coffee shop founded in Berkeley in 1982. \\n\"\n",
    "            \"Triplets: \\n\"\n",
    "            \"    (Philz, is, coffee shop) \\n\"\n",
    "            \"    (Philz, founded in, Berkeley) \\n\"\n",
    "            \"    (Philz, founded in, 1982) \\n\"\n",
    "            \"---------------------\\n\"    \n",
    "            \"Text: {text} \\n\"\n",
    "            \"Triplets:\"\n",
    ")\n",
    "\n",
    "prompt = prompt_template.format(text=text)\n",
    "\n",
    "print(len(prompt.split()))\n",
    "print(prompt)"
   ]
  },
  {
   "cell_type": "code",
   "execution_count": 3,
   "id": "7826b49e",
   "metadata": {},
   "outputs": [
    {
     "name": "stdout",
     "output_type": "stream",
     "text": [
      "inference completed in: 260.80s\n"
     ]
    }
   ],
   "source": [
    "# create a completion\n",
    "start = time.time()\n",
    "completion = openai.Completion.create(model=model, prompt=prompt, max_tokens=256)\n",
    "end = time.time()\n",
    "print(f\"inference completed in: {end-start:.2f}s\")"
   ]
  },
  {
   "cell_type": "code",
   "execution_count": 4,
   "id": "06e118b9",
   "metadata": {},
   "outputs": [
    {
     "name": "stdout",
     "output_type": "stream",
     "text": [
      " \n",
      "    (Y Combinator, original name, Cambridge Seed) \n",
      "    (Y Combinator, renamed Y Combinator, Cambridge Seed) \n",
      "---------------------<|endoftext|>package org.springframework.security.config.annotation.web.configurers;\n",
      "\n",
      "import javax.servlet.Filter;\n",
      "\n",
      "import org.springframework.security.config.annotation.web.builders.\n"
     ]
    }
   ],
   "source": [
    "print(completion.choices[0].text)"
   ]
  },
  {
   "cell_type": "markdown",
   "id": "a9ff5b99",
   "metadata": {},
   "source": [
    " ### generation results - camel 5b\n",
    "    (Y Combinator, is not, original name)\n",
    "    (Y Combinator, was, called Cambridge Seed)\n",
    "    (Y Combinator, didn't, want a regional name)\n",
    "    (Y Combinator, renamed ourselves, after one of the coolest tricks in the lambda calculus)<|endoftext|>\n",
    "    \n",
    "### generation results - mpt-7b-instruct\n",
    "    (Y Combinator, was not, original name)\n",
    "    (Cambridge Seed, was renamed, Y Combinator)\n",
    "    (Y combinator, name of, Y combinator)\n",
    "    (Y combinator, was, \"one of the coolest tricks\" in lambda calculus)<|endoftext|>\n",
    "    \n",
    "### generation results - mpt-30b-instruct    - 445.37s\n",
    "    (Y Combinator, was renamed from, Cambridge Seed)\n",
    "    (Y Combinator, is, a startup accelerator)<|endoftext|>\n",
    "    (Y Combinator, was not, Cambridge Seed)\n",
    "    (Y Combinator, was renamed after, one of the coolest tricks in the lambda calculus)\n",
    "    \n",
    " "
   ]
  },
  {
   "cell_type": "code",
   "execution_count": null,
   "id": "d6311735",
   "metadata": {},
   "outputs": [],
   "source": []
  }
 ],
 "metadata": {
  "kernelspec": {
   "display_name": "Python 3 (ipykernel)",
   "language": "python",
   "name": "python3"
  },
  "language_info": {
   "codemirror_mode": {
    "name": "ipython",
    "version": 3
   },
   "file_extension": ".py",
   "mimetype": "text/x-python",
   "name": "python",
   "nbconvert_exporter": "python",
   "pygments_lexer": "ipython3",
   "version": "3.9.15"
  }
 },
 "nbformat": 4,
 "nbformat_minor": 5
}
