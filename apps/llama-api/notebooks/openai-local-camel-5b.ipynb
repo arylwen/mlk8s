{
 "cells": [
  {
   "cell_type": "code",
   "execution_count": 1,
   "id": "fd1baba7",
   "metadata": {},
   "outputs": [
    {
     "name": "stdout",
     "output_type": "stream",
     "text": [
      "Below is an instruction that describes a task. Write a response that appropriately completes the request.\n",
      "\n",
      "### Instruction:\n",
      "Describe a futuristic device that revolutionizes space travel.\n",
      "\n",
      "### Response:The Hyperloop, a futuristic transportation concept, revolutionizes space travel by utilizing a magnetic levitation rail system that allows for faster and more efficient travel between Earth and space. This revolutionary technology aims to minimize time in space, reduce costs, and minimize environmental impact by utilizing a reusable propulsion system that can power multiple Hyperloops and return the spent fuel, thus reducing space travel's ecological footprint. The Hyperloop's potential to revolutionize transportation and space travel is immense, with its potential to reduce travel time, eliminate need for parking spaces, and open up new industries across various sectors.<|endoftext|>\n"
     ]
    }
   ],
   "source": [
    "import openai\n",
    "openai.api_key = \"EMPTY\" \n",
    "openai.api_base = \"http://localhost:8000/v1\"\n",
    "\n",
    "model = \"Writer/camel-5b-hf\"\n",
    "\n",
    "instruction = \"Describe a futuristic device that revolutionizes space travel.\"\n",
    "\n",
    "prompt_template = (\n",
    "            \"Below is an instruction that describes a task. \"\n",
    "            \"Write a response that appropriately completes the request.\\n\\n\"\n",
    "            \"### Instruction:\\n{instruction}\\n\\n### Response:\"\n",
    "        )\n",
    "\n",
    "prompt = prompt_template.format(instruction=instruction)\n",
    "\n",
    "# create a completion\n",
    "completion = openai.Completion.create(model=model, prompt=prompt, max_tokens=64)\n",
    "# print the completion\n",
    "print(prompt + completion.choices[0].text)"
   ]
  },
  {
   "cell_type": "code",
   "execution_count": 2,
   "id": "ad04d8a7",
   "metadata": {},
   "outputs": [
    {
     "name": "stdout",
     "output_type": "stream",
     "text": [
      "Below is an instruction that describes a task. Write a response that appropriately completes the request.\n",
      "\n",
      "### Instruction:\n",
      "Describe a futuristic device that revolutionizes space travel.\n",
      "\n",
      "### Response:The Hyperloop transportation system is an ideal futuristic device for revolutionizing space travel. Unlike traditional rocket systems, which burn fuel and emit harmful pollutants, the Hyperloop relies on magnetohydrodynamic propulsion. In a vacuum tank, magnets generate a high-pressure, low-temperature gas that accelerates electrons through a conductive track. The electrons then generate a second magnetic field, causing the gas to slow and eventually stop, allowing passengers or cargo to travel at high speeds without the need for a runway. The system's efficient energy conversion and minimal environmental impact make it an attractive alternative for manned space exploration.<|endoftext|>\n"
     ]
    }
   ],
   "source": [
    "# create a completion\n",
    "completion = openai.Completion.create(model=model, prompt=prompt, max_tokens=64, echo=True)\n",
    "# print the completion\n",
    "print(completion.choices[0].text)"
   ]
  },
  {
   "cell_type": "code",
   "execution_count": null,
   "id": "59a1b00d",
   "metadata": {},
   "outputs": [],
   "source": []
  }
 ],
 "metadata": {
  "kernelspec": {
   "display_name": "Python 3 (ipykernel)",
   "language": "python",
   "name": "python3"
  },
  "language_info": {
   "codemirror_mode": {
    "name": "ipython",
    "version": 3
   },
   "file_extension": ".py",
   "mimetype": "text/x-python",
   "name": "python",
   "nbconvert_exporter": "python",
   "pygments_lexer": "ipython3",
   "version": "3.9.15"
  }
 },
 "nbformat": 4,
 "nbformat_minor": 5
}
