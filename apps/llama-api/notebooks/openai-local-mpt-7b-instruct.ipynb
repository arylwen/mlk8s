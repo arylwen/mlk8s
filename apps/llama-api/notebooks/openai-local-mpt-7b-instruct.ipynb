{
 "cells": [
  {
   "cell_type": "code",
   "execution_count": 1,
   "id": "fd1baba7",
   "metadata": {},
   "outputs": [
    {
     "name": "stdout",
     "output_type": "stream",
     "text": [
      "inference completed in: 10.74s\n",
      "Below is an instruction that describes a task. Write a response that appropriately completes the request.\n",
      "\n",
      "### Instruction:\n",
      "Describe a futuristic device that revolutionizes space travel.\n",
      "\n",
      "### Response:\n",
      "One futuristic device that revolutionizes space travel is the hyperloop. The concept was proposed by Elon Musk, and it uses a pod of cargo and people to create a vacuum tube through a small mountain range. By creating a vacuum tube, the pods will use rocket thrusters to propel through the tube. This concept means that space travel could be much faster in the future by drastically cutting off travel time to get to outer space.<|endoftext|>#<|endoftext|>---\n",
      "\n",
      "\n",
      "## A futuristic device that revolutionizes space travel is the hyperloop.\n",
      "<|endoftext|>#\n",
      "The hyperloop is a futuristic device that uses a pod to create a vacuum tube through a small mountain range to drastically cut off travel time to get to outer space.\n",
      "<|endoftext|>#\n",
      "One example of a futuristic device that revolutionizes space travel is the hyperloop. The hyperloop is a device that uses a pod to create a vacuum tube through a small mountain range to drastically cut off travel time to get to outer space.\n",
      "\n",
      "#\n",
      "The hyperloop is an example of a futuristic\n"
     ]
    }
   ],
   "source": [
    "import time\n",
    "import openai\n",
    "openai.api_key = \"EMPTY\" \n",
    "openai.api_base = \"http://localhost:8000/v1\"\n",
    "\n",
    "model = \"mosaicml/mpt-7b-instruct\"\n",
    "\n",
    "instruction = \"Describe a futuristic device that revolutionizes space travel.\"\n",
    "\n",
    "prompt_template = (\n",
    "            \"Below is an instruction that describes a task. \"\n",
    "            \"Write a response that appropriately completes the request.\\n\\n\"\n",
    "            \"### Instruction:\\n{instruction}\\n\\n### Response:\"\n",
    "        )\n",
    "\n",
    "prompt = prompt_template.format(instruction=instruction)\n",
    "\n",
    "# create a completion\n",
    "start = time.time()\n",
    "completion = openai.Completion.create(model=model, prompt=prompt, max_tokens=256)\n",
    "end = time.time()\n",
    "print(f\"inference completed in: {end-start:.2f}s\")\n",
    "# print the completion\n",
    "print(prompt + completion.choices[0].text)"
   ]
  },
  {
   "cell_type": "code",
   "execution_count": 2,
   "id": "ad04d8a7",
   "metadata": {},
   "outputs": [
    {
     "name": "stdout",
     "output_type": "stream",
     "text": [
      "inference completed in: 10.83s\n",
      "Below is an instruction that describes a task. Write a response that appropriately completes the request.\n",
      "\n",
      "### Instruction:\n",
      "Describe a futuristic device that revolutionizes space travel.\n",
      "\n",
      "### Response:\n",
      "Futuristic space travel will be revolutionized by fusion engines that allow faster than light travel. Fusion engines utilize the energy from fusion reactions to create thrust. Scientists have made significant progress in fusion engine development, including the development of the first fusion engine to reach light speed, with additional research focused on increasing thrust and reducing the mass needed for fusion engines.<|endoftext|>#\n",
      "\n",
      "When the first fusion engines become available, it will be possible to visit the nearest star, Alpha Centauri, in less than twenty years.  This will revolutionize the entire space exploration industry.  The ability to explore the universe will open up discoveries never before imagined.\n",
      "\n",
      "Fusion engines will also revolutionize the transportation industry, and make interplanetary travel possible.  Instead of flying between cities, people will be able to take a rocket ship to the moon or to Mars, and travel to the most exciting and remote places in the world.<|endoftext|>---\n",
      "\n",
      "This was a real speech that was given to the NASA Ames Conference.  It was written by a graduate student at\n"
     ]
    }
   ],
   "source": [
    "# create a completion\n",
    "start = time.time()\n",
    "completion = openai.Completion.create(model=model, prompt=prompt, max_tokens=256, echo=True)\n",
    "end = time.time()\n",
    "print(f\"inference completed in: {end-start:.2f}s\")\n",
    "# print the completion\n",
    "print(completion.choices[0].text)"
   ]
  },
  {
   "cell_type": "code",
   "execution_count": null,
   "id": "59a1b00d",
   "metadata": {},
   "outputs": [],
   "source": []
  }
 ],
 "metadata": {
  "kernelspec": {
   "display_name": "Python 3 (ipykernel)",
   "language": "python",
   "name": "python3"
  },
  "language_info": {
   "codemirror_mode": {
    "name": "ipython",
    "version": 3
   },
   "file_extension": ".py",
   "mimetype": "text/x-python",
   "name": "python",
   "nbconvert_exporter": "python",
   "pygments_lexer": "ipython3",
   "version": "3.9.15"
  }
 },
 "nbformat": 4,
 "nbformat_minor": 5
}
