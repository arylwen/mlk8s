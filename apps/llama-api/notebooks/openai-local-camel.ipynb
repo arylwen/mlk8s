{
 "cells": [
  {
   "cell_type": "code",
   "execution_count": 1,
   "id": "fd1baba7",
   "metadata": {},
   "outputs": [
    {
     "name": "stdout",
     "output_type": "stream",
     "text": [
      "Below is an instruction that describes a task. Write a response that appropriately completes the request.\n",
      "\n",
      "### Instruction:\n",
      "Describe a futuristic device that revolutionizes space travel.\n",
      "\n",
      "### Response:The spacecraft, designed by advanced engineers, consists of a sleek, sleek hull with advanced sails for propulsion. Solar panels and energy-efficient systems power the device, making it cost-effective and sustainable to travel through interstellar space. With advanced materials and nanotechnology, the spacecraft possess increased durability and maneuverability. It is expected to enable humans to explore uncharted regions of the universe, while improving our understanding of the cosmos and fostering new technological advancements.<|endoftext|>\n"
     ]
    }
   ],
   "source": [
    "import openai\n",
    "openai.api_key = \"EMPTY\" \n",
    "openai.api_base = \"http://localhost:8000/v1\"\n",
    "\n",
    "model = \"Writer/camel-5b-hf\"\n",
    "\n",
    "instruction = \"Describe a futuristic device that revolutionizes space travel.\"\n",
    "\n",
    "prompt_template = (\n",
    "            \"Below is an instruction that describes a task. \"\n",
    "            \"Write a response that appropriately completes the request.\\n\\n\"\n",
    "            \"### Instruction:\\n{instruction}\\n\\n### Response:\"\n",
    "        )\n",
    "\n",
    "prompt = prompt_template.format(instruction=instruction)\n",
    "\n",
    "# create a completion\n",
    "completion = openai.Completion.create(model=model, prompt=prompt, max_tokens=64)\n",
    "# print the completion\n",
    "print(prompt + completion.choices[0].text)"
   ]
  },
  {
   "cell_type": "code",
   "execution_count": 2,
   "id": "ad04d8a7",
   "metadata": {},
   "outputs": [
    {
     "name": "stdout",
     "output_type": "stream",
     "text": [
      "Below is an instruction that describes a task. Write a response that appropriately completes the request.\n",
      "\n",
      "### Instruction:\n",
      "Describe a futuristic device that revolutionizes space travel.\n",
      "\n",
      "### Response:The Hypervelocity Interstellar Transport ( HyperHOT ) is a cutting-edge spacecraft capable of propulsion using quantum entanglement of photons. By transmitting and receiving signals across vast distances instantaneously, the HyperHOT enables faster travel through space and time compared to conventional methods, opening up potential new exploration regions and reducing travel time. Additionally, the HyperHOT can transform between different types of space vehicles, enabling space tourism and global collaboration in a single, compact spacecraft.<|endoftext|>\n"
     ]
    }
   ],
   "source": [
    "# create a completion\n",
    "completion = openai.Completion.create(model=model, prompt=prompt, max_tokens=64, echo=True)\n",
    "# print the completion\n",
    "print(completion.choices[0].text)"
   ]
  },
  {
   "cell_type": "code",
   "execution_count": null,
   "id": "bf906815",
   "metadata": {},
   "outputs": [],
   "source": []
  }
 ],
 "metadata": {
  "kernelspec": {
   "display_name": "Python 3 (ipykernel)",
   "language": "python",
   "name": "python3"
  },
  "language_info": {
   "codemirror_mode": {
    "name": "ipython",
    "version": 3
   },
   "file_extension": ".py",
   "mimetype": "text/x-python",
   "name": "python",
   "nbconvert_exporter": "python",
   "pygments_lexer": "ipython3",
   "version": "3.9.15"
  }
 },
 "nbformat": 4,
 "nbformat_minor": 5
}
