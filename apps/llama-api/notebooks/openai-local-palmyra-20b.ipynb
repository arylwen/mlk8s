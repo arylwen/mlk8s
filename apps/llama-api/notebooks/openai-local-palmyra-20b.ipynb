{
 "cells": [
  {
   "cell_type": "code",
   "execution_count": 1,
   "id": "fd1baba7",
   "metadata": {},
   "outputs": [
    {
     "name": "stdout",
     "output_type": "stream",
     "text": [
      "Completion words: prompt:28 completion:21 total:49\n",
      "Completion tokens: prompt:40 completion:24 total:64\n",
      "\n",
      "Below is an instruction that describes a task. Write a response that appropriately completes the request.\n",
      "\n",
      "### Instruction:\n",
      "Describe a futuristic device that revolutionizes space travel.\n",
      "\n",
      "### Response:The Quantum Traveler is a futuristic spacecraft that revolutionizes space travel by utilizing quantum mechanics principles. This advanced vessel can travel\n"
     ]
    }
   ],
   "source": [
    "import openai\n",
    "openai.api_key = \"EMPTY\" \n",
    "openai.api_base = \"http://localhost:8000/v1\"\n",
    "\n",
    "model = \"Writer/InstructPalmyra-20b\"\n",
    "\n",
    "instruction = \"Describe a futuristic device that revolutionizes space travel.\"\n",
    "\n",
    "prompt_template = (\n",
    "            \"Below is an instruction that describes a task. \"\n",
    "            \"Write a response that appropriately completes the request.\\n\\n\"\n",
    "            \"### Instruction:\\n{instruction}\\n\\n### Response:\"\n",
    "        )\n",
    "\n",
    "prompt = prompt_template.format(instruction=instruction)\n",
    "\n",
    "# create a completion\n",
    "completion = openai.Completion.create(model=model, prompt=prompt, max_tokens=64)\n",
    "#print token summary\n",
    "print(f\"Completion words: prompt:{len(prompt.split())} completion:{len(completion.choices[0].text.split())} total:{len(prompt.split())+len(completion.choices[0].text.split())}\")\n",
    "print(f\"Completion tokens: prompt:{completion.usage.prompt_tokens} completion:{completion.usage.completion_tokens} total:{completion.usage.total_tokens}\")\n",
    "# print the completion\n",
    "print(f\"\\n{prompt}{completion.choices[0].text}\")\n",
    "\n"
   ]
  },
  {
   "cell_type": "code",
   "execution_count": 2,
   "id": "ad04d8a7",
   "metadata": {},
   "outputs": [
    {
     "name": "stdout",
     "output_type": "stream",
     "text": [
      "Completion words: prompt:28 completion:15 total:43\n",
      "Completion tokens: prompt:40 completion:24 total:64\n",
      "Below is an instruction that describes a task. Write a response that appropriately completes the request.\n",
      "\n",
      "### Instruction:\n",
      "Describe a futuristic device that revolutionizes space travel.\n",
      "\n",
      "### Response:The Temporal Accelerator is a futuristic device designed to revolutionize space travel by enabling faster-than-light travel.\n"
     ]
    }
   ],
   "source": [
    "# create a completion\n",
    "completion = openai.Completion.create(model=model, prompt=prompt, max_tokens=64, echo=True)\n",
    "#print token summary\n",
    "print(f\"Completion words: prompt:{len(prompt.split())} completion:{len(completion.choices[0].text.split())-len(prompt.split())} total:{len(completion.choices[0].text.split())}\")\n",
    "print(f\"Completion tokens: prompt:{completion.usage.prompt_tokens} completion:{completion.usage.completion_tokens} total:{completion.usage.total_tokens}\")\n",
    "# print the completion\n",
    "print(completion.choices[0].text)"
   ]
  },
  {
   "cell_type": "code",
   "execution_count": 3,
   "id": "59a1b00d",
   "metadata": {},
   "outputs": [
    {
     "name": "stdout",
     "output_type": "stream",
     "text": [
      "Completion words: prompt:28 completion:14 total:42\n",
      "Completion tokens: prompt:40 completion:24 total:64\n",
      "Below is an instruction that describes a task. Write a response that appropriately completes the request.\n",
      "\n",
      "### Instruction:\n",
      "Describe a futuristic device that revolutionizes space travel.\n",
      "\n",
      "### Response:The Hyperspace Express is a cutting-edge spacecraft designed for faster-than-light travel. It utilizes a revolutionary\n"
     ]
    }
   ],
   "source": [
    "# create a completion - low temperature should enable repeatable results\n",
    "completion = openai.Completion.create(model=model, prompt=prompt, max_tokens=64, echo=True, temperature=0.01)\n",
    "#print token summary\n",
    "print(f\"Completion words: prompt:{len(prompt.split())} completion:{len(completion.choices[0].text.split())-len(prompt.split())} total:{len(completion.choices[0].text.split())}\")\n",
    "print(f\"Completion tokens: prompt:{completion.usage.prompt_tokens} completion:{completion.usage.completion_tokens} total:{completion.usage.total_tokens}\")\n",
    "# print the completion\n",
    "print(completion.choices[0].text)"
   ]
  },
  {
   "cell_type": "code",
   "execution_count": 4,
   "id": "f9fc9ff0",
   "metadata": {},
   "outputs": [
    {
     "name": "stdout",
     "output_type": "stream",
     "text": [
      "Completion words: prompt:28 completion:14 total:42\n",
      "Completion tokens: prompt:40 completion:24 total:64\n",
      "Below is an instruction that describes a task. Write a response that appropriately completes the request.\n",
      "\n",
      "### Instruction:\n",
      "Describe a futuristic device that revolutionizes space travel.\n",
      "\n",
      "### Response:The Hyperspace Express is a cutting-edge spacecraft designed for faster-than-light travel. It utilizes a revolutionary\n"
     ]
    }
   ],
   "source": [
    "# create a completion\n",
    "completion = openai.Completion.create(model=model, prompt=prompt, max_tokens=64, echo=True, temperature=0.01)\n",
    "#print token summary\n",
    "print(f\"Completion words: prompt:{len(prompt.split())} completion:{len(completion.choices[0].text.split())-len(prompt.split())} total:{len(completion.choices[0].text.split())}\")\n",
    "print(f\"Completion tokens: prompt:{completion.usage.prompt_tokens} completion:{completion.usage.completion_tokens} total:{completion.usage.total_tokens}\")\n",
    "# print the completion\n",
    "print(completion.choices[0].text)"
   ]
  }
 ],
 "metadata": {
  "kernelspec": {
   "display_name": "Python 3 (ipykernel)",
   "language": "python",
   "name": "python3"
  },
  "language_info": {
   "codemirror_mode": {
    "name": "ipython",
    "version": 3
   },
   "file_extension": ".py",
   "mimetype": "text/x-python",
   "name": "python",
   "nbconvert_exporter": "python",
   "pygments_lexer": "ipython3",
   "version": "3.9.18"
  }
 },
 "nbformat": 4,
 "nbformat_minor": 5
}
