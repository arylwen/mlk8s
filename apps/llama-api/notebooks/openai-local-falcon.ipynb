{
 "cells": [
  {
   "cell_type": "code",
   "execution_count": 7,
   "id": "fd1baba7",
   "metadata": {},
   "outputs": [
    {
     "name": "stdout",
     "output_type": "stream",
     "text": [
      "Below is an instruction that describes a task. Write a response that appropriately completes the request.\n",
      "\n",
      "### Instruction:\n",
      "Describe a futuristic device that revolutionizes space travel.\n",
      "\n",
      "### Response:Below is an instruction that describes a task. Write a response that appropriately completes the request.\n",
      "\n",
      "### Instruction:\n",
      "Describe a futuristic device that revolutionizes space travel.\n",
      "\n",
      "### Response:\n",
      "The Spacenet Personal Launch System (SPLS) is an advanced spacecraft designed to revolutionize space travel. It accommodates up to four passengers and features advanced propulsion technology, a comfortable living environment, and state-of-the-art electronics. The SPLS uses an automated robotics system to simplify the\n"
     ]
    }
   ],
   "source": [
    "import openai\n",
    "openai.api_key = \"EMPTY\" \n",
    "openai.api_base = \"http://localhost:8000/v1\"\n",
    "\n",
    "model = \"tiiuae/falcon-7b-instruct\"\n",
    "\n",
    "instruction = \"Describe a futuristic device that revolutionizes space travel.\"\n",
    "\n",
    "prompt_template = (\n",
    "            \"Below is an instruction that describes a task. \"\n",
    "            \"Write a response that appropriately completes the request.\\n\\n\"\n",
    "            \"### Instruction:\\n{instruction}\\n\\n### Response:\"\n",
    "        )\n",
    "\n",
    "prompt = prompt_template.format(instruction=instruction)\n",
    "\n",
    "# create a completion\n",
    "completion = openai.Completion.create(model=model, prompt=prompt, max_tokens=64)\n",
    "# print the completion\n",
    "print(prompt + completion.choices[0].text)"
   ]
  },
  {
   "cell_type": "code",
   "execution_count": null,
   "id": "ad04d8a7",
   "metadata": {},
   "outputs": [],
   "source": []
  },
  {
   "cell_type": "code",
   "execution_count": null,
   "id": "32c983df",
   "metadata": {},
   "outputs": [],
   "source": []
  },
  {
   "cell_type": "code",
   "execution_count": null,
   "id": "38873d37",
   "metadata": {},
   "outputs": [],
   "source": []
  }
 ],
 "metadata": {
  "kernelspec": {
   "display_name": "Python 3 (ipykernel)",
   "language": "python",
   "name": "python3"
  },
  "language_info": {
   "codemirror_mode": {
    "name": "ipython",
    "version": 3
   },
   "file_extension": ".py",
   "mimetype": "text/x-python",
   "name": "python",
   "nbconvert_exporter": "python",
   "pygments_lexer": "ipython3",
   "version": "3.9.15"
  }
 },
 "nbformat": 4,
 "nbformat_minor": 5
}
