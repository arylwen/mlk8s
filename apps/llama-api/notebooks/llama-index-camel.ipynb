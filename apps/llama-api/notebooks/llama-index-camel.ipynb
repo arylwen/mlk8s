{
 "cells": [
  {
   "cell_type": "code",
   "execution_count": 1,
   "id": "70047ad0",
   "metadata": {},
   "outputs": [
    {
     "name": "stdout",
     "output_type": "stream",
     "text": [
      "Below is an instruction that describes a task, paired with an input that provides further context. Write a response that appropriately completes the request.\n",
      "\n",
      "### Instruction:\n",
      "Some text is provided below. Given the text, extract up to 5 knowledge triplets in the form of (subject, predicate, object).\n",
      "\n",
      "### Input: \n",
      "Text: Alice is Bob's mother. \n",
      "Triplets: \n",
      "    (Alice, is mother of, Bob) \n",
      "Text: Philz is a coffee shop founded in Berkeley in 1982. \n",
      "Triplets: \n",
      "    (Philz, is, coffee shop) \n",
      "    (Philz, founded in, Berkeley) \n",
      "    (Philz, founded in, 1982) \n",
      "Text: This small and colorful book is for children. \n",
      "Triplets: \n",
      "    (book, is for, children)\n",
      "    (book, is, small and colorful) \n",
      "    (small book, is for, children) \n",
      "    (this small book, is for, children) \n",
      "Text: We saw these dwellings, brightly painted cottages, shining in the sun. \n",
      "Triplets: \n",
      "    (dwellings, are, brightly painted cottages) \n",
      "    (cottages, shine in, the sun) \n",
      "--------------------- \n",
      "### Text: Y Combinator was not the original name. At first we were called Cambridge Seed. But we didn't want a regional name, in case someone copied us in Silicon Valley, so we renamed ourselves after one of the coolest tricks in the lambda calculus, the Y combinator. \n",
      "\n",
      "### Triplets: \n"
     ]
    }
   ],
   "source": [
    "import time\n",
    "import openai\n",
    "openai.api_key = \"EMPTY\" \n",
    "openai.api_base = \"http://localhost:8000/v1\"\n",
    "\n",
    "model = \"Writer/camel-5b-hf\"\n",
    "\n",
    "text = \"Y Combinator was not the original name. At first we were called Cambridge Seed. But we didn't want a regional name, in case someone copied us in Silicon Valley, so we renamed ourselves after one of the coolest tricks in the lambda calculus, the Y combinator.\"\n",
    "\n",
    "prompt_template = (\n",
    "            \"Below is an instruction that describes a task, paired with an input that provides further context. \"\n",
    "            \"Write a response that appropriately completes the request.\\n\\n\"\n",
    "            \"### Instruction:\\n\"  \n",
    "            \"Some text is provided below. Given the text, extract up to 5 knowledge triplets in the form of \" \n",
    "            \"(subject, predicate, object).\\n\\n\"  \n",
    "            \"### Input: \\n\"\n",
    "            \"Text: Alice is Bob's mother. \\n\" \n",
    "            \"Triplets: \\n\"\n",
    "            \"    (Alice, is mother of, Bob) \\n\"\n",
    "            \"Text: Philz is a coffee shop founded in Berkeley in 1982. \\n\"\n",
    "            \"Triplets: \\n\"\n",
    "            \"    (Philz, is, coffee shop) \\n\"\n",
    "            \"    (Philz, founded in, Berkeley) \\n\"\n",
    "            \"    (Philz, founded in, 1982) \\n\"\n",
    "            \"Text: This small and colorful book is for children. \\n\"\n",
    "            \"Triplets: \\n\"\n",
    "            \"    (book, is for, children)\\n\"\n",
    "            \"    (book, is, small and colorful) \\n\"\n",
    "            \"    (small book, is for, children) \\n\"\n",
    "            \"    (this small book, is for, children) \\n\"\n",
    "            \"Text: We saw these dwellings, brightly painted cottages, shining in the sun. \\n\"\n",
    "            \"Triplets: \\n\"\n",
    "            \"    (dwellings, are, brightly painted cottages) \\n\"\n",
    "            \"    (cottages, shine in, the sun) \\n\"\n",
    "            \"--------------------- \\n\"\n",
    "            \"### Text: {text} \\n\\n\"\n",
    "            \"### Triplets: \"\n",
    ")\n",
    "\n",
    "prompt = prompt_template.format(text=text)\n",
    "\n",
    "print(prompt)"
   ]
  },
  {
   "cell_type": "code",
   "execution_count": 2,
   "id": "7826b49e",
   "metadata": {},
   "outputs": [
    {
     "name": "stdout",
     "output_type": "stream",
     "text": [
      "inference completed in: 45.47s\n"
     ]
    }
   ],
   "source": [
    "# create a completion\n",
    "start = time.time()\n",
    "completion = openai.Completion.create(model=model, prompt=prompt)\n",
    "end = time.time()\n",
    "print(f\"inference completed in: {end-start:.2f}s\")"
   ]
  },
  {
   "cell_type": "code",
   "execution_count": 3,
   "id": "06e118b9",
   "metadata": {},
   "outputs": [
    {
     "name": "stdout",
     "output_type": "stream",
     "text": [
      "\n",
      "    (Y Combinator, was not, the original name) \n",
      "    (Y Combinator, was not, coined in) \n",
      "    (Y Combinator, was not, the original name in)<|endoftext|>\n"
     ]
    }
   ],
   "source": [
    "print(completion.choices[0].text)"
   ]
  },
  {
   "cell_type": "code",
   "execution_count": null,
   "id": "4599a90f",
   "metadata": {},
   "outputs": [],
   "source": []
  }
 ],
 "metadata": {
  "kernelspec": {
   "display_name": "Python 3 (ipykernel)",
   "language": "python",
   "name": "python3"
  },
  "language_info": {
   "codemirror_mode": {
    "name": "ipython",
    "version": 3
   },
   "file_extension": ".py",
   "mimetype": "text/x-python",
   "name": "python",
   "nbconvert_exporter": "python",
   "pygments_lexer": "ipython3",
   "version": "3.9.15"
  }
 },
 "nbformat": 4,
 "nbformat_minor": 5
}
