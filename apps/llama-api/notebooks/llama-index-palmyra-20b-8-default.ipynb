{
 "cells": [
  {
   "cell_type": "code",
   "execution_count": 1,
   "id": "70047ad0",
   "metadata": {},
   "outputs": [
    {
     "name": "stdout",
     "output_type": "stream",
     "text": [
      "Some text is provided below. Given the text, extract up to 5 knowledge triplets in the form of (subject, predicate, object). \n",
      "---------------------\n",
      "Text: Alice is Bob's mother. \n",
      "Triplets: \n",
      "    (Alice, is mother of, Bob) \n",
      "Text: Philz is a coffee shop founded in Berkeley in 1982. \n",
      "Triplets: \n",
      "    (Philz, is, coffee shop) \n",
      "    (Philz, founded in, Berkeley) \n",
      "    (Philz, founded in, 1982) \n",
      "---------------------\n",
      "Text: Y Combinator was not the original name. At first we were called Cambridge Seed. But we didn't want a regional name, in case someone copied us in Silicon Valley, so we renamed ourselves after one of the coolest tricks in the lambda calculus, the Y combinator. \n",
      "Triplets:\n"
     ]
    }
   ],
   "source": [
    "import time\n",
    "import openai\n",
    "openai.api_key = \"EMPTY\" \n",
    "#openai.api_base = \"http://localhost:8000/v1\"\n",
    "openai.api_base = \"http://10.0.0.179:30307/v1\"\n",
    "\n",
    "model = \"Arylwen/instruct-palmyra-20b-gptq-8\"\n",
    "\n",
    "text = \"Y Combinator was not the original name. At first we were called Cambridge Seed. But we didn't want a regional name, in case someone copied us in Silicon Valley, so we renamed ourselves after one of the coolest tricks in the lambda calculus, the Y combinator.\"\n",
    "\n",
    "prompt_template = (\n",
    "            \"Some text is provided below. Given the text, extract up to 5 knowledge triplets in the form of \" \n",
    "            \"(subject, predicate, object). \\n\"\n",
    "            \"---------------------\\n\"\n",
    "            \"Text: Alice is Bob's mother. \\n\" \n",
    "            \"Triplets: \\n\"\n",
    "            \"    (Alice, is mother of, Bob) \\n\"\n",
    "            \"Text: Philz is a coffee shop founded in Berkeley in 1982. \\n\"\n",
    "            \"Triplets: \\n\"\n",
    "            \"    (Philz, is, coffee shop) \\n\"\n",
    "            \"    (Philz, founded in, Berkeley) \\n\"\n",
    "            \"    (Philz, founded in, 1982) \\n\"\n",
    "            \"---------------------\\n\"    \n",
    "            \"Text: {text} \\n\"\n",
    "            \"Triplets:\"\n",
    ")\n",
    "\n",
    "prompt = prompt_template.format(text=text)\n",
    "\n",
    "print(prompt)"
   ]
  },
  {
   "cell_type": "code",
   "execution_count": 2,
   "id": "7826b49e",
   "metadata": {},
   "outputs": [
    {
     "name": "stdout",
     "output_type": "stream",
     "text": [
      "inference completed in: 323.45s\n"
     ]
    }
   ],
   "source": [
    "# create a completion\n",
    "start = time.time()\n",
    "completion = openai.Completion.create(model=model, prompt=prompt, max_tokens=1024, temperature=0.01)\n",
    "end = time.time()\n",
    "print(f\"inference completed in: {end-start:.2f}s\")"
   ]
  },
  {
   "cell_type": "code",
   "execution_count": 3,
   "id": "06e118b9",
   "metadata": {},
   "outputs": [
    {
     "name": "stdout",
     "output_type": "stream",
     "text": [
      " \n",
      "    (Y Combinator, was not, the original name) \n",
      "    (Y Combinator, is, one of the coolest tricks) \n",
      "    (Y Combinator, in case someone copied us)<|endoftext|>\n"
     ]
    }
   ],
   "source": [
    "print(completion.choices[0].text)"
   ]
  },
  {
   "cell_type": "code",
   "execution_count": 4,
   "id": "72c2605e",
   "metadata": {},
   "outputs": [
    {
     "name": "stdout",
     "output_type": "stream",
     "text": [
      "Below is an instruction that describes a task, paired with an input that provides further context. Write a response that appropriately completes the request.\n",
      "\n",
      "### Instruction:\n",
      "Some text is provided below. Given the text, extract up to 10 knowledge triplets in the form of (subject, predicate, object). \n",
      "\n",
      "Avoid duplicates. \n",
      "\n",
      "### Input: \n",
      "Text: Alice is Bob's mother. \n",
      "Triplets: \n",
      "    (Alice, is mother of, Bob) \n",
      "Text: Philz is a coffee shop founded in Berkeley in 1982. \n",
      "Triplets: \n",
      "    (Philz, is, coffee shop) \n",
      "    (Philz, founded in, Berkeley) \n",
      "    (Philz, founded in, 1982) \n",
      "### Text: Y Combinator was not the original name. At first we were called Cambridge Seed. But we didn't want a regional name, in case someone copied us in Silicon Valley, so we renamed ourselves after one of the coolest tricks in the lambda calculus, the Y combinator. \n",
      "\n",
      "### Response:\n"
     ]
    }
   ],
   "source": [
    "prompt_template = (\n",
    "            \"Below is an instruction that describes a task, paired with an input that provides further context. \"\n",
    "            \"Write a response that appropriately completes the request.\\n\\n\"\n",
    "            \"### Instruction:\\n\"  \n",
    "            \"Some text is provided below. Given the text, extract up to 10 knowledge triplets in the form of \" \n",
    "            \"(subject, predicate, object). \\n\\n\"\n",
    "            \"Avoid duplicates. \\n\\n\"  \n",
    "            \"### Input: \\n\"\n",
    "            \"Text: Alice is Bob's mother. \\n\" \n",
    "            \"Triplets: \\n\"\n",
    "            \"    (Alice, is mother of, Bob) \\n\"\n",
    "            \"Text: Philz is a coffee shop founded in Berkeley in 1982. \\n\"\n",
    "            \"Triplets: \\n\"\n",
    "            \"    (Philz, is, coffee shop) \\n\"\n",
    "            \"    (Philz, founded in, Berkeley) \\n\"\n",
    "            \"    (Philz, founded in, 1982) \\n\"\n",
    "            \"### Text: {text} \\n\\n\"\n",
    "            \"### Response:\"\n",
    ")\n",
    "\n",
    "prompt = prompt_template.format(text=text)\n",
    "print(prompt)"
   ]
  },
  {
   "cell_type": "code",
   "execution_count": 5,
   "id": "eb680dc9",
   "metadata": {},
   "outputs": [
    {
     "name": "stdout",
     "output_type": "stream",
     "text": [
      "inference completed in: 7.39s\n"
     ]
    }
   ],
   "source": [
    "# create a completion\n",
    "start = time.time()\n",
    "completion = openai.Completion.create(model=model, prompt=prompt, max_tokens=1024, temperature=0.01)\n",
    "end = time.time()\n",
    "print(f\"inference completed in: {end-start:.2f}s\")"
   ]
  },
  {
   "cell_type": "code",
   "execution_count": 6,
   "id": "5490e67d",
   "metadata": {},
   "outputs": [
    {
     "name": "stdout",
     "output_type": "stream",
     "text": [
      "Triplets: \n",
      "    (Y Combinator, was not the original name, Cambridge Seed) \n",
      "    (Y Combinator, was not the original name, Y Combinator) \n",
      "    (Y Combinator, is, lambda calculus) \n",
      "    (Y Combinator, is, cool trick) \n",
      "    (Y Combinator, is, in the lambda calculus) \n",
      "    (Y Combinator, is, in Silicon Valley) \n",
      "    (Y Combinator, was founded in, 1982) \n",
      "    (Y Combinator, was founded in, Berkeley)<|endoftext|>\n"
     ]
    }
   ],
   "source": [
    "print(completion.choices[0].text)"
   ]
  }
 ],
 "metadata": {
  "kernelspec": {
   "display_name": "Python 3 (ipykernel)",
   "language": "python",
   "name": "python3"
  },
  "language_info": {
   "codemirror_mode": {
    "name": "ipython",
    "version": 3
   },
   "file_extension": ".py",
   "mimetype": "text/x-python",
   "name": "python",
   "nbconvert_exporter": "python",
   "pygments_lexer": "ipython3",
   "version": "3.9.18"
  }
 },
 "nbformat": 4,
 "nbformat_minor": 5
}
