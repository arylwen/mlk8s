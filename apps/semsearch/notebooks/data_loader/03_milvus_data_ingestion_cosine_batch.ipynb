{
 "cells": [
  {
   "cell_type": "code",
   "execution_count": 1,
   "id": "725eae20",
   "metadata": {},
   "outputs": [],
   "source": [
    "#! pip install pymilvus"
   ]
  },
  {
   "cell_type": "code",
   "execution_count": 2,
   "id": "a7e12299",
   "metadata": {},
   "outputs": [],
   "source": [
    "from sentence_transformers import SentenceTransformer\n",
    "import glob\n",
    "from PIL import Image\n",
    "\n",
    "import numpy as np\n",
    "import time\n",
    "from pathlib import Path\n",
    "\n",
    "from pymilvus import (\n",
    "    connections,\n",
    "    utility,\n",
    "    FieldSchema,\n",
    "    CollectionSchema,\n",
    "    DataType,\n",
    "    Collection,\n",
    ")\n",
    "\n",
    "fmt = \"\\n=== {:30} ===\\n\"\n",
    "search_latency_fmt = \"search latency = {:.4f}s\"\n",
    "num_entities, dim = 3000, 8"
   ]
  },
  {
   "cell_type": "code",
   "execution_count": 3,
   "id": "5f3b9ae9",
   "metadata": {},
   "outputs": [],
   "source": [
    "#connections.connect(\"default\", host=\"34.168.23.74\", port=\"19530\")\n",
    "connections.connect(\"default\", host=\"milvus\", port=\"32179\")"
   ]
  },
  {
   "cell_type": "code",
   "execution_count": 4,
   "id": "d140c4ec",
   "metadata": {},
   "outputs": [],
   "source": [
    "collection_name = \"fsdl_ip\""
   ]
  },
  {
   "cell_type": "code",
   "execution_count": 5,
   "id": "fcf86f6a",
   "metadata": {},
   "outputs": [
    {
     "name": "stdout",
     "output_type": "stream",
     "text": [
      "Does the photo embedding collection exist in milvus: True\n"
     ]
    }
   ],
   "source": [
    "has = utility.has_collection(collection_name)\n",
    "print(f\"Does the photo embedding collection exist in milvus: {has}\")"
   ]
  },
  {
   "cell_type": "code",
   "execution_count": 6,
   "id": "7c2d8023",
   "metadata": {},
   "outputs": [],
   "source": [
    "dim = 512"
   ]
  },
  {
   "cell_type": "code",
   "execution_count": 7,
   "id": "ac19ed18",
   "metadata": {},
   "outputs": [],
   "source": [
    "if not has:\n",
    "    fields = [\n",
    "        FieldSchema(name=\"img_name\", dtype=DataType.VARCHAR, is_primary=True, auto_id=False, max_length=100),\n",
    "        FieldSchema(name=\"embeddings\", dtype=DataType.FLOAT_VECTOR, dim=dim)\n",
    "    ]\n",
    "\n",
    "    schema = CollectionSchema(fields, \"FDSL project embedding database\")\n",
    "    fsdl_collection = Collection(collection_name, schema, consistency_level=\"Strong\")\n",
    "else:\n",
    "    fsdl_collection = Collection(collection_name)"
   ]
  },
  {
   "cell_type": "code",
   "execution_count": 8,
   "id": "edbffd8e",
   "metadata": {
    "scrolled": true
   },
   "outputs": [
    {
     "data": {
      "text/plain": [
       "<Collection>:\n",
       "-------------\n",
       "<name>: fsdl_ip\n",
       "<partitions>: [{\"name\": \"_default\", \"collection_name\": \"fsdl_ip\", \"description\": \"\"}]\n",
       "<description>: FDSL project embedding database\n",
       "<schema>: {\n",
       "  auto_id: False\n",
       "  description: FDSL project embedding database\n",
       "  fields: [{\n",
       "    name: img_name\n",
       "    description: \n",
       "    type: 21\n",
       "    params: {'max_length': 100}\n",
       "    is_primary: True\n",
       "    auto_id: False\n",
       "  }, {\n",
       "    name: embeddings\n",
       "    description: \n",
       "    type: 101\n",
       "    params: {'dim': 512}\n",
       "  }]\n",
       "}"
      ]
     },
     "execution_count": 8,
     "metadata": {},
     "output_type": "execute_result"
    }
   ],
   "source": [
    "fsdl_collection"
   ]
  },
  {
   "cell_type": "code",
   "execution_count": 9,
   "id": "d235538e",
   "metadata": {},
   "outputs": [
    {
     "data": {
      "text/plain": [
       "398210"
      ]
     },
     "execution_count": 9,
     "metadata": {},
     "output_type": "execute_result"
    }
   ],
   "source": [
    "img_names = list(glob.glob('abo/images/**/*.jpg', recursive=True))\n",
    "len(img_names)"
   ]
  },
  {
   "cell_type": "code",
   "execution_count": 10,
   "id": "8bf5a16e",
   "metadata": {},
   "outputs": [],
   "source": [
    "#num_images = 10\n",
    "#num_images = 4096\n",
    "num_images = len(img_names)\n",
    "chunk_size = 1024\n",
    "#if the embedding load fails, note the latest processed\n",
    "checkpoint = 0"
   ]
  },
  {
   "cell_type": "code",
   "execution_count": 11,
   "id": "b122bfb3",
   "metadata": {},
   "outputs": [
    {
     "name": "stderr",
     "output_type": "stream",
     "text": [
      "ftfy or spacy is not installed using BERT BasicTokenizer instead of ftfy.\n"
     ]
    }
   ],
   "source": [
    "import torch\n",
    "img_model = SentenceTransformer('clip-ViT-B-32', device='cpu')\n",
    "\n",
    "def encode_images_cosine(img_model, img_names):\n",
    "    print(\"Images:\", len(img_names))\n",
    "    img_emb=torch.empty(0)\n",
    "    #split in chunks\n",
    "    processed = 0\n",
    "    chunks = [img_names[x:x+chunk_size] for x in range(0, len(img_names), chunk_size)]\n",
    "    #list comprehension reaches the limit of open files; TODO - how to do this in parallel\n",
    "    for chunk in chunks:\n",
    "        if processed < checkpoint:\n",
    "            processed = processed + len(chunk)\n",
    "            continue\n",
    "        start_time = time.time()\n",
    "        emb_tensor = img_model.encode([Image.open(filepath) for filepath in chunk],\n",
    "                                        batch_size=128, convert_to_tensor=True, \n",
    "                                        show_progress_bar=False)\n",
    "        end_time = time.time()\n",
    "        encoding_duration = end_time - start_time\n",
    "        #print(emb_tensor.shape)\n",
    "        #img_emb = torch.cat((img_emb, emb_tensor),0)\n",
    "        fnames = [filename.split(\"/\")[-1].split(\".\")[0] for filename in chunk]\n",
    "        #print(len(fnames))\n",
    "        #print(fnames[:10])\n",
    "        #instead of cat, normalize and insert\n",
    "        #place all points on the unit sphere\n",
    "        emb_tensor = emb_tensor / np.linalg.norm(emb_tensor, axis=1, keepdims=True)\n",
    "        processed = processed + emb_tensor.shape[0]\n",
    "        #print(processed)\n",
    "        entities = [\n",
    "            list(fnames),\n",
    "            emb_tensor.detach().numpy()\n",
    "        ]\n",
    "        start_time = time.time()\n",
    "        insert_result = fsdl_collection.insert(entities)\n",
    "        end_time = time.time()\n",
    "        insert_duration = end_time - start_time\n",
    "        print(f\"{time.ctime()} Processed: {processed} Encoding: {encoding_duration}; Insert: {insert_duration}; Entities: {fsdl_collection.num_entities}\")\n",
    "        #insert\n",
    "    #print(img_emb)\n",
    "    #print(img_emb.shape)\n",
    "    #place all points on the unit sphere\n",
    "    #img_emb = img_emb / np.linalg.norm(img_emb, axis=1, keepdims=True)\n",
    "    #return img_emb, img_names"
   ]
  },
  {
   "cell_type": "code",
   "execution_count": 12,
   "id": "9f7bb392",
   "metadata": {
    "scrolled": true
   },
   "outputs": [
    {
     "name": "stdout",
     "output_type": "stream",
     "text": [
      "Images: 398210\n",
      "Fri May 19 20:13:46 2023 Processed: 1024 Encoding: 41.55492329597473; Insert: 0.8703515529632568; Entities: 1024\n",
      "Fri May 19 20:14:35 2023 Processed: 2048 Encoding: 42.66278052330017; Insert: 0.8307642936706543; Entities: 2048\n",
      "Fri May 19 20:15:21 2023 Processed: 3072 Encoding: 41.42938446998596; Insert: 0.8334188461303711; Entities: 3072\n",
      "Fri May 19 20:16:07 2023 Processed: 4096 Encoding: 41.05150532722473; Insert: 0.9433002471923828; Entities: 4096\n",
      "Fri May 19 20:16:52 2023 Processed: 5120 Encoding: 40.148574113845825; Insert: 0.8241574764251709; Entities: 5120\n",
      "Fri May 19 20:17:32 2023 Processed: 6144 Encoding: 34.446739196777344; Insert: 0.8616952896118164; Entities: 6144\n",
      "Fri May 19 20:18:13 2023 Processed: 7168 Encoding: 35.20821285247803; Insert: 0.933013916015625; Entities: 7168\n",
      "Fri May 19 20:18:52 2023 Processed: 8192 Encoding: 35.8684024810791; Insert: 0.793999433517456; Entities: 8192\n",
      "Fri May 19 20:19:33 2023 Processed: 9216 Encoding: 36.2226927280426; Insert: 0.8240780830383301; Entities: 9216\n",
      "Fri May 19 20:20:15 2023 Processed: 10240 Encoding: 37.71868014335632; Insert: 0.8900551795959473; Entities: 10240\n",
      "Fri May 19 20:20:58 2023 Processed: 11264 Encoding: 37.598071575164795; Insert: 0.8610432147979736; Entities: 11264\n",
      "Fri May 19 20:21:40 2023 Processed: 12288 Encoding: 37.54426312446594; Insert: 0.8591833114624023; Entities: 12288\n",
      "Fri May 19 20:22:23 2023 Processed: 13312 Encoding: 38.17085647583008; Insert: 0.8388609886169434; Entities: 13312\n",
      "Fri May 19 20:23:09 2023 Processed: 14336 Encoding: 38.613693714141846; Insert: 4.127598524093628; Entities: 14336\n",
      "Fri May 19 20:23:52 2023 Processed: 15360 Encoding: 38.431681632995605; Insert: 0.8856537342071533; Entities: 15360\n",
      "Fri May 19 20:24:34 2023 Processed: 16384 Encoding: 38.890440225601196; Insert: 0.8006768226623535; Entities: 16384\n",
      "Fri May 19 20:25:18 2023 Processed: 17408 Encoding: 38.886929988861084; Insert: 0.9225966930389404; Entities: 17408\n",
      "Fri May 19 20:26:01 2023 Processed: 18432 Encoding: 38.9875762462616; Insert: 0.9872317314147949; Entities: 18432\n",
      "Fri May 19 20:26:51 2023 Processed: 19456 Encoding: 38.58182907104492; Insert: 1.0603926181793213; Entities: 19456\n",
      "Fri May 19 20:27:34 2023 Processed: 20480 Encoding: 39.17502164840698; Insert: 0.8538446426391602; Entities: 20480\n",
      "Fri May 19 20:28:19 2023 Processed: 21504 Encoding: 40.02993559837341; Insert: 0.9996588230133057; Entities: 21504\n",
      "Fri May 19 20:29:08 2023 Processed: 22528 Encoding: 38.734846115112305; Insert: 2.533247232437134; Entities: 22528\n",
      "Fri May 19 20:29:51 2023 Processed: 23552 Encoding: 38.71760964393616; Insert: 0.8552646636962891; Entities: 23552\n",
      "Fri May 19 20:30:37 2023 Processed: 24576 Encoding: 39.17090392112732; Insert: 1.034792423248291; Entities: 24576\n",
      "Fri May 19 20:31:20 2023 Processed: 25600 Encoding: 38.714593172073364; Insert: 0.8280575275421143; Entities: 25600\n",
      "Fri May 19 20:32:06 2023 Processed: 26624 Encoding: 39.33793592453003; Insert: 3.60774827003479; Entities: 26624\n",
      "Fri May 19 20:32:55 2023 Processed: 27648 Encoding: 37.99264073371887; Insert: 0.8229308128356934; Entities: 27648\n",
      "Fri May 19 20:33:39 2023 Processed: 28672 Encoding: 38.73544454574585; Insert: 0.8805718421936035; Entities: 28672\n",
      "Fri May 19 20:34:24 2023 Processed: 29696 Encoding: 39.033241987228394; Insert: 1.3954343795776367; Entities: 29696\n",
      "Fri May 19 20:35:07 2023 Processed: 30720 Encoding: 39.11120629310608; Insert: 0.9577703475952148; Entities: 30720\n",
      "Fri May 19 20:35:51 2023 Processed: 31744 Encoding: 38.97118830680847; Insert: 0.9340372085571289; Entities: 31744\n",
      "Fri May 19 20:36:52 2023 Processed: 32768 Encoding: 36.82939648628235; Insert: 0.8920283317565918; Entities: 32768\n",
      "Fri May 19 20:37:35 2023 Processed: 33792 Encoding: 38.54887914657593; Insert: 0.8615338802337646; Entities: 33792\n",
      "Fri May 19 20:38:18 2023 Processed: 34816 Encoding: 39.05360436439514; Insert: 0.7395806312561035; Entities: 34816\n",
      "Fri May 19 20:39:02 2023 Processed: 35840 Encoding: 38.87668967247009; Insert: 0.8600647449493408; Entities: 35840\n",
      "Fri May 19 20:39:50 2023 Processed: 36864 Encoding: 38.36457014083862; Insert: 0.901958703994751; Entities: 36864\n",
      "Fri May 19 20:40:33 2023 Processed: 37888 Encoding: 38.746893644332886; Insert: 0.9068214893341064; Entities: 37888\n",
      "Fri May 19 20:41:17 2023 Processed: 38912 Encoding: 38.76233911514282; Insert: 0.8455135822296143; Entities: 38912\n",
      "Fri May 19 20:42:00 2023 Processed: 39936 Encoding: 38.82038402557373; Insert: 0.8149745464324951; Entities: 39936\n",
      "Fri May 19 20:42:47 2023 Processed: 40960 Encoding: 38.84361124038696; Insert: 1.025956153869629; Entities: 40960\n",
      "Fri May 19 20:43:31 2023 Processed: 41984 Encoding: 38.81439566612244; Insert: 0.948016881942749; Entities: 41984\n",
      "Fri May 19 20:44:14 2023 Processed: 43008 Encoding: 38.976319313049316; Insert: 0.847583532333374; Entities: 43008\n",
      "Fri May 19 20:44:58 2023 Processed: 44032 Encoding: 39.164790630340576; Insert: 0.8378121852874756; Entities: 44032\n",
      "Fri May 19 20:45:42 2023 Processed: 45056 Encoding: 39.57395958900452; Insert: 0.8312556743621826; Entities: 45056\n",
      "Fri May 19 20:46:26 2023 Processed: 46080 Encoding: 39.287015199661255; Insert: 0.9302551746368408; Entities: 46080\n",
      "Fri May 19 20:47:13 2023 Processed: 47104 Encoding: 39.141974687576294; Insert: 3.839179754257202; Entities: 47104\n",
      "Fri May 19 20:48:01 2023 Processed: 48128 Encoding: 38.11993932723999; Insert: 0.8509635925292969; Entities: 48128\n",
      "Fri May 19 20:48:44 2023 Processed: 49152 Encoding: 38.79462194442749; Insert: 0.8011395931243896; Entities: 49152\n",
      "Fri May 19 20:49:31 2023 Processed: 50176 Encoding: 38.90820837020874; Insert: 4.3165037631988525; Entities: 50176\n",
      "Fri May 19 20:50:17 2023 Processed: 51200 Encoding: 38.01949977874756; Insert: 0.8841490745544434; Entities: 51200\n",
      "Fri May 19 20:51:01 2023 Processed: 52224 Encoding: 38.942593574523926; Insert: 0.8135485649108887; Entities: 52224\n",
      "Fri May 19 20:51:58 2023 Processed: 53248 Encoding: 37.05032181739807; Insert: 0.8983829021453857; Entities: 53248\n",
      "Fri May 19 20:52:42 2023 Processed: 54272 Encoding: 38.345149755477905; Insert: 0.9421114921569824; Entities: 54272\n",
      "Fri May 19 20:53:27 2023 Processed: 55296 Encoding: 38.59786653518677; Insert: 2.0065083503723145; Entities: 55296\n",
      "Fri May 19 20:54:14 2023 Processed: 56320 Encoding: 38.253044843673706; Insert: 3.5426294803619385; Entities: 56320\n",
      "Fri May 19 20:54:58 2023 Processed: 57344 Encoding: 38.51420307159424; Insert: 0.9677302837371826; Entities: 57344\n",
      "Fri May 19 20:55:42 2023 Processed: 58368 Encoding: 37.33188056945801; Insert: 2.440152406692505; Entities: 58368\n",
      "Fri May 19 20:56:26 2023 Processed: 59392 Encoding: 37.03853249549866; Insert: 0.883904218673706; Entities: 59392\n",
      "Fri May 19 20:57:09 2023 Processed: 60416 Encoding: 36.33352017402649; Insert: 2.4139926433563232; Entities: 60416\n",
      "Fri May 19 20:57:52 2023 Processed: 61440 Encoding: 36.261454582214355; Insert: 1.094602346420288; Entities: 61440\n",
      "Fri May 19 20:58:37 2023 Processed: 62464 Encoding: 37.20956897735596; Insert: 4.111420154571533; Entities: 62464\n",
      "Fri May 19 20:59:21 2023 Processed: 63488 Encoding: 37.07088828086853; Insert: 0.9729986190795898; Entities: 63488\n",
      "Fri May 19 21:00:09 2023 Processed: 64512 Encoding: 38.573243856430054; Insert: 5.510458707809448; Entities: 64512\n",
      "Fri May 19 21:00:55 2023 Processed: 65536 Encoding: 37.769596338272095; Insert: 0.8846678733825684; Entities: 65536\n",
      "Fri May 19 21:01:39 2023 Processed: 66560 Encoding: 38.39301419258118; Insert: 2.4416768550872803; Entities: 66560\n",
      "Fri May 19 21:02:27 2023 Processed: 67584 Encoding: 38.48286199569702; Insert: 0.967949390411377; Entities: 67584\n",
      "Fri May 19 21:03:13 2023 Processed: 68608 Encoding: 39.15056610107422; Insert: 3.096632957458496; Entities: 68608\n",
      "Fri May 19 21:04:03 2023 Processed: 69632 Encoding: 37.88218355178833; Insert: 2.8488481044769287; Entities: 69632\n",
      "Fri May 19 21:04:47 2023 Processed: 70656 Encoding: 37.66040921211243; Insert: 0.8233797550201416; Entities: 70656\n",
      "Fri May 19 21:05:33 2023 Processed: 71680 Encoding: 38.32328176498413; Insert: 3.7036516666412354; Entities: 71680\n",
      "Fri May 19 21:06:17 2023 Processed: 72704 Encoding: 37.81962299346924; Insert: 1.4980416297912598; Entities: 72704\n",
      "Fri May 19 21:07:02 2023 Processed: 73728 Encoding: 38.374929428100586; Insert: 1.0937128067016602; Entities: 73728\n"
     ]
    },
    {
     "name": "stdout",
     "output_type": "stream",
     "text": [
      "Fri May 19 21:07:50 2023 Processed: 74752 Encoding: 38.13424491882324; Insert: 1.1046323776245117; Entities: 74752\n",
      "Fri May 19 21:08:36 2023 Processed: 75776 Encoding: 38.2521755695343; Insert: 0.8451840877532959; Entities: 75776\n",
      "Fri May 19 21:09:23 2023 Processed: 76800 Encoding: 38.73236322402954; Insert: 3.9149723052978516; Entities: 76800\n",
      "Fri May 19 21:10:11 2023 Processed: 77824 Encoding: 38.569202184677124; Insert: 4.3128485679626465; Entities: 77824\n",
      "Fri May 19 21:10:59 2023 Processed: 78848 Encoding: 38.03066086769104; Insert: 3.7337894439697266; Entities: 78848\n",
      "Fri May 19 21:11:46 2023 Processed: 79872 Encoding: 37.79614591598511; Insert: 0.9909248352050781; Entities: 79872\n",
      "Fri May 19 21:12:32 2023 Processed: 80896 Encoding: 38.563965797424316; Insert: 3.2756123542785645; Entities: 80896\n",
      "Fri May 19 21:13:21 2023 Processed: 81920 Encoding: 37.76081919670105; Insert: 1.9863719940185547; Entities: 81920\n",
      "Fri May 19 21:14:11 2023 Processed: 82944 Encoding: 37.95154666900635; Insert: 6.93143367767334; Entities: 82944\n",
      "Fri May 19 21:14:57 2023 Processed: 83968 Encoding: 37.299232721328735; Insert: 2.093676805496216; Entities: 83968\n",
      "Fri May 19 21:15:40 2023 Processed: 84992 Encoding: 38.73870515823364; Insert: 0.946826696395874; Entities: 84992\n",
      "Fri May 19 21:16:25 2023 Processed: 86016 Encoding: 38.67842483520508; Insert: 2.6600723266601562; Entities: 86016\n",
      "Fri May 19 21:17:11 2023 Processed: 87040 Encoding: 38.03295946121216; Insert: 1.0008811950683594; Entities: 87040\n",
      "Fri May 19 21:17:54 2023 Processed: 88064 Encoding: 38.53791522979736; Insert: 0.78011155128479; Entities: 88064\n",
      "Fri May 19 21:18:39 2023 Processed: 89088 Encoding: 38.71215105056763; Insert: 2.4750962257385254; Entities: 89088\n",
      "Fri May 19 21:19:27 2023 Processed: 90112 Encoding: 38.04122471809387; Insert: 3.5881662368774414; Entities: 90112\n",
      "Fri May 19 21:20:15 2023 Processed: 91136 Encoding: 37.8681275844574; Insert: 2.1601035594940186; Entities: 91136\n",
      "Fri May 19 21:21:01 2023 Processed: 92160 Encoding: 37.82041788101196; Insert: 0.8986833095550537; Entities: 92160\n",
      "Fri May 19 21:21:53 2023 Processed: 93184 Encoding: 37.630478382110596; Insert: 3.958681106567383; Entities: 93184\n",
      "Fri May 19 21:22:39 2023 Processed: 94208 Encoding: 37.553608894348145; Insert: 3.177410125732422; Entities: 94208\n",
      "Fri May 19 21:23:24 2023 Processed: 95232 Encoding: 37.7235107421875; Insert: 3.0531556606292725; Entities: 95232\n",
      "Fri May 19 21:24:13 2023 Processed: 96256 Encoding: 37.87109184265137; Insert: 4.069120645523071; Entities: 96256\n",
      "Fri May 19 21:25:00 2023 Processed: 97280 Encoding: 37.70005655288696; Insert: 3.194310188293457; Entities: 97280\n",
      "Fri May 19 21:25:47 2023 Processed: 98304 Encoding: 37.62291932106018; Insert: 2.4790899753570557; Entities: 98304\n",
      "Fri May 19 21:26:32 2023 Processed: 99328 Encoding: 38.10778069496155; Insert: 3.408170223236084; Entities: 99328\n",
      "Fri May 19 21:27:22 2023 Processed: 100352 Encoding: 37.44706654548645; Insert: 5.199869871139526; Entities: 100352\n",
      "Fri May 19 21:28:10 2023 Processed: 101376 Encoding: 37.62562799453735; Insert: 4.726348876953125; Entities: 101376\n",
      "Fri May 19 21:28:56 2023 Processed: 102400 Encoding: 37.294968605041504; Insert: 0.9385573863983154; Entities: 102400\n",
      "Fri May 19 21:29:44 2023 Processed: 103424 Encoding: 38.48671317100525; Insert: 5.678258419036865; Entities: 103424\n",
      "Fri May 19 21:30:28 2023 Processed: 104448 Encoding: 37.975855350494385; Insert: 3.203606367111206; Entities: 104448\n",
      "Fri May 19 21:31:13 2023 Processed: 105472 Encoding: 37.870420932769775; Insert: 2.1289496421813965; Entities: 105472\n",
      "Fri May 19 21:31:56 2023 Processed: 106496 Encoding: 38.01294660568237; Insert: 0.9476897716522217; Entities: 106496\n",
      "Fri May 19 21:32:44 2023 Processed: 107520 Encoding: 38.55439257621765; Insert: 4.816900014877319; Entities: 107520\n",
      "Fri May 19 21:33:30 2023 Processed: 108544 Encoding: 37.864200830459595; Insert: 3.7173542976379395; Entities: 108544\n",
      "Fri May 19 21:34:16 2023 Processed: 109568 Encoding: 37.59246802330017; Insert: 3.4062349796295166; Entities: 109568\n",
      "Fri May 19 21:34:59 2023 Processed: 110592 Encoding: 38.128278493881226; Insert: 1.0354397296905518; Entities: 110592\n",
      "Fri May 19 21:35:43 2023 Processed: 111616 Encoding: 37.51729130744934; Insert: 2.3971641063690186; Entities: 111616\n",
      "Fri May 19 21:36:31 2023 Processed: 112640 Encoding: 37.90533924102783; Insert: 2.5347368717193604; Entities: 112640\n",
      "Fri May 19 21:37:15 2023 Processed: 113664 Encoding: 37.26322603225708; Insert: 1.0511343479156494; Entities: 113664\n",
      "Fri May 19 21:37:58 2023 Processed: 114688 Encoding: 38.094496965408325; Insert: 0.9475958347320557; Entities: 114688\n",
      "Fri May 19 21:38:44 2023 Processed: 115712 Encoding: 38.29795432090759; Insert: 4.481776475906372; Entities: 115712\n",
      "Fri May 19 21:39:29 2023 Processed: 116736 Encoding: 37.88155817985535; Insert: 3.7405343055725098; Entities: 116736\n",
      "Fri May 19 21:40:14 2023 Processed: 117760 Encoding: 37.78073334693909; Insert: 3.5479300022125244; Entities: 117760\n",
      "Fri May 19 21:41:02 2023 Processed: 118784 Encoding: 37.53807067871094; Insert: 4.47910737991333; Entities: 118784\n",
      "Fri May 19 21:41:47 2023 Processed: 119808 Encoding: 36.969740867614746; Insert: 1.14487886428833; Entities: 119808\n",
      "Fri May 19 21:42:37 2023 Processed: 120832 Encoding: 37.40496873855591; Insert: 7.225607872009277; Entities: 120832\n",
      "Fri May 19 21:43:26 2023 Processed: 121856 Encoding: 37.43609666824341; Insert: 6.527251482009888; Entities: 121856\n",
      "Fri May 19 21:44:16 2023 Processed: 122880 Encoding: 36.506635665893555; Insert: 6.5553138256073; Entities: 122880\n",
      "Fri May 19 21:44:59 2023 Processed: 123904 Encoding: 36.90102505683899; Insert: 1.0864818096160889; Entities: 123904\n",
      "Fri May 19 21:45:48 2023 Processed: 124928 Encoding: 37.92083501815796; Insert: 5.355116367340088; Entities: 124928\n",
      "Fri May 19 21:46:41 2023 Processed: 125952 Encoding: 36.445956230163574; Insert: 5.711294174194336; Entities: 125952\n",
      "Fri May 19 21:47:29 2023 Processed: 126976 Encoding: 36.501662492752075; Insert: 3.8204259872436523; Entities: 126976\n",
      "Fri May 19 21:48:21 2023 Processed: 128000 Encoding: 37.006181716918945; Insert: 9.554257154464722; Entities: 128000\n",
      "Fri May 19 21:49:09 2023 Processed: 129024 Encoding: 35.74065446853638; Insert: 1.2279250621795654; Entities: 129024\n",
      "Fri May 19 21:49:51 2023 Processed: 130048 Encoding: 37.40680718421936; Insert: 1.1212971210479736; Entities: 130048\n",
      "Fri May 19 21:50:38 2023 Processed: 131072 Encoding: 37.24000310897827; Insert: 5.402080059051514; Entities: 131072\n",
      "Fri May 19 21:51:26 2023 Processed: 132096 Encoding: 37.02881836891174; Insert: 6.090831518173218; Entities: 132096\n",
      "Fri May 19 21:52:10 2023 Processed: 133120 Encoding: 36.17463493347168; Insert: 2.269859552383423; Entities: 133120\n",
      "Fri May 19 21:52:53 2023 Processed: 134144 Encoding: 36.94556474685669; Insert: 1.0804612636566162; Entities: 134144\n",
      "Fri May 19 21:53:43 2023 Processed: 135168 Encoding: 37.47449207305908; Insert: 8.766570329666138; Entities: 135168\n",
      "Fri May 19 21:54:34 2023 Processed: 136192 Encoding: 36.74693822860718; Insert: 10.689608097076416; Entities: 136192\n",
      "Fri May 19 21:55:23 2023 Processed: 137216 Encoding: 35.96468472480774; Insert: 6.193158388137817; Entities: 137216\n",
      "Fri May 19 21:56:17 2023 Processed: 138240 Encoding: 36.43068599700928; Insert: 9.981196403503418; Entities: 138240\n",
      "Fri May 19 21:57:03 2023 Processed: 139264 Encoding: 35.98222756385803; Insert: 5.338780641555786; Entities: 139264\n",
      "Fri May 19 21:57:50 2023 Processed: 140288 Encoding: 36.24186587333679; Insert: 3.7855112552642822; Entities: 140288\n",
      "Fri May 19 21:58:36 2023 Processed: 141312 Encoding: 36.65007019042969; Insert: 4.945920467376709; Entities: 141312\n",
      "Fri May 19 21:59:22 2023 Processed: 142336 Encoding: 36.45626354217529; Insert: 3.7644083499908447; Entities: 142336\n",
      "Fri May 19 22:00:17 2023 Processed: 143360 Encoding: 36.65028405189514; Insert: 12.558965921401978; Entities: 143360\n",
      "Fri May 19 22:01:01 2023 Processed: 144384 Encoding: 35.96632409095764; Insert: 3.948521614074707; Entities: 144384\n",
      "Fri May 19 22:01:41 2023 Processed: 145408 Encoding: 36.67465376853943; Insert: 1.1198899745941162; Entities: 145408\n",
      "Fri May 19 22:02:27 2023 Processed: 146432 Encoding: 37.29320192337036; Insert: 4.936848402023315; Entities: 146432\n"
     ]
    },
    {
     "name": "stdout",
     "output_type": "stream",
     "text": [
      "Fri May 19 22:03:14 2023 Processed: 147456 Encoding: 36.759061098098755; Insert: 6.215966701507568; Entities: 147456\n",
      "Fri May 19 22:04:05 2023 Processed: 148480 Encoding: 35.85289406776428; Insert: 3.8931479454040527; Entities: 148480\n",
      "Fri May 19 22:05:02 2023 Processed: 149504 Encoding: 36.08091187477112; Insert: 11.651243925094604; Entities: 149504\n",
      "Fri May 19 22:06:01 2023 Processed: 150528 Encoding: 35.416277170181274; Insert: 8.634471416473389; Entities: 150528\n",
      "Fri May 19 22:06:44 2023 Processed: 151552 Encoding: 35.77549338340759; Insert: 1.9782185554504395; Entities: 151552\n",
      "Fri May 19 22:07:34 2023 Processed: 152576 Encoding: 36.40388369560242; Insert: 6.705650091171265; Entities: 152576\n",
      "Fri May 19 22:08:33 2023 Processed: 153600 Encoding: 35.39077639579773; Insert: 7.581112861633301; Entities: 153600\n",
      "Fri May 19 22:09:25 2023 Processed: 154624 Encoding: 35.68463373184204; Insert: 8.682779312133789; Entities: 154624\n",
      "Fri May 19 22:10:15 2023 Processed: 155648 Encoding: 35.68401622772217; Insert: 5.341793775558472; Entities: 155648\n",
      "Fri May 19 22:10:58 2023 Processed: 156672 Encoding: 36.16398525238037; Insert: 1.317439079284668; Entities: 156672\n",
      "Fri May 19 22:11:43 2023 Processed: 157696 Encoding: 37.05465364456177; Insert: 5.115379810333252; Entities: 157696\n",
      "Fri May 19 22:12:50 2023 Processed: 158720 Encoding: 36.454734325408936; Insert: 25.675606727600098; Entities: 158720\n",
      "Fri May 19 22:13:38 2023 Processed: 159744 Encoding: 34.936938762664795; Insert: 6.265981435775757; Entities: 159744\n",
      "Fri May 19 22:14:27 2023 Processed: 160768 Encoding: 35.21958541870117; Insert: 1.401090145111084; Entities: 160768\n",
      "Fri May 19 22:15:18 2023 Processed: 161792 Encoding: 36.52080845832825; Insert: 11.78324556350708; Entities: 161792\n",
      "Fri May 19 22:16:20 2023 Processed: 162816 Encoding: 35.66849446296692; Insert: 17.371957063674927; Entities: 162816\n",
      "Fri May 19 22:17:02 2023 Processed: 163840 Encoding: 35.12989377975464; Insert: 3.727396011352539; Entities: 163840\n",
      "Fri May 19 22:17:51 2023 Processed: 164864 Encoding: 35.93417429924011; Insert: 5.615537881851196; Entities: 164864\n",
      "Fri May 19 22:18:42 2023 Processed: 165888 Encoding: 36.0367910861969; Insert: 7.820376396179199; Entities: 165888\n",
      "Fri May 19 22:19:26 2023 Processed: 166912 Encoding: 36.13212585449219; Insert: 4.3575379848480225; Entities: 166912\n",
      "Fri May 19 22:20:12 2023 Processed: 167936 Encoding: 36.71825289726257; Insert: 6.112464904785156; Entities: 167936\n",
      "Fri May 19 22:21:13 2023 Processed: 168960 Encoding: 36.19798994064331; Insert: 19.710610389709473; Entities: 168960\n",
      "Fri May 19 22:21:59 2023 Processed: 169984 Encoding: 35.229777812957764; Insert: 2.3043665885925293; Entities: 169984\n",
      "Fri May 19 22:22:46 2023 Processed: 171008 Encoding: 36.11338758468628; Insert: 5.187779188156128; Entities: 171008\n",
      "Fri May 19 22:23:33 2023 Processed: 172032 Encoding: 36.603970766067505; Insert: 6.625688791275024; Entities: 172032\n",
      "Fri May 19 22:24:22 2023 Processed: 173056 Encoding: 35.9541130065918; Insert: 5.655113697052002; Entities: 173056\n",
      "Fri May 19 22:25:06 2023 Processed: 174080 Encoding: 36.49702739715576; Insert: 3.5228097438812256; Entities: 174080\n",
      "Fri May 19 22:25:56 2023 Processed: 175104 Encoding: 36.369044065475464; Insert: 5.786329030990601; Entities: 175104\n",
      "Fri May 19 22:26:42 2023 Processed: 176128 Encoding: 36.696332693099976; Insert: 5.738161087036133; Entities: 176128\n",
      "Fri May 19 22:27:29 2023 Processed: 177152 Encoding: 37.02950167655945; Insert: 5.708005905151367; Entities: 177152\n",
      "Fri May 19 22:28:20 2023 Processed: 178176 Encoding: 36.5994987487793; Insert: 5.434540748596191; Entities: 178176\n",
      "Fri May 19 22:29:05 2023 Processed: 179200 Encoding: 36.729626417160034; Insert: 4.8018105030059814; Entities: 179200\n",
      "Fri May 19 22:29:54 2023 Processed: 180224 Encoding: 36.51764369010925; Insert: 5.1694722175598145; Entities: 180224\n",
      "Fri May 19 22:30:45 2023 Processed: 181248 Encoding: 36.31119394302368; Insert: 4.668982028961182; Entities: 181248\n",
      "Fri May 19 22:31:32 2023 Processed: 182272 Encoding: 36.701070070266724; Insert: 5.024536371231079; Entities: 182272\n",
      "Fri May 19 22:32:20 2023 Processed: 183296 Encoding: 36.47761297225952; Insert: 5.08595609664917; Entities: 183296\n",
      "Fri May 19 22:33:14 2023 Processed: 184320 Encoding: 36.30010271072388; Insert: 7.963037014007568; Entities: 184320\n",
      "Fri May 19 22:34:01 2023 Processed: 185344 Encoding: 36.11506366729736; Insert: 4.008874177932739; Entities: 185344\n",
      "Fri May 19 22:34:44 2023 Processed: 186368 Encoding: 36.82740569114685; Insert: 2.0308849811553955; Entities: 186368\n",
      "Fri May 19 22:35:35 2023 Processed: 187392 Encoding: 36.89049506187439; Insert: 6.471136569976807; Entities: 187392\n",
      "Fri May 19 22:36:25 2023 Processed: 188416 Encoding: 36.54495191574097; Insert: 5.9150543212890625; Entities: 188416\n",
      "Fri May 19 22:37:12 2023 Processed: 189440 Encoding: 36.67895007133484; Insert: 5.391902208328247; Entities: 189440\n",
      "Fri May 19 22:37:59 2023 Processed: 190464 Encoding: 36.8135347366333; Insert: 4.884248733520508; Entities: 190464\n",
      "Fri May 19 22:38:44 2023 Processed: 191488 Encoding: 36.90589237213135; Insert: 3.5539426803588867; Entities: 191488\n",
      "Fri May 19 22:39:37 2023 Processed: 192512 Encoding: 35.954617977142334; Insert: 3.0080881118774414; Entities: 192512\n",
      "Fri May 19 22:40:22 2023 Processed: 193536 Encoding: 37.02598452568054; Insert: 3.4945788383483887; Entities: 193536\n",
      "Fri May 19 22:41:15 2023 Processed: 194560 Encoding: 36.18915152549744; Insert: 7.640534162521362; Entities: 194560\n",
      "Fri May 19 22:42:00 2023 Processed: 195584 Encoding: 36.741820096969604; Insert: 4.621582984924316; Entities: 195584\n",
      "Fri May 19 22:42:48 2023 Processed: 196608 Encoding: 36.49060845375061; Insert: 3.750091314315796; Entities: 196608\n",
      "Fri May 19 22:43:34 2023 Processed: 197632 Encoding: 36.87615609169006; Insert: 3.469411849975586; Entities: 197632\n",
      "Fri May 19 22:44:18 2023 Processed: 198656 Encoding: 36.681742906570435; Insert: 2.809990167617798; Entities: 198656\n",
      "Fri May 19 22:45:05 2023 Processed: 199680 Encoding: 37.190133571624756; Insert: 5.340076684951782; Entities: 199680\n",
      "Fri May 19 22:45:58 2023 Processed: 200704 Encoding: 36.376638412475586; Insert: 7.141434669494629; Entities: 200704\n",
      "Fri May 19 22:46:53 2023 Processed: 201728 Encoding: 35.61240887641907; Insert: 5.657126426696777; Entities: 201728\n",
      "Fri May 19 22:47:39 2023 Processed: 202752 Encoding: 36.29533624649048; Insert: 2.568085193634033; Entities: 202752\n",
      "Fri May 19 22:48:25 2023 Processed: 203776 Encoding: 36.816781520843506; Insert: 3.5068507194519043; Entities: 203776\n",
      "Fri May 19 22:49:16 2023 Processed: 204800 Encoding: 36.3093843460083; Insert: 8.164530515670776; Entities: 204800\n",
      "Fri May 19 22:50:00 2023 Processed: 205824 Encoding: 36.096227169036865; Insert: 3.85137677192688; Entities: 205824\n",
      "Fri May 19 22:50:47 2023 Processed: 206848 Encoding: 36.31988072395325; Insert: 3.9546496868133545; Entities: 206848\n",
      "Fri May 19 22:51:31 2023 Processed: 207872 Encoding: 36.42487621307373; Insert: 3.485990285873413; Entities: 207872\n",
      "Fri May 19 22:52:15 2023 Processed: 208896 Encoding: 36.805257081985474; Insert: 1.588888168334961; Entities: 208896\n",
      "Fri May 19 22:53:00 2023 Processed: 209920 Encoding: 37.24921202659607; Insert: 1.0259265899658203; Entities: 209920\n",
      "Fri May 19 22:53:49 2023 Processed: 210944 Encoding: 36.50230169296265; Insert: 3.3633055686950684; Entities: 210944\n",
      "Fri May 19 22:54:44 2023 Processed: 211968 Encoding: 35.868369579315186; Insert: 5.999431133270264; Entities: 211968\n",
      "Fri May 19 22:55:34 2023 Processed: 212992 Encoding: 36.27928185462952; Insert: 6.742475271224976; Entities: 212992\n",
      "Fri May 19 22:56:22 2023 Processed: 214016 Encoding: 35.830300092697144; Insert: 4.687517881393433; Entities: 214016\n",
      "Fri May 19 22:57:09 2023 Processed: 215040 Encoding: 36.112626791000366; Insert: 2.7221391201019287; Entities: 215040\n",
      "Fri May 19 22:57:52 2023 Processed: 216064 Encoding: 36.7250702381134; Insert: 0.9598841667175293; Entities: 216064\n",
      "Fri May 19 22:58:38 2023 Processed: 217088 Encoding: 37.260945081710815; Insert: 4.394038915634155; Entities: 217088\n",
      "Fri May 19 22:59:26 2023 Processed: 218112 Encoding: 36.788493156433105; Insert: 4.930744409561157; Entities: 218112\n",
      "Fri May 19 23:00:17 2023 Processed: 219136 Encoding: 36.316608905792236; Insert: 5.107950448989868; Entities: 219136\n"
     ]
    },
    {
     "name": "stdout",
     "output_type": "stream",
     "text": [
      "Fri May 19 23:01:05 2023 Processed: 220160 Encoding: 36.069321632385254; Insert: 5.320835113525391; Entities: 220160\n",
      "Fri May 19 23:01:52 2023 Processed: 221184 Encoding: 36.279327392578125; Insert: 4.173388242721558; Entities: 221184\n",
      "Fri May 19 23:02:38 2023 Processed: 222208 Encoding: 35.854745864868164; Insert: 2.754195213317871; Entities: 222208\n",
      "Fri May 19 23:03:24 2023 Processed: 223232 Encoding: 36.68797779083252; Insert: 5.3698999881744385; Entities: 223232\n",
      "Fri May 19 23:04:13 2023 Processed: 224256 Encoding: 36.460036516189575; Insert: 6.578221321105957; Entities: 224256\n",
      "Fri May 19 23:05:01 2023 Processed: 225280 Encoding: 36.130685329437256; Insert: 6.588853120803833; Entities: 225280\n",
      "Fri May 19 23:05:53 2023 Processed: 226304 Encoding: 35.96863913536072; Insert: 7.667951583862305; Entities: 226304\n",
      "Fri May 19 23:06:40 2023 Processed: 227328 Encoding: 35.75880551338196; Insert: 4.144246816635132; Entities: 227328\n",
      "Fri May 19 23:07:40 2023 Processed: 228352 Encoding: 35.04843044281006; Insert: 7.809791088104248; Entities: 228352\n",
      "Fri May 19 23:08:23 2023 Processed: 229376 Encoding: 35.49124240875244; Insert: 1.3305342197418213; Entities: 229376\n",
      "Fri May 19 23:09:06 2023 Processed: 230400 Encoding: 36.568607568740845; Insert: 1.2388403415679932; Entities: 230400\n",
      "Fri May 19 23:09:48 2023 Processed: 231424 Encoding: 37.00782608985901; Insert: 1.0041377544403076; Entities: 231424\n",
      "Fri May 19 23:10:30 2023 Processed: 232448 Encoding: 36.84660482406616; Insert: 1.1243433952331543; Entities: 232448\n",
      "Fri May 19 23:11:12 2023 Processed: 233472 Encoding: 37.31739592552185; Insert: 0.8073766231536865; Entities: 233472\n",
      "Fri May 19 23:11:54 2023 Processed: 234496 Encoding: 37.35768103599548; Insert: 0.991992712020874; Entities: 234496\n",
      "Fri May 19 23:12:37 2023 Processed: 235520 Encoding: 37.19701337814331; Insert: 1.0790669918060303; Entities: 235520\n",
      "Fri May 19 23:13:19 2023 Processed: 236544 Encoding: 37.3653507232666; Insert: 0.8952782154083252; Entities: 236544\n",
      "Fri May 19 23:14:01 2023 Processed: 237568 Encoding: 37.876173973083496; Insert: 0.8812417984008789; Entities: 237568\n",
      "Fri May 19 23:14:42 2023 Processed: 238592 Encoding: 37.54524254798889; Insert: 1.0233192443847656; Entities: 238592\n",
      "Fri May 19 23:15:25 2023 Processed: 239616 Encoding: 37.365477561950684; Insert: 0.8964073657989502; Entities: 239616\n",
      "Fri May 19 23:16:08 2023 Processed: 240640 Encoding: 37.72182893753052; Insert: 0.85764479637146; Entities: 240640\n",
      "Fri May 19 23:16:50 2023 Processed: 241664 Encoding: 37.42779731750488; Insert: 0.8718466758728027; Entities: 241664\n",
      "Fri May 19 23:17:32 2023 Processed: 242688 Encoding: 37.696404695510864; Insert: 0.9540271759033203; Entities: 242688\n",
      "Fri May 19 23:18:14 2023 Processed: 243712 Encoding: 37.99430799484253; Insert: 0.9874312877655029; Entities: 243712\n",
      "Fri May 19 23:18:56 2023 Processed: 244736 Encoding: 37.79896831512451; Insert: 0.9545488357543945; Entities: 244736\n",
      "Fri May 19 23:19:38 2023 Processed: 245760 Encoding: 37.68749403953552; Insert: 0.9309523105621338; Entities: 245760\n",
      "Fri May 19 23:20:21 2023 Processed: 246784 Encoding: 37.62320065498352; Insert: 0.9469990730285645; Entities: 246784\n",
      "Fri May 19 23:21:03 2023 Processed: 247808 Encoding: 37.66344118118286; Insert: 0.897904634475708; Entities: 247808\n",
      "Fri May 19 23:21:45 2023 Processed: 248832 Encoding: 37.75020933151245; Insert: 0.9046320915222168; Entities: 248832\n",
      "Fri May 19 23:22:28 2023 Processed: 249856 Encoding: 37.733771085739136; Insert: 1.147179365158081; Entities: 249856\n",
      "Fri May 19 23:23:10 2023 Processed: 250880 Encoding: 37.77965784072876; Insert: 0.9835693836212158; Entities: 250880\n",
      "Fri May 19 23:23:54 2023 Processed: 251904 Encoding: 37.386528968811035; Insert: 0.7865068912506104; Entities: 251904\n",
      "Fri May 19 23:24:37 2023 Processed: 252928 Encoding: 37.30137062072754; Insert: 0.9100539684295654; Entities: 252928\n",
      "Fri May 19 23:25:19 2023 Processed: 253952 Encoding: 37.100921392440796; Insert: 0.8596055507659912; Entities: 253952\n",
      "Fri May 19 23:26:01 2023 Processed: 254976 Encoding: 37.55283045768738; Insert: 0.8853759765625; Entities: 254976\n",
      "Fri May 19 23:26:44 2023 Processed: 256000 Encoding: 37.58039879798889; Insert: 1.09554123878479; Entities: 256000\n",
      "Fri May 19 23:27:26 2023 Processed: 257024 Encoding: 37.09566044807434; Insert: 0.8186609745025635; Entities: 257024\n",
      "Fri May 19 23:28:08 2023 Processed: 258048 Encoding: 37.74801182746887; Insert: 1.137892484664917; Entities: 258048\n",
      "Fri May 19 23:28:52 2023 Processed: 259072 Encoding: 37.50986933708191; Insert: 0.937877893447876; Entities: 259072\n",
      "Fri May 19 23:29:35 2023 Processed: 260096 Encoding: 38.246286153793335; Insert: 0.8247494697570801; Entities: 260096\n",
      "Fri May 19 23:30:18 2023 Processed: 261120 Encoding: 37.70320963859558; Insert: 0.9570326805114746; Entities: 261120\n",
      "Fri May 19 23:31:00 2023 Processed: 262144 Encoding: 37.574092864990234; Insert: 0.9868943691253662; Entities: 262144\n",
      "Fri May 19 23:31:42 2023 Processed: 263168 Encoding: 37.82215213775635; Insert: 0.8981707096099854; Entities: 263168\n",
      "Fri May 19 23:32:24 2023 Processed: 264192 Encoding: 37.58487558364868; Insert: 0.8734471797943115; Entities: 264192\n",
      "Fri May 19 23:33:07 2023 Processed: 265216 Encoding: 37.89485001564026; Insert: 0.8973426818847656; Entities: 265216\n",
      "Fri May 19 23:33:49 2023 Processed: 266240 Encoding: 37.8751699924469; Insert: 0.9579906463623047; Entities: 266240\n",
      "Fri May 19 23:34:31 2023 Processed: 267264 Encoding: 37.892335414886475; Insert: 0.8621640205383301; Entities: 267264\n",
      "Fri May 19 23:35:13 2023 Processed: 268288 Encoding: 37.72772145271301; Insert: 0.9465601444244385; Entities: 268288\n",
      "Fri May 19 23:35:56 2023 Processed: 269312 Encoding: 37.69379019737244; Insert: 0.9578244686126709; Entities: 269312\n",
      "Fri May 19 23:36:38 2023 Processed: 270336 Encoding: 37.84675049781799; Insert: 0.894355058670044; Entities: 270336\n",
      "Fri May 19 23:37:19 2023 Processed: 271360 Encoding: 37.674396991729736; Insert: 1.0012860298156738; Entities: 271360\n",
      "Fri May 19 23:38:02 2023 Processed: 272384 Encoding: 37.72205567359924; Insert: 0.8543848991394043; Entities: 272384\n",
      "Fri May 19 23:38:44 2023 Processed: 273408 Encoding: 37.78176665306091; Insert: 0.8467512130737305; Entities: 273408\n",
      "Fri May 19 23:39:26 2023 Processed: 274432 Encoding: 37.828272581100464; Insert: 1.045776605606079; Entities: 274432\n",
      "Fri May 19 23:40:08 2023 Processed: 275456 Encoding: 37.63065505027771; Insert: 0.878054141998291; Entities: 275456\n",
      "Fri May 19 23:40:51 2023 Processed: 276480 Encoding: 37.68710517883301; Insert: 0.9544837474822998; Entities: 276480\n",
      "Fri May 19 23:41:33 2023 Processed: 277504 Encoding: 37.62298369407654; Insert: 0.9406754970550537; Entities: 277504\n",
      "Fri May 19 23:42:16 2023 Processed: 278528 Encoding: 37.57865881919861; Insert: 1.0310330390930176; Entities: 278528\n",
      "Fri May 19 23:42:58 2023 Processed: 279552 Encoding: 38.02259111404419; Insert: 0.8938953876495361; Entities: 279552\n",
      "Fri May 19 23:43:41 2023 Processed: 280576 Encoding: 37.53979253768921; Insert: 0.9138190746307373; Entities: 280576\n",
      "Fri May 19 23:44:23 2023 Processed: 281600 Encoding: 37.751482009887695; Insert: 0.8341319561004639; Entities: 281600\n",
      "Fri May 19 23:45:05 2023 Processed: 282624 Encoding: 37.26622748374939; Insert: 1.2716989517211914; Entities: 282624\n",
      "Fri May 19 23:45:48 2023 Processed: 283648 Encoding: 38.19837689399719; Insert: 0.9022932052612305; Entities: 283648\n",
      "Fri May 19 23:46:31 2023 Processed: 284672 Encoding: 37.99450445175171; Insert: 0.9493682384490967; Entities: 284672\n",
      "Fri May 19 23:47:12 2023 Processed: 285696 Encoding: 37.36940407752991; Insert: 0.873286247253418; Entities: 285696\n",
      "Fri May 19 23:47:55 2023 Processed: 286720 Encoding: 38.09094548225403; Insert: 0.8826124668121338; Entities: 286720\n",
      "Fri May 19 23:48:39 2023 Processed: 287744 Encoding: 37.58465814590454; Insert: 0.8903024196624756; Entities: 287744\n",
      "Fri May 19 23:49:22 2023 Processed: 288768 Encoding: 37.475937843322754; Insert: 0.8617691993713379; Entities: 288768\n",
      "Fri May 19 23:50:05 2023 Processed: 289792 Encoding: 37.850111961364746; Insert: 0.8861379623413086; Entities: 289792\n",
      "Fri May 19 23:50:47 2023 Processed: 290816 Encoding: 37.38587403297424; Insert: 1.07234787940979; Entities: 290816\n",
      "Fri May 19 23:51:29 2023 Processed: 291840 Encoding: 37.88847541809082; Insert: 0.8585379123687744; Entities: 291840\n"
     ]
    },
    {
     "name": "stdout",
     "output_type": "stream",
     "text": [
      "Fri May 19 23:52:11 2023 Processed: 292864 Encoding: 37.66360926628113; Insert: 0.9734258651733398; Entities: 292864\n",
      "Fri May 19 23:52:53 2023 Processed: 293888 Encoding: 37.46112775802612; Insert: 0.9046320915222168; Entities: 293888\n",
      "Fri May 19 23:53:35 2023 Processed: 294912 Encoding: 37.48320484161377; Insert: 0.848383903503418; Entities: 294912\n",
      "Fri May 19 23:54:17 2023 Processed: 295936 Encoding: 37.579830169677734; Insert: 0.8306748867034912; Entities: 295936\n",
      "Fri May 19 23:55:00 2023 Processed: 296960 Encoding: 37.57612466812134; Insert: 0.966691255569458; Entities: 296960\n",
      "Fri May 19 23:55:42 2023 Processed: 297984 Encoding: 37.94548320770264; Insert: 0.8981075286865234; Entities: 297984\n",
      "Fri May 19 23:56:24 2023 Processed: 299008 Encoding: 37.888339042663574; Insert: 0.834942102432251; Entities: 299008\n",
      "Fri May 19 23:57:11 2023 Processed: 300032 Encoding: 37.78278851509094; Insert: 4.8607542514801025; Entities: 300032\n",
      "Fri May 19 23:57:51 2023 Processed: 301056 Encoding: 37.261452436447144; Insert: 0.876976728439331; Entities: 301056\n",
      "Fri May 19 23:58:33 2023 Processed: 302080 Encoding: 37.47845196723938; Insert: 0.9503235816955566; Entities: 302080\n",
      "Fri May 19 23:59:16 2023 Processed: 303104 Encoding: 38.13788843154907; Insert: 0.9028623104095459; Entities: 303104\n",
      "Fri May 19 23:59:58 2023 Processed: 304128 Encoding: 37.603421449661255; Insert: 0.8647561073303223; Entities: 304128\n",
      "Sat May 20 00:00:41 2023 Processed: 305152 Encoding: 37.94754433631897; Insert: 1.0168485641479492; Entities: 305152\n",
      "Sat May 20 00:01:23 2023 Processed: 306176 Encoding: 37.127657651901245; Insert: 0.8927831649780273; Entities: 306176\n",
      "Sat May 20 00:02:05 2023 Processed: 307200 Encoding: 37.535683393478394; Insert: 0.9583947658538818; Entities: 307200\n",
      "Sat May 20 00:02:47 2023 Processed: 308224 Encoding: 37.72621297836304; Insert: 0.7952880859375; Entities: 308224\n",
      "Sat May 20 00:03:29 2023 Processed: 309248 Encoding: 37.57057332992554; Insert: 0.9839789867401123; Entities: 309248\n",
      "Sat May 20 00:04:12 2023 Processed: 310272 Encoding: 37.65672302246094; Insert: 0.9692447185516357; Entities: 310272\n",
      "Sat May 20 00:04:54 2023 Processed: 311296 Encoding: 37.78314447402954; Insert: 0.9896466732025146; Entities: 311296\n",
      "Sat May 20 00:05:36 2023 Processed: 312320 Encoding: 37.07932758331299; Insert: 0.9531424045562744; Entities: 312320\n",
      "Sat May 20 00:06:19 2023 Processed: 313344 Encoding: 37.74389958381653; Insert: 0.8560616970062256; Entities: 313344\n",
      "Sat May 20 00:07:02 2023 Processed: 314368 Encoding: 37.70346760749817; Insert: 0.9674830436706543; Entities: 314368\n",
      "Sat May 20 00:07:44 2023 Processed: 315392 Encoding: 37.765540599823; Insert: 0.8926105499267578; Entities: 315392\n",
      "Sat May 20 00:08:26 2023 Processed: 316416 Encoding: 37.48081421852112; Insert: 0.8173129558563232; Entities: 316416\n",
      "Sat May 20 00:09:09 2023 Processed: 317440 Encoding: 38.075214862823486; Insert: 0.9747073650360107; Entities: 317440\n",
      "Sat May 20 00:09:51 2023 Processed: 318464 Encoding: 37.545185565948486; Insert: 1.234391450881958; Entities: 318464\n",
      "Sat May 20 00:10:34 2023 Processed: 319488 Encoding: 37.68807911872864; Insert: 0.9709455966949463; Entities: 319488\n",
      "Sat May 20 00:11:16 2023 Processed: 320512 Encoding: 38.06741285324097; Insert: 0.8165247440338135; Entities: 320512\n",
      "Sat May 20 00:11:58 2023 Processed: 321536 Encoding: 37.938884019851685; Insert: 0.9444537162780762; Entities: 321536\n",
      "Sat May 20 00:12:40 2023 Processed: 322560 Encoding: 37.95572805404663; Insert: 0.820742130279541; Entities: 322560\n",
      "Sat May 20 00:13:22 2023 Processed: 323584 Encoding: 37.817644357681274; Insert: 0.8038232326507568; Entities: 323584\n",
      "Sat May 20 00:14:05 2023 Processed: 324608 Encoding: 37.73992657661438; Insert: 0.968583345413208; Entities: 324608\n",
      "Sat May 20 00:14:47 2023 Processed: 325632 Encoding: 37.48944926261902; Insert: 0.9963352680206299; Entities: 325632\n",
      "Sat May 20 00:15:30 2023 Processed: 326656 Encoding: 37.64570212364197; Insert: 0.9112679958343506; Entities: 326656\n",
      "Sat May 20 00:16:12 2023 Processed: 327680 Encoding: 38.080018043518066; Insert: 0.9018149375915527; Entities: 327680\n",
      "Sat May 20 00:16:54 2023 Processed: 328704 Encoding: 37.87814974784851; Insert: 0.8960971832275391; Entities: 328704\n",
      "Sat May 20 00:17:41 2023 Processed: 329728 Encoding: 36.89547681808472; Insert: 0.9684622287750244; Entities: 329728\n",
      "Sat May 20 00:18:23 2023 Processed: 330752 Encoding: 37.45943236351013; Insert: 0.998798131942749; Entities: 330752\n",
      "Sat May 20 00:19:05 2023 Processed: 331776 Encoding: 37.370128870010376; Insert: 0.8033397197723389; Entities: 331776\n",
      "Sat May 20 00:19:47 2023 Processed: 332800 Encoding: 37.06279444694519; Insert: 0.8731575012207031; Entities: 332800\n",
      "Sat May 20 00:20:29 2023 Processed: 333824 Encoding: 37.49375367164612; Insert: 0.9421546459197998; Entities: 333824\n",
      "Sat May 20 00:21:11 2023 Processed: 334848 Encoding: 37.707189083099365; Insert: 0.8644909858703613; Entities: 334848\n",
      "Sat May 20 00:21:54 2023 Processed: 335872 Encoding: 37.44249415397644; Insert: 0.9004437923431396; Entities: 335872\n",
      "Sat May 20 00:22:37 2023 Processed: 336896 Encoding: 37.42758870124817; Insert: 0.959460973739624; Entities: 336896\n",
      "Sat May 20 00:23:18 2023 Processed: 337920 Encoding: 37.60366177558899; Insert: 0.9652836322784424; Entities: 337920\n",
      "Sat May 20 00:24:00 2023 Processed: 338944 Encoding: 37.204347372055054; Insert: 0.9592373371124268; Entities: 338944\n",
      "Sat May 20 00:24:42 2023 Processed: 339968 Encoding: 37.55294895172119; Insert: 0.8136813640594482; Entities: 339968\n",
      "Sat May 20 00:25:24 2023 Processed: 340992 Encoding: 37.71606779098511; Insert: 0.8509616851806641; Entities: 340992\n",
      "Sat May 20 00:26:06 2023 Processed: 342016 Encoding: 37.40200471878052; Insert: 1.0570399761199951; Entities: 342016\n",
      "Sat May 20 00:26:50 2023 Processed: 343040 Encoding: 37.45693492889404; Insert: 0.9357013702392578; Entities: 343040\n",
      "Sat May 20 00:27:31 2023 Processed: 344064 Encoding: 37.304078578948975; Insert: 0.8341090679168701; Entities: 344064\n",
      "Sat May 20 00:28:13 2023 Processed: 345088 Encoding: 37.642043113708496; Insert: 0.8031489849090576; Entities: 345088\n",
      "Sat May 20 00:28:55 2023 Processed: 346112 Encoding: 37.19925546646118; Insert: 0.9370310306549072; Entities: 346112\n",
      "Sat May 20 00:29:39 2023 Processed: 347136 Encoding: 38.29074835777283; Insert: 1.0118401050567627; Entities: 347136\n",
      "Sat May 20 00:30:21 2023 Processed: 348160 Encoding: 37.52417206764221; Insert: 0.9114274978637695; Entities: 348160\n",
      "Sat May 20 00:31:02 2023 Processed: 349184 Encoding: 37.6221718788147; Insert: 0.8379361629486084; Entities: 349184\n",
      "Sat May 20 00:31:44 2023 Processed: 350208 Encoding: 37.44769644737244; Insert: 0.7631406784057617; Entities: 350208\n",
      "Sat May 20 00:32:26 2023 Processed: 351232 Encoding: 37.402884006500244; Insert: 0.8171200752258301; Entities: 351232\n",
      "Sat May 20 00:33:07 2023 Processed: 352256 Encoding: 37.15847826004028; Insert: 0.9207160472869873; Entities: 352256\n",
      "Sat May 20 00:33:50 2023 Processed: 353280 Encoding: 37.28204417228699; Insert: 1.0437626838684082; Entities: 353280\n",
      "Sat May 20 00:34:31 2023 Processed: 354304 Encoding: 37.4232292175293; Insert: 0.9322199821472168; Entities: 354304\n",
      "Sat May 20 00:35:13 2023 Processed: 355328 Encoding: 37.55197596549988; Insert: 0.8946752548217773; Entities: 355328\n",
      "Sat May 20 00:35:55 2023 Processed: 356352 Encoding: 37.68953895568848; Insert: 0.9831387996673584; Entities: 356352\n",
      "Sat May 20 00:36:37 2023 Processed: 357376 Encoding: 37.465205669403076; Insert: 1.0035834312438965; Entities: 357376\n",
      "Sat May 20 00:37:19 2023 Processed: 358400 Encoding: 37.39183163642883; Insert: 0.865774393081665; Entities: 358400\n",
      "Sat May 20 00:38:00 2023 Processed: 359424 Encoding: 37.12091016769409; Insert: 0.9238400459289551; Entities: 359424\n",
      "Sat May 20 00:38:42 2023 Processed: 360448 Encoding: 37.457900285720825; Insert: 0.8858592510223389; Entities: 360448\n",
      "Sat May 20 00:39:24 2023 Processed: 361472 Encoding: 37.421666860580444; Insert: 0.9508979320526123; Entities: 361472\n",
      "Sat May 20 00:40:06 2023 Processed: 362496 Encoding: 37.41907215118408; Insert: 0.9783587455749512; Entities: 362496\n",
      "Sat May 20 00:40:48 2023 Processed: 363520 Encoding: 37.42933678627014; Insert: 1.0003130435943604; Entities: 363520\n"
     ]
    },
    {
     "name": "stdout",
     "output_type": "stream",
     "text": [
      "Sat May 20 00:41:31 2023 Processed: 364544 Encoding: 37.306480407714844; Insert: 0.9062275886535645; Entities: 364544\n",
      "Sat May 20 00:42:13 2023 Processed: 365568 Encoding: 37.42672538757324; Insert: 0.7260265350341797; Entities: 365568\n",
      "Sat May 20 00:42:57 2023 Processed: 366592 Encoding: 37.607197999954224; Insert: 0.7540163993835449; Entities: 366592\n",
      "Sat May 20 00:43:39 2023 Processed: 367616 Encoding: 37.42505669593811; Insert: 0.7177696228027344; Entities: 367616\n",
      "Sat May 20 00:44:21 2023 Processed: 368640 Encoding: 37.40157890319824; Insert: 0.7529234886169434; Entities: 368640\n",
      "Sat May 20 00:45:03 2023 Processed: 369664 Encoding: 37.48956322669983; Insert: 0.7693252563476562; Entities: 369664\n",
      "Sat May 20 00:45:46 2023 Processed: 370688 Encoding: 37.53352189064026; Insert: 0.8294329643249512; Entities: 370688\n",
      "Sat May 20 00:46:28 2023 Processed: 371712 Encoding: 37.51129627227783; Insert: 0.7244632244110107; Entities: 371712\n",
      "Sat May 20 00:47:10 2023 Processed: 372736 Encoding: 37.652517318725586; Insert: 0.7059483528137207; Entities: 372736\n",
      "Sat May 20 00:47:52 2023 Processed: 373760 Encoding: 37.189167737960815; Insert: 0.6647799015045166; Entities: 373760\n",
      "Sat May 20 00:48:34 2023 Processed: 374784 Encoding: 37.088576793670654; Insert: 0.6878340244293213; Entities: 374784\n",
      "Sat May 20 00:49:16 2023 Processed: 375808 Encoding: 37.677666664123535; Insert: 0.7318592071533203; Entities: 375808\n",
      "Sat May 20 00:49:58 2023 Processed: 376832 Encoding: 37.33917856216431; Insert: 0.6983559131622314; Entities: 376832\n",
      "Sat May 20 00:50:40 2023 Processed: 377856 Encoding: 37.3431236743927; Insert: 0.691725492477417; Entities: 377856\n",
      "Sat May 20 00:51:22 2023 Processed: 378880 Encoding: 36.999228954315186; Insert: 0.7673177719116211; Entities: 378880\n",
      "Sat May 20 00:52:03 2023 Processed: 379904 Encoding: 37.55052423477173; Insert: 0.7341749668121338; Entities: 379904\n",
      "Sat May 20 00:52:45 2023 Processed: 380928 Encoding: 37.67878842353821; Insert: 0.6825945377349854; Entities: 380928\n",
      "Sat May 20 00:53:27 2023 Processed: 381952 Encoding: 37.35732865333557; Insert: 0.6694009304046631; Entities: 381952\n",
      "Sat May 20 00:54:09 2023 Processed: 382976 Encoding: 37.44959592819214; Insert: 0.8045480251312256; Entities: 382976\n",
      "Sat May 20 00:54:50 2023 Processed: 384000 Encoding: 37.46562314033508; Insert: 0.8101654052734375; Entities: 384000\n",
      "Sat May 20 00:55:32 2023 Processed: 385024 Encoding: 37.18808031082153; Insert: 0.7145812511444092; Entities: 385024\n",
      "Sat May 20 00:56:15 2023 Processed: 386048 Encoding: 37.36924409866333; Insert: 0.7476086616516113; Entities: 386048\n",
      "Sat May 20 00:56:57 2023 Processed: 387072 Encoding: 37.53323817253113; Insert: 0.9153730869293213; Entities: 387072\n",
      "Sat May 20 00:57:39 2023 Processed: 388096 Encoding: 37.40766668319702; Insert: 0.7206070423126221; Entities: 388096\n",
      "Sat May 20 00:58:21 2023 Processed: 389120 Encoding: 37.582919120788574; Insert: 0.6996629238128662; Entities: 389120\n",
      "Sat May 20 00:59:04 2023 Processed: 390144 Encoding: 37.91952133178711; Insert: 0.7150726318359375; Entities: 390144\n",
      "Sat May 20 00:59:45 2023 Processed: 391168 Encoding: 37.05908513069153; Insert: 0.7395713329315186; Entities: 391168\n",
      "Sat May 20 01:00:27 2023 Processed: 392192 Encoding: 37.50158905982971; Insert: 0.6884903907775879; Entities: 392192\n",
      "Sat May 20 01:01:09 2023 Processed: 393216 Encoding: 37.34514904022217; Insert: 0.8173353672027588; Entities: 393216\n",
      "Sat May 20 01:01:51 2023 Processed: 394240 Encoding: 37.18322253227234; Insert: 0.7784488201141357; Entities: 394240\n",
      "Sat May 20 01:02:33 2023 Processed: 395264 Encoding: 37.470787048339844; Insert: 0.7380771636962891; Entities: 395264\n",
      "Sat May 20 01:03:15 2023 Processed: 396288 Encoding: 37.00847148895264; Insert: 0.7870445251464844; Entities: 396288\n",
      "Sat May 20 01:03:57 2023 Processed: 397312 Encoding: 37.308316707611084; Insert: 1.0836498737335205; Entities: 397312\n",
      "Sat May 20 01:04:34 2023 Processed: 398210 Encoding: 32.55342125892639; Insert: 0.6820619106292725; Entities: 398210\n"
     ]
    }
   ],
   "source": [
    "#img_emb, img_names = encode_images_cosine(img_model, img_names[:num_images])\n",
    "encode_images_cosine(img_model, img_names[:num_images])"
   ]
  },
  {
   "cell_type": "code",
   "execution_count": 13,
   "id": "d3c4d880",
   "metadata": {},
   "outputs": [
    {
     "data": {
      "text/plain": [
       "Status(code=0, message='')"
      ]
     },
     "execution_count": 13,
     "metadata": {},
     "output_type": "execute_result"
    }
   ],
   "source": [
    "#create an innner product metric for cosine similarity\n",
    "#inner product metric measures orientation\n",
    "index = {\n",
    "    \"index_type\": \"IVF_FLAT\",\n",
    "    \"metric_type\": \"IP\",\n",
    "    \"params\": {\"nlist\": 128}\n",
    "}\n",
    "fsdl_collection.create_index(\"embeddings\", index)"
   ]
  },
  {
   "cell_type": "code",
   "execution_count": null,
   "id": "d5a8710f",
   "metadata": {
    "tags": []
   },
   "outputs": [],
   "source": []
  },
  {
   "cell_type": "code",
   "execution_count": 14,
   "id": "342de82b",
   "metadata": {},
   "outputs": [],
   "source": [
    "#np.save(\"../data/abo-cosine.npy\", img_emb_np)"
   ]
  },
  {
   "cell_type": "code",
   "execution_count": 15,
   "id": "a0f933ef",
   "metadata": {},
   "outputs": [],
   "source": [
    "test_images = img_names[:2]"
   ]
  },
  {
   "cell_type": "code",
   "execution_count": 16,
   "id": "ef51bf7a",
   "metadata": {},
   "outputs": [],
   "source": [
    "emb_tensor = img_model.encode([Image.open(filepath) for filepath in test_images],\n",
    "                                        batch_size=128, convert_to_tensor=True, \n",
    "                                        show_progress_bar=False)"
   ]
  },
  {
   "cell_type": "code",
   "execution_count": 17,
   "id": "85957853",
   "metadata": {},
   "outputs": [],
   "source": [
    "entities = [\n",
    "            test_images,\n",
    "            emb_tensor.detach().numpy()\n",
    "        ]"
   ]
  },
  {
   "cell_type": "code",
   "execution_count": null,
   "id": "90115de9",
   "metadata": {},
   "outputs": [],
   "source": []
  },
  {
   "cell_type": "code",
   "execution_count": null,
   "id": "f75047d8",
   "metadata": {},
   "outputs": [],
   "source": []
  },
  {
   "cell_type": "code",
   "execution_count": null,
   "id": "3dce9c43",
   "metadata": {},
   "outputs": [],
   "source": []
  },
  {
   "cell_type": "code",
   "execution_count": null,
   "id": "fa3506fa",
   "metadata": {},
   "outputs": [],
   "source": []
  },
  {
   "cell_type": "code",
   "execution_count": 18,
   "id": "2283873a",
   "metadata": {},
   "outputs": [
    {
     "data": {
      "text/plain": [
       "<Collection>:\n",
       "-------------\n",
       "<name>: fsdl_ip\n",
       "<partitions>: [{\"name\": \"_default\", \"collection_name\": \"fsdl_ip\", \"description\": \"\"}]\n",
       "<description>: FDSL project embedding database\n",
       "<schema>: {\n",
       "  auto_id: False\n",
       "  description: FDSL project embedding database\n",
       "  fields: [{\n",
       "    name: img_name\n",
       "    description: \n",
       "    type: 21\n",
       "    params: {'max_length': 100}\n",
       "    is_primary: True\n",
       "    auto_id: False\n",
       "  }, {\n",
       "    name: embeddings\n",
       "    description: \n",
       "    type: 101\n",
       "    params: {'dim': 512}\n",
       "  }]\n",
       "}"
      ]
     },
     "execution_count": 18,
     "metadata": {},
     "output_type": "execute_result"
    }
   ],
   "source": [
    "fsdl_collection.load()\n",
    "fsdl_collection"
   ]
  },
  {
   "cell_type": "code",
   "execution_count": 19,
   "id": "dbc5a098",
   "metadata": {},
   "outputs": [
    {
     "data": {
      "text/plain": [
       "2"
      ]
     },
     "execution_count": 19,
     "metadata": {},
     "output_type": "execute_result"
    }
   ],
   "source": [
    "len(entities[-1][-2:])"
   ]
  },
  {
   "cell_type": "code",
   "execution_count": 20,
   "id": "3f8153ba",
   "metadata": {},
   "outputs": [
    {
     "name": "stdout",
     "output_type": "stream",
     "text": [
      "hit: (distance: 10.326423645019531, id: 401a5f0f), img_name: 401a5f0f\n",
      "hit: (distance: 10.002557754516602, id: 885653a3), img_name: 885653a3\n",
      "hit: (distance: 9.985244750976562, id: 35fe9f29), img_name: 35fe9f29\n",
      "hit: (distance: 10.690556526184082, id: 40443b02), img_name: 40443b02\n",
      "hit: (distance: 10.654426574707031, id: b8747b16), img_name: b8747b16\n",
      "hit: (distance: 9.944278717041016, id: 9ad835ca), img_name: 9ad835ca\n",
      "search latency = 0.5041s\n"
     ]
    }
   ],
   "source": [
    "vectors_to_search = entities[-1][-2:]\n",
    "search_params = {\n",
    "    \"metric_type\": \"IP\",\n",
    "    \"params\": {\"nprobe\": 10},\n",
    "}\n",
    "\n",
    "start_time = time.time()\n",
    "result = fsdl_collection.search(vectors_to_search, \"embeddings\", \n",
    "                                search_params, limit=3, output_fields=[\"img_name\"])\n",
    "end_time = time.time()\n",
    "\n",
    "for hits in result:\n",
    "    for hit in hits:\n",
    "        print(f\"hit: {hit}, img_name: {hit.entity.get('img_name')}\")\n",
    "print(search_latency_fmt.format(end_time-start_time))"
   ]
  },
  {
   "cell_type": "code",
   "execution_count": 21,
   "id": "440a8da6",
   "metadata": {},
   "outputs": [
    {
     "data": {
      "text/html": [
       "<style type=\"text/css\">\n",
       "</style>\n",
       "<table id=\"T_748b4_\">\n",
       "  <thead>\n",
       "    <tr>\n",
       "      <th class=\"blank level0\" >&nbsp;</th>\n",
       "      <th class=\"col_heading level0 col0\" >images</th>\n",
       "    </tr>\n",
       "  </thead>\n",
       "  <tbody>\n",
       "    <tr>\n",
       "      <th id=\"T_748b4_level0_row0\" class=\"row_heading level0 row0\" >0</th>\n",
       "      <td id=\"T_748b4_row0_col0\" class=\"data row0 col0\" ><a href=\"https://storage.googleapis.com/fsdl_images/semsearch/88aad2c1.jpg\">https://storage.googleapis.com/fsdl_images/semsearch/88aad2c1.jpg</a></td>\n",
       "    </tr>\n",
       "    <tr>\n",
       "      <th id=\"T_748b4_level0_row1\" class=\"row_heading level0 row1\" >1</th>\n",
       "      <td id=\"T_748b4_row1_col0\" class=\"data row1 col0\" ><a href=\"https://storage.googleapis.com/fsdl_images/semsearch/ce7b4545.jpg\">https://storage.googleapis.com/fsdl_images/semsearch/ce7b4545.jpg</a></td>\n",
       "    </tr>\n",
       "    <tr>\n",
       "      <th id=\"T_748b4_level0_row2\" class=\"row_heading level0 row2\" >2</th>\n",
       "      <td id=\"T_748b4_row2_col0\" class=\"data row2 col0\" ><a href=\"https://storage.googleapis.com/fsdl_images/semsearch/ef9286da.jpg\">https://storage.googleapis.com/fsdl_images/semsearch/ef9286da.jpg</a></td>\n",
       "    </tr>\n",
       "    <tr>\n",
       "      <th id=\"T_748b4_level0_row3\" class=\"row_heading level0 row3\" >3</th>\n",
       "      <td id=\"T_748b4_row3_col0\" class=\"data row3 col0\" ><a href=\"https://storage.googleapis.com/fsdl_images/semsearch/6f03bc7b.jpg\">https://storage.googleapis.com/fsdl_images/semsearch/6f03bc7b.jpg</a></td>\n",
       "    </tr>\n",
       "    <tr>\n",
       "      <th id=\"T_748b4_level0_row4\" class=\"row_heading level0 row4\" >4</th>\n",
       "      <td id=\"T_748b4_row4_col0\" class=\"data row4 col0\" ><a href=\"https://storage.googleapis.com/fsdl_images/semsearch/dc90f943.jpg\">https://storage.googleapis.com/fsdl_images/semsearch/dc90f943.jpg</a></td>\n",
       "    </tr>\n",
       "    <tr>\n",
       "      <th id=\"T_748b4_level0_row5\" class=\"row_heading level0 row5\" >5</th>\n",
       "      <td id=\"T_748b4_row5_col0\" class=\"data row5 col0\" ><a href=\"https://storage.googleapis.com/fsdl_images/semsearch/43bd06ef.jpg\">https://storage.googleapis.com/fsdl_images/semsearch/43bd06ef.jpg</a></td>\n",
       "    </tr>\n",
       "  </tbody>\n",
       "</table>\n"
      ],
      "text/plain": [
       "<pandas.io.formats.style.Styler at 0x7f55b1b1dd10>"
      ]
     },
     "execution_count": 21,
     "metadata": {},
     "output_type": "execute_result"
    }
   ],
   "source": [
    "import pandas as pd\n",
    "df = pd.DataFrame(['https://storage.googleapis.com/fsdl_images/semsearch/88aad2c1.jpg', \n",
    "                   'https://storage.googleapis.com/fsdl_images/semsearch/ce7b4545.jpg',\n",
    "                   'https://storage.googleapis.com/fsdl_images/semsearch/ef9286da.jpg',\n",
    "                   'https://storage.googleapis.com/fsdl_images/semsearch/6f03bc7b.jpg', \n",
    "                   'https://storage.googleapis.com/fsdl_images/semsearch/dc90f943.jpg',\n",
    "                   'https://storage.googleapis.com/fsdl_images/semsearch/43bd06ef.jpg'])\n",
    "df.columns=[\"images\"]\n",
    "\n",
    "def make_clickable(val):\n",
    "    return '<a href=\"{}\">{}</a>'.format(val,val)\n",
    "\n",
    "df.style.format(make_clickable)"
   ]
  },
  {
   "cell_type": "code",
   "execution_count": 22,
   "id": "564af3cb",
   "metadata": {},
   "outputs": [
    {
     "data": {
      "text/html": [
       "<table border=\"1\" class=\"dataframe\">\n",
       "  <thead>\n",
       "    <tr style=\"text-align: right;\">\n",
       "      <th></th>\n",
       "      <th>images</th>\n",
       "    </tr>\n",
       "  </thead>\n",
       "  <tbody>\n",
       "    <tr>\n",
       "      <th>0</th>\n",
       "      <td><img src=\"https://storage.googleapis.com/fsdl_images/semsearch/88aad2c1.jpg\" style=max-height:124px;\"/></td>\n",
       "    </tr>\n",
       "    <tr>\n",
       "      <th>1</th>\n",
       "      <td><img src=\"https://storage.googleapis.com/fsdl_images/semsearch/ce7b4545.jpg\" style=max-height:124px;\"/></td>\n",
       "    </tr>\n",
       "    <tr>\n",
       "      <th>2</th>\n",
       "      <td><img src=\"https://storage.googleapis.com/fsdl_images/semsearch/ef9286da.jpg\" style=max-height:124px;\"/></td>\n",
       "    </tr>\n",
       "    <tr>\n",
       "      <th>3</th>\n",
       "      <td><img src=\"https://storage.googleapis.com/fsdl_images/semsearch/6f03bc7b.jpg\" style=max-height:124px;\"/></td>\n",
       "    </tr>\n",
       "    <tr>\n",
       "      <th>4</th>\n",
       "      <td><img src=\"https://storage.googleapis.com/fsdl_images/semsearch/dc90f943.jpg\" style=max-height:124px;\"/></td>\n",
       "    </tr>\n",
       "    <tr>\n",
       "      <th>5</th>\n",
       "      <td><img src=\"https://storage.googleapis.com/fsdl_images/semsearch/43bd06ef.jpg\" style=max-height:124px;\"/></td>\n",
       "    </tr>\n",
       "  </tbody>\n",
       "</table>"
      ],
      "text/plain": [
       "<IPython.core.display.HTML object>"
      ]
     },
     "execution_count": 22,
     "metadata": {},
     "output_type": "execute_result"
    }
   ],
   "source": [
    "from IPython.display import Image, HTML\n",
    "\n",
    "def path_to_image_html(path):\n",
    "    '''\n",
    "     This function essentially convert the image url to \n",
    "     '<img src=\"'+ path + '\"/>' format. And one can put any\n",
    "     formatting adjustments to control the height, aspect ratio, size etc.\n",
    "     within as in the below example. \n",
    "    '''\n",
    "\n",
    "    return '<img src=\"'+ path + '\" style=max-height:124px;\"/>'\n",
    "\n",
    "HTML(df.to_html(escape=False ,formatters=dict(images=path_to_image_html)))"
   ]
  },
  {
   "cell_type": "code",
   "execution_count": 23,
   "id": "250ec841",
   "metadata": {},
   "outputs": [
    {
     "name": "stderr",
     "output_type": "stream",
     "text": [
      "ftfy or spacy is not installed using BERT BasicTokenizer instead of ftfy.\n"
     ]
    }
   ],
   "source": [
    "import semsearch\n",
    "from semsearch.encoding import clip_encoding\n"
   ]
  },
  {
   "cell_type": "code",
   "execution_count": 24,
   "id": "d8d61894",
   "metadata": {},
   "outputs": [
    {
     "data": {
      "text/plain": [
       "512"
      ]
     },
     "execution_count": 24,
     "metadata": {},
     "output_type": "execute_result"
    }
   ],
   "source": [
    "query_text =  \"black shoes\"\n",
    "query_embed = clip_encoding.get_text_embeddings(query_text).detach().numpy()\n",
    "len(query_embed[0])"
   ]
  },
  {
   "cell_type": "code",
   "execution_count": 25,
   "id": "01b10eb5",
   "metadata": {},
   "outputs": [
    {
     "name": "stdout",
     "output_type": "stream",
     "text": [
      "hit: (distance: 0.3150938153266907, id: 2cb595b3), img_name: 2cb595b3\n",
      "hit: (distance: 0.31228405237197876, id: 820ee923), img_name: 820ee923\n",
      "hit: (distance: 0.3102591037750244, id: 616383f4), img_name: 616383f4\n",
      "search latency = 0.4699s\n"
     ]
    }
   ],
   "source": [
    "vectors_to_search = [query_embed[0]]\n",
    "search_params = {\n",
    "    \"metric_type\": \"IP\",\n",
    "    \"params\": {\"nprobe\": 10},\n",
    "}\n",
    "\n",
    "start_time = time.time()\n",
    "result = fsdl_collection.search(vectors_to_search, \"embeddings\", \n",
    "                                search_params, limit=3, output_fields=[\"img_name\"])\n",
    "end_time = time.time()\n",
    "\n",
    "for hits in result:\n",
    "    for hit in hits:\n",
    "        print(f\"hit: {hit}, img_name: {hit.entity.get('img_name')}\")\n",
    "print(search_latency_fmt.format(end_time-start_time))"
   ]
  },
  {
   "cell_type": "code",
   "execution_count": 26,
   "id": "ba281e95",
   "metadata": {},
   "outputs": [
    {
     "data": {
      "text/html": [
       "<style type=\"text/css\">\n",
       "</style>\n",
       "<table id=\"T_b750c_\">\n",
       "  <thead>\n",
       "    <tr>\n",
       "      <th class=\"blank level0\" >&nbsp;</th>\n",
       "      <th class=\"col_heading level0 col0\" >images</th>\n",
       "    </tr>\n",
       "  </thead>\n",
       "  <tbody>\n",
       "    <tr>\n",
       "      <th id=\"T_b750c_level0_row0\" class=\"row_heading level0 row0\" >0</th>\n",
       "      <td id=\"T_b750c_row0_col0\" class=\"data row0 col0\" ><a href=\"https://storage.googleapis.com/fsdl_images/semsearch/269892fb.jpg\">https://storage.googleapis.com/fsdl_images/semsearch/269892fb.jpg</a></td>\n",
       "    </tr>\n",
       "    <tr>\n",
       "      <th id=\"T_b750c_level0_row1\" class=\"row_heading level0 row1\" >1</th>\n",
       "      <td id=\"T_b750c_row1_col0\" class=\"data row1 col0\" ><a href=\"https://storage.googleapis.com/fsdl_images/semsearch/a564aec1.jpg\">https://storage.googleapis.com/fsdl_images/semsearch/a564aec1.jpg</a></td>\n",
       "    </tr>\n",
       "    <tr>\n",
       "      <th id=\"T_b750c_level0_row2\" class=\"row_heading level0 row2\" >2</th>\n",
       "      <td id=\"T_b750c_row2_col0\" class=\"data row2 col0\" ><a href=\"https://storage.googleapis.com/fsdl_images/semsearch/340dd50c.jpg\">https://storage.googleapis.com/fsdl_images/semsearch/340dd50c.jpg</a></td>\n",
       "    </tr>\n",
       "  </tbody>\n",
       "</table>\n"
      ],
      "text/plain": [
       "<pandas.io.formats.style.Styler at 0x7f55b1fdfb90>"
      ]
     },
     "execution_count": 26,
     "metadata": {},
     "output_type": "execute_result"
    }
   ],
   "source": [
    "df = pd.DataFrame(['https://storage.googleapis.com/fsdl_images/semsearch/269892fb.jpg', \n",
    "                   'https://storage.googleapis.com/fsdl_images/semsearch/a564aec1.jpg',\n",
    "                   'https://storage.googleapis.com/fsdl_images/semsearch/340dd50c.jpg',\n",
    "                  ])\n",
    "df.columns=[\"images\"]\n",
    "\n",
    "def make_clickable(val):\n",
    "    return '<a href=\"{}\">{}</a>'.format(val,val)\n",
    "\n",
    "df.style.format(make_clickable)"
   ]
  },
  {
   "cell_type": "code",
   "execution_count": 27,
   "id": "b745cdb3",
   "metadata": {},
   "outputs": [
    {
     "data": {
      "text/html": [
       "<table border=\"1\" class=\"dataframe\">\n",
       "  <thead>\n",
       "    <tr style=\"text-align: right;\">\n",
       "      <th></th>\n",
       "      <th>images</th>\n",
       "    </tr>\n",
       "  </thead>\n",
       "  <tbody>\n",
       "    <tr>\n",
       "      <th>0</th>\n",
       "      <td><img src=\"https://storage.googleapis.com/fsdl_images/semsearch/269892fb.jpg\" style=max-height:124px;\"/></td>\n",
       "    </tr>\n",
       "    <tr>\n",
       "      <th>1</th>\n",
       "      <td><img src=\"https://storage.googleapis.com/fsdl_images/semsearch/a564aec1.jpg\" style=max-height:124px;\"/></td>\n",
       "    </tr>\n",
       "    <tr>\n",
       "      <th>2</th>\n",
       "      <td><img src=\"https://storage.googleapis.com/fsdl_images/semsearch/340dd50c.jpg\" style=max-height:124px;\"/></td>\n",
       "    </tr>\n",
       "  </tbody>\n",
       "</table>"
      ],
      "text/plain": [
       "<IPython.core.display.HTML object>"
      ]
     },
     "execution_count": 27,
     "metadata": {},
     "output_type": "execute_result"
    }
   ],
   "source": [
    "HTML(df.to_html(escape=False ,formatters=dict(images=path_to_image_html)))"
   ]
  },
  {
   "cell_type": "code",
   "execution_count": null,
   "id": "40d52a2a",
   "metadata": {},
   "outputs": [],
   "source": []
  }
 ],
 "metadata": {
  "kernelspec": {
   "display_name": "Python 3 (ipykernel)",
   "language": "python",
   "name": "python3"
  },
  "language_info": {
   "codemirror_mode": {
    "name": "ipython",
    "version": 3
   },
   "file_extension": ".py",
   "mimetype": "text/x-python",
   "name": "python",
   "nbconvert_exporter": "python",
   "pygments_lexer": "ipython3",
   "version": "3.7.13"
  }
 },
 "nbformat": 4,
 "nbformat_minor": 5
}
